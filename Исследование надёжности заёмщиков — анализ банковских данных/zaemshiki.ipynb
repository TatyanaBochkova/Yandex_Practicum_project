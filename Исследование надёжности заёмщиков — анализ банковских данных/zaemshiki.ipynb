{
 "cells": [
  {
   "cell_type": "markdown",
   "id": "7a9840a5",
   "metadata": {},
   "source": [
    "# Исследование надежности заемщиков."
   ]
  },
  {
   "cell_type": "markdown",
   "id": "28c4c2e9",
   "metadata": {},
   "source": [
    "### Шаг 1. Обзор данных"
   ]
  },
  {
   "cell_type": "markdown",
   "id": "46bd5e34",
   "metadata": {},
   "source": [
    "Заказчик — кредитный отдел банка. Разберемся, влияет ли семейное положение и количество детей клиента на факт погашения кредита в срок. Входные данные от банка — статистика о платёжеспособности клиентов.\n",
    "Результаты исследования могут быть учтены при построении модели кредитного скоринга — специальной системы, которая оценивает способность потенциального заёмщика вернуть кредит банку."
   ]
  },
  {
   "cell_type": "markdown",
   "id": "a415a59b",
   "metadata": {},
   "source": [
    "***Импортируем библиотеки***"
   ]
  },
  {
   "cell_type": "code",
   "execution_count": 1,
   "id": "b87e09f6",
   "metadata": {},
   "outputs": [],
   "source": [
    "import pandas as pd"
   ]
  },
  {
   "cell_type": "code",
   "execution_count": 2,
   "id": "41e95d08",
   "metadata": {},
   "outputs": [],
   "source": [
    "try:\n",
    "    data= pd.read_csv( r'D:\\Проекты яндекс-практикума\\data.csv')\n",
    "except:\n",
    "    data = pd.read_csv('/datasets/data.csv')  # Серверный путь"
   ]
  },
  {
   "cell_type": "code",
   "execution_count": 3,
   "id": "2bf6117b",
   "metadata": {},
   "outputs": [],
   "source": [
    "#data = pd.read_csv('/datasets/data.csv')\n",
    "#data"
   ]
  },
  {
   "cell_type": "markdown",
   "id": "19fa8391",
   "metadata": {},
   "source": [
    "### Шаг 2.1 Заполнение пропусков"
   ]
  },
  {
   "cell_type": "code",
   "execution_count": 4,
   "id": "4df18d1e",
   "metadata": {
    "scrolled": true
   },
   "outputs": [
    {
     "name": "stdout",
     "output_type": "stream",
     "text": [
      "<class 'pandas.core.frame.DataFrame'>\n",
      "RangeIndex: 21525 entries, 0 to 21524\n",
      "Data columns (total 12 columns):\n",
      " #   Column            Non-Null Count  Dtype  \n",
      "---  ------            --------------  -----  \n",
      " 0   children          21525 non-null  int64  \n",
      " 1   days_employed     19351 non-null  float64\n",
      " 2   dob_years         21525 non-null  int64  \n",
      " 3   education         21525 non-null  object \n",
      " 4   education_id      21525 non-null  int64  \n",
      " 5   family_status     21525 non-null  object \n",
      " 6   family_status_id  21525 non-null  int64  \n",
      " 7   gender            21525 non-null  object \n",
      " 8   income_type       21525 non-null  object \n",
      " 9   debt              21525 non-null  int64  \n",
      " 10  total_income      19351 non-null  float64\n",
      " 11  purpose           21525 non-null  object \n",
      "dtypes: float64(2), int64(5), object(5)\n",
      "memory usage: 2.0+ MB\n"
     ]
    }
   ],
   "source": [
    "data.info() \n",
    "#Среднее значение некорректно характеризует данные, когда некоторые значения сильно выделяются среди большинства (у нас именно такой случай)-поэтому заполняем пропуски медианным значением "
   ]
  },
  {
   "cell_type": "code",
   "execution_count": 5,
   "id": "24992291",
   "metadata": {},
   "outputs": [
    {
     "data": {
      "text/plain": [
       "children               0\n",
       "days_employed       2174\n",
       "dob_years              0\n",
       "education              0\n",
       "education_id           0\n",
       "family_status          0\n",
       "family_status_id       0\n",
       "gender                 0\n",
       "income_type            0\n",
       "debt                   0\n",
       "total_income        2174\n",
       "purpose                0\n",
       "dtype: int64"
      ]
     },
     "execution_count": 5,
     "metadata": {},
     "output_type": "execute_result"
    }
   ],
   "source": [
    "data.isnull().sum()#пропуски обнаружились в столбцах days_employed и total_income. Могли возникнуть от того, что человек работает неофициально - нет подтвержденного трудового стажа и ежемесячного дохода"
   ]
  },
  {
   "cell_type": "code",
   "execution_count": 6,
   "id": "de0ecee4",
   "metadata": {},
   "outputs": [
    {
     "data": {
      "text/plain": [
       "1203.369528770489"
      ]
     },
     "execution_count": 6,
     "metadata": {},
     "output_type": "execute_result"
    }
   ],
   "source": [
    "mediana_days_employed = data['days_employed'].median()#вычисляем медиану в столбце days_employed\n",
    "abs(mediana_days_employed)"
   ]
  },
  {
   "cell_type": "code",
   "execution_count": 7,
   "id": "ca07ff81",
   "metadata": {},
   "outputs": [
    {
     "data": {
      "text/plain": [
       "-8437.673028      1\n",
       "-3507.818775      1\n",
       " 354500.415854    1\n",
       "-769.717438       1\n",
       "-3963.590317      1\n",
       "                 ..\n",
       "-1099.957609      1\n",
       "-209.984794       1\n",
       " 398099.392433    1\n",
       "-1271.038880      1\n",
       "-1984.507589      1\n",
       "Name: days_employed, Length: 19351, dtype: int64"
      ]
     },
     "execution_count": 7,
     "metadata": {},
     "output_type": "execute_result"
    }
   ],
   "source": [
    "data['days_employed'].value_counts()"
   ]
  },
  {
   "cell_type": "code",
   "execution_count": 8,
   "id": "4a4527a1",
   "metadata": {},
   "outputs": [
    {
     "data": {
      "text/plain": [
       "145017.93753253992"
      ]
     },
     "execution_count": 8,
     "metadata": {},
     "output_type": "execute_result"
    }
   ],
   "source": [
    "mediana_total_income = data['total_income'].median()#вычисляем медиану в столбце total_income\n",
    "mediana_total_income"
   ]
  },
  {
   "cell_type": "code",
   "execution_count": 9,
   "id": "2302c4c2",
   "metadata": {},
   "outputs": [],
   "source": [
    "data['days_employed'] = data['days_employed'].fillna(mediana_days_employed)\n"
   ]
  },
  {
   "cell_type": "code",
   "execution_count": 10,
   "id": "181d2313",
   "metadata": {},
   "outputs": [],
   "source": [
    "data['total_income'] = data['total_income'].fillna(mediana_total_income)\n"
   ]
  },
  {
   "cell_type": "code",
   "execution_count": 11,
   "id": "38ceb4bf",
   "metadata": {
    "scrolled": true
   },
   "outputs": [
    {
     "data": {
      "text/plain": [
       "children            0\n",
       "days_employed       0\n",
       "dob_years           0\n",
       "education           0\n",
       "education_id        0\n",
       "family_status       0\n",
       "family_status_id    0\n",
       "gender              0\n",
       "income_type         0\n",
       "debt                0\n",
       "total_income        0\n",
       "purpose             0\n",
       "dtype: int64"
      ]
     },
     "execution_count": 11,
     "metadata": {},
     "output_type": "execute_result"
    }
   ],
   "source": [
    "data.isnull().sum()#проверяем, заполнились ли пропущенные значения. \n"
   ]
  },
  {
   "cell_type": "markdown",
   "id": "322f5e35",
   "metadata": {},
   "source": [
    "Почему использовали медиану:Среднее значение некорректно характеризует данные, когда некоторые значения сильно выделяются среди большинства (у нас именно такой случай)-поэтому заполняем пропуски медианным значением "
   ]
  },
  {
   "cell_type": "markdown",
   "id": "e4395cb0",
   "metadata": {},
   "source": [
    "### Шаг 2.2 Проверка данных на аномалии и исправления."
   ]
  },
  {
   "cell_type": "code",
   "execution_count": 12,
   "id": "5f33ebd6",
   "metadata": {},
   "outputs": [
    {
     "data": {
      "text/html": [
       "<div>\n",
       "<style scoped>\n",
       "    .dataframe tbody tr th:only-of-type {\n",
       "        vertical-align: middle;\n",
       "    }\n",
       "\n",
       "    .dataframe tbody tr th {\n",
       "        vertical-align: top;\n",
       "    }\n",
       "\n",
       "    .dataframe thead th {\n",
       "        text-align: right;\n",
       "    }\n",
       "</style>\n",
       "<table border=\"1\" class=\"dataframe\">\n",
       "  <thead>\n",
       "    <tr style=\"text-align: right;\">\n",
       "      <th></th>\n",
       "      <th>children</th>\n",
       "      <th>days_employed</th>\n",
       "      <th>dob_years</th>\n",
       "      <th>education</th>\n",
       "      <th>education_id</th>\n",
       "      <th>family_status</th>\n",
       "      <th>family_status_id</th>\n",
       "      <th>gender</th>\n",
       "      <th>income_type</th>\n",
       "      <th>debt</th>\n",
       "      <th>total_income</th>\n",
       "      <th>purpose</th>\n",
       "    </tr>\n",
       "  </thead>\n",
       "  <tbody>\n",
       "    <tr>\n",
       "      <th>0</th>\n",
       "      <td>1</td>\n",
       "      <td>-8437.673028</td>\n",
       "      <td>42</td>\n",
       "      <td>высшее</td>\n",
       "      <td>0</td>\n",
       "      <td>женат / замужем</td>\n",
       "      <td>0</td>\n",
       "      <td>F</td>\n",
       "      <td>сотрудник</td>\n",
       "      <td>0</td>\n",
       "      <td>253875.639453</td>\n",
       "      <td>покупка жилья</td>\n",
       "    </tr>\n",
       "    <tr>\n",
       "      <th>1</th>\n",
       "      <td>1</td>\n",
       "      <td>-4024.803754</td>\n",
       "      <td>36</td>\n",
       "      <td>среднее</td>\n",
       "      <td>1</td>\n",
       "      <td>женат / замужем</td>\n",
       "      <td>0</td>\n",
       "      <td>F</td>\n",
       "      <td>сотрудник</td>\n",
       "      <td>0</td>\n",
       "      <td>112080.014102</td>\n",
       "      <td>приобретение автомобиля</td>\n",
       "    </tr>\n",
       "    <tr>\n",
       "      <th>2</th>\n",
       "      <td>0</td>\n",
       "      <td>-5623.422610</td>\n",
       "      <td>33</td>\n",
       "      <td>Среднее</td>\n",
       "      <td>1</td>\n",
       "      <td>женат / замужем</td>\n",
       "      <td>0</td>\n",
       "      <td>M</td>\n",
       "      <td>сотрудник</td>\n",
       "      <td>0</td>\n",
       "      <td>145885.952297</td>\n",
       "      <td>покупка жилья</td>\n",
       "    </tr>\n",
       "    <tr>\n",
       "      <th>3</th>\n",
       "      <td>3</td>\n",
       "      <td>-4124.747207</td>\n",
       "      <td>32</td>\n",
       "      <td>среднее</td>\n",
       "      <td>1</td>\n",
       "      <td>женат / замужем</td>\n",
       "      <td>0</td>\n",
       "      <td>M</td>\n",
       "      <td>сотрудник</td>\n",
       "      <td>0</td>\n",
       "      <td>267628.550329</td>\n",
       "      <td>дополнительное образование</td>\n",
       "    </tr>\n",
       "    <tr>\n",
       "      <th>4</th>\n",
       "      <td>0</td>\n",
       "      <td>340266.072047</td>\n",
       "      <td>53</td>\n",
       "      <td>среднее</td>\n",
       "      <td>1</td>\n",
       "      <td>гражданский брак</td>\n",
       "      <td>1</td>\n",
       "      <td>F</td>\n",
       "      <td>пенсионер</td>\n",
       "      <td>0</td>\n",
       "      <td>158616.077870</td>\n",
       "      <td>сыграть свадьбу</td>\n",
       "    </tr>\n",
       "    <tr>\n",
       "      <th>5</th>\n",
       "      <td>0</td>\n",
       "      <td>-926.185831</td>\n",
       "      <td>27</td>\n",
       "      <td>высшее</td>\n",
       "      <td>0</td>\n",
       "      <td>гражданский брак</td>\n",
       "      <td>1</td>\n",
       "      <td>M</td>\n",
       "      <td>компаньон</td>\n",
       "      <td>0</td>\n",
       "      <td>255763.565419</td>\n",
       "      <td>покупка жилья</td>\n",
       "    </tr>\n",
       "    <tr>\n",
       "      <th>6</th>\n",
       "      <td>0</td>\n",
       "      <td>-2879.202052</td>\n",
       "      <td>43</td>\n",
       "      <td>высшее</td>\n",
       "      <td>0</td>\n",
       "      <td>женат / замужем</td>\n",
       "      <td>0</td>\n",
       "      <td>F</td>\n",
       "      <td>компаньон</td>\n",
       "      <td>0</td>\n",
       "      <td>240525.971920</td>\n",
       "      <td>операции с жильем</td>\n",
       "    </tr>\n",
       "    <tr>\n",
       "      <th>7</th>\n",
       "      <td>0</td>\n",
       "      <td>-152.779569</td>\n",
       "      <td>50</td>\n",
       "      <td>СРЕДНЕЕ</td>\n",
       "      <td>1</td>\n",
       "      <td>женат / замужем</td>\n",
       "      <td>0</td>\n",
       "      <td>M</td>\n",
       "      <td>сотрудник</td>\n",
       "      <td>0</td>\n",
       "      <td>135823.934197</td>\n",
       "      <td>образование</td>\n",
       "    </tr>\n",
       "    <tr>\n",
       "      <th>8</th>\n",
       "      <td>2</td>\n",
       "      <td>-6929.865299</td>\n",
       "      <td>35</td>\n",
       "      <td>ВЫСШЕЕ</td>\n",
       "      <td>0</td>\n",
       "      <td>гражданский брак</td>\n",
       "      <td>1</td>\n",
       "      <td>F</td>\n",
       "      <td>сотрудник</td>\n",
       "      <td>0</td>\n",
       "      <td>95856.832424</td>\n",
       "      <td>на проведение свадьбы</td>\n",
       "    </tr>\n",
       "    <tr>\n",
       "      <th>9</th>\n",
       "      <td>0</td>\n",
       "      <td>-2188.756445</td>\n",
       "      <td>41</td>\n",
       "      <td>среднее</td>\n",
       "      <td>1</td>\n",
       "      <td>женат / замужем</td>\n",
       "      <td>0</td>\n",
       "      <td>M</td>\n",
       "      <td>сотрудник</td>\n",
       "      <td>0</td>\n",
       "      <td>144425.938277</td>\n",
       "      <td>покупка жилья для семьи</td>\n",
       "    </tr>\n",
       "    <tr>\n",
       "      <th>10</th>\n",
       "      <td>2</td>\n",
       "      <td>-4171.483647</td>\n",
       "      <td>36</td>\n",
       "      <td>высшее</td>\n",
       "      <td>0</td>\n",
       "      <td>женат / замужем</td>\n",
       "      <td>0</td>\n",
       "      <td>M</td>\n",
       "      <td>компаньон</td>\n",
       "      <td>0</td>\n",
       "      <td>113943.491460</td>\n",
       "      <td>покупка недвижимости</td>\n",
       "    </tr>\n",
       "    <tr>\n",
       "      <th>11</th>\n",
       "      <td>0</td>\n",
       "      <td>-792.701887</td>\n",
       "      <td>40</td>\n",
       "      <td>среднее</td>\n",
       "      <td>1</td>\n",
       "      <td>женат / замужем</td>\n",
       "      <td>0</td>\n",
       "      <td>F</td>\n",
       "      <td>сотрудник</td>\n",
       "      <td>0</td>\n",
       "      <td>77069.234271</td>\n",
       "      <td>покупка коммерческой недвижимости</td>\n",
       "    </tr>\n",
       "    <tr>\n",
       "      <th>12</th>\n",
       "      <td>0</td>\n",
       "      <td>-1203.369529</td>\n",
       "      <td>65</td>\n",
       "      <td>среднее</td>\n",
       "      <td>1</td>\n",
       "      <td>гражданский брак</td>\n",
       "      <td>1</td>\n",
       "      <td>M</td>\n",
       "      <td>пенсионер</td>\n",
       "      <td>0</td>\n",
       "      <td>145017.937533</td>\n",
       "      <td>сыграть свадьбу</td>\n",
       "    </tr>\n",
       "    <tr>\n",
       "      <th>13</th>\n",
       "      <td>0</td>\n",
       "      <td>-1846.641941</td>\n",
       "      <td>54</td>\n",
       "      <td>неоконченное высшее</td>\n",
       "      <td>2</td>\n",
       "      <td>женат / замужем</td>\n",
       "      <td>0</td>\n",
       "      <td>F</td>\n",
       "      <td>сотрудник</td>\n",
       "      <td>0</td>\n",
       "      <td>130458.228857</td>\n",
       "      <td>приобретение автомобиля</td>\n",
       "    </tr>\n",
       "    <tr>\n",
       "      <th>14</th>\n",
       "      <td>0</td>\n",
       "      <td>-1844.956182</td>\n",
       "      <td>56</td>\n",
       "      <td>высшее</td>\n",
       "      <td>0</td>\n",
       "      <td>гражданский брак</td>\n",
       "      <td>1</td>\n",
       "      <td>F</td>\n",
       "      <td>компаньон</td>\n",
       "      <td>1</td>\n",
       "      <td>165127.911772</td>\n",
       "      <td>покупка жилой недвижимости</td>\n",
       "    </tr>\n",
       "  </tbody>\n",
       "</table>\n",
       "</div>"
      ],
      "text/plain": [
       "    children  days_employed  dob_years            education  education_id  \\\n",
       "0          1   -8437.673028         42               высшее             0   \n",
       "1          1   -4024.803754         36              среднее             1   \n",
       "2          0   -5623.422610         33              Среднее             1   \n",
       "3          3   -4124.747207         32              среднее             1   \n",
       "4          0  340266.072047         53              среднее             1   \n",
       "5          0    -926.185831         27               высшее             0   \n",
       "6          0   -2879.202052         43               высшее             0   \n",
       "7          0    -152.779569         50              СРЕДНЕЕ             1   \n",
       "8          2   -6929.865299         35               ВЫСШЕЕ             0   \n",
       "9          0   -2188.756445         41              среднее             1   \n",
       "10         2   -4171.483647         36               высшее             0   \n",
       "11         0    -792.701887         40              среднее             1   \n",
       "12         0   -1203.369529         65              среднее             1   \n",
       "13         0   -1846.641941         54  неоконченное высшее             2   \n",
       "14         0   -1844.956182         56               высшее             0   \n",
       "\n",
       "       family_status  family_status_id gender income_type  debt  \\\n",
       "0    женат / замужем                 0      F   сотрудник     0   \n",
       "1    женат / замужем                 0      F   сотрудник     0   \n",
       "2    женат / замужем                 0      M   сотрудник     0   \n",
       "3    женат / замужем                 0      M   сотрудник     0   \n",
       "4   гражданский брак                 1      F   пенсионер     0   \n",
       "5   гражданский брак                 1      M   компаньон     0   \n",
       "6    женат / замужем                 0      F   компаньон     0   \n",
       "7    женат / замужем                 0      M   сотрудник     0   \n",
       "8   гражданский брак                 1      F   сотрудник     0   \n",
       "9    женат / замужем                 0      M   сотрудник     0   \n",
       "10   женат / замужем                 0      M   компаньон     0   \n",
       "11   женат / замужем                 0      F   сотрудник     0   \n",
       "12  гражданский брак                 1      M   пенсионер     0   \n",
       "13   женат / замужем                 0      F   сотрудник     0   \n",
       "14  гражданский брак                 1      F   компаньон     1   \n",
       "\n",
       "     total_income                            purpose  \n",
       "0   253875.639453                      покупка жилья  \n",
       "1   112080.014102            приобретение автомобиля  \n",
       "2   145885.952297                      покупка жилья  \n",
       "3   267628.550329         дополнительное образование  \n",
       "4   158616.077870                    сыграть свадьбу  \n",
       "5   255763.565419                      покупка жилья  \n",
       "6   240525.971920                  операции с жильем  \n",
       "7   135823.934197                        образование  \n",
       "8    95856.832424              на проведение свадьбы  \n",
       "9   144425.938277            покупка жилья для семьи  \n",
       "10  113943.491460               покупка недвижимости  \n",
       "11   77069.234271  покупка коммерческой недвижимости  \n",
       "12  145017.937533                    сыграть свадьбу  \n",
       "13  130458.228857            приобретение автомобиля  \n",
       "14  165127.911772         покупка жилой недвижимости  "
      ]
     },
     "execution_count": 12,
     "metadata": {},
     "output_type": "execute_result"
    }
   ],
   "source": [
    "data.head(15)"
   ]
  },
  {
   "cell_type": "code",
   "execution_count": 13,
   "id": "1ed98678",
   "metadata": {},
   "outputs": [],
   "source": [
    "data['education'] = data['education'].str.lower()#убираем заглавные буквы из столбца education\n"
   ]
  },
  {
   "cell_type": "code",
   "execution_count": 14,
   "id": "bf7d4898",
   "metadata": {},
   "outputs": [],
   "source": [
    "data['gender'] = data['gender'].str.lower()#убираем заглавные буквы из столбца gender"
   ]
  },
  {
   "cell_type": "code",
   "execution_count": 15,
   "id": "422cc0c2",
   "metadata": {
    "scrolled": false
   },
   "outputs": [
    {
     "data": {
      "text/html": [
       "<div>\n",
       "<style scoped>\n",
       "    .dataframe tbody tr th:only-of-type {\n",
       "        vertical-align: middle;\n",
       "    }\n",
       "\n",
       "    .dataframe tbody tr th {\n",
       "        vertical-align: top;\n",
       "    }\n",
       "\n",
       "    .dataframe thead th {\n",
       "        text-align: right;\n",
       "    }\n",
       "</style>\n",
       "<table border=\"1\" class=\"dataframe\">\n",
       "  <thead>\n",
       "    <tr style=\"text-align: right;\">\n",
       "      <th></th>\n",
       "      <th>children</th>\n",
       "      <th>dob_years</th>\n",
       "      <th>education</th>\n",
       "      <th>education_id</th>\n",
       "      <th>family_status</th>\n",
       "      <th>family_status_id</th>\n",
       "      <th>gender</th>\n",
       "      <th>income_type</th>\n",
       "      <th>debt</th>\n",
       "      <th>total_income</th>\n",
       "      <th>purpose</th>\n",
       "    </tr>\n",
       "  </thead>\n",
       "  <tbody>\n",
       "    <tr>\n",
       "      <th>0</th>\n",
       "      <td>1</td>\n",
       "      <td>42</td>\n",
       "      <td>высшее</td>\n",
       "      <td>0</td>\n",
       "      <td>женат / замужем</td>\n",
       "      <td>0</td>\n",
       "      <td>f</td>\n",
       "      <td>сотрудник</td>\n",
       "      <td>0</td>\n",
       "      <td>253875.639453</td>\n",
       "      <td>покупка жилья</td>\n",
       "    </tr>\n",
       "    <tr>\n",
       "      <th>1</th>\n",
       "      <td>1</td>\n",
       "      <td>36</td>\n",
       "      <td>среднее</td>\n",
       "      <td>1</td>\n",
       "      <td>женат / замужем</td>\n",
       "      <td>0</td>\n",
       "      <td>f</td>\n",
       "      <td>сотрудник</td>\n",
       "      <td>0</td>\n",
       "      <td>112080.014102</td>\n",
       "      <td>приобретение автомобиля</td>\n",
       "    </tr>\n",
       "    <tr>\n",
       "      <th>2</th>\n",
       "      <td>0</td>\n",
       "      <td>33</td>\n",
       "      <td>среднее</td>\n",
       "      <td>1</td>\n",
       "      <td>женат / замужем</td>\n",
       "      <td>0</td>\n",
       "      <td>m</td>\n",
       "      <td>сотрудник</td>\n",
       "      <td>0</td>\n",
       "      <td>145885.952297</td>\n",
       "      <td>покупка жилья</td>\n",
       "    </tr>\n",
       "    <tr>\n",
       "      <th>3</th>\n",
       "      <td>3</td>\n",
       "      <td>32</td>\n",
       "      <td>среднее</td>\n",
       "      <td>1</td>\n",
       "      <td>женат / замужем</td>\n",
       "      <td>0</td>\n",
       "      <td>m</td>\n",
       "      <td>сотрудник</td>\n",
       "      <td>0</td>\n",
       "      <td>267628.550329</td>\n",
       "      <td>дополнительное образование</td>\n",
       "    </tr>\n",
       "    <tr>\n",
       "      <th>4</th>\n",
       "      <td>0</td>\n",
       "      <td>53</td>\n",
       "      <td>среднее</td>\n",
       "      <td>1</td>\n",
       "      <td>гражданский брак</td>\n",
       "      <td>1</td>\n",
       "      <td>f</td>\n",
       "      <td>пенсионер</td>\n",
       "      <td>0</td>\n",
       "      <td>158616.077870</td>\n",
       "      <td>сыграть свадьбу</td>\n",
       "    </tr>\n",
       "  </tbody>\n",
       "</table>\n",
       "</div>"
      ],
      "text/plain": [
       "   children  dob_years education  education_id     family_status  \\\n",
       "0         1         42    высшее             0   женат / замужем   \n",
       "1         1         36   среднее             1   женат / замужем   \n",
       "2         0         33   среднее             1   женат / замужем   \n",
       "3         3         32   среднее             1   женат / замужем   \n",
       "4         0         53   среднее             1  гражданский брак   \n",
       "\n",
       "   family_status_id gender income_type  debt   total_income  \\\n",
       "0                 0      f   сотрудник     0  253875.639453   \n",
       "1                 0      f   сотрудник     0  112080.014102   \n",
       "2                 0      m   сотрудник     0  145885.952297   \n",
       "3                 0      m   сотрудник     0  267628.550329   \n",
       "4                 1      f   пенсионер     0  158616.077870   \n",
       "\n",
       "                      purpose  \n",
       "0               покупка жилья  \n",
       "1     приобретение автомобиля  \n",
       "2               покупка жилья  \n",
       "3  дополнительное образование  \n",
       "4             сыграть свадьбу  "
      ]
     },
     "execution_count": 15,
     "metadata": {},
     "output_type": "execute_result"
    }
   ],
   "source": [
    "data = data.drop(columns=['days_employed'])#удаляем столбец days_employed\tтак как больше он нигде не используется\n",
    "data.head(5) "
   ]
  },
  {
   "cell_type": "code",
   "execution_count": 16,
   "id": "89405fbf",
   "metadata": {},
   "outputs": [
    {
     "data": {
      "text/plain": [
       "array([ 1,  0,  3,  2, -1,  4, 20,  5], dtype=int64)"
      ]
     },
     "execution_count": 16,
     "metadata": {},
     "output_type": "execute_result"
    }
   ],
   "source": [
    "data['children'].unique()#смотрим уникальные значения в столбце"
   ]
  },
  {
   "cell_type": "code",
   "execution_count": 17,
   "id": "5b116b6f",
   "metadata": {},
   "outputs": [],
   "source": [
    "data['children']=data['children'].abs()#избавляемся от -1 ребенка, скорее всего это опечатка))\n"
   ]
  },
  {
   "cell_type": "code",
   "execution_count": 18,
   "id": "50b5ece6",
   "metadata": {},
   "outputs": [
    {
     "data": {
      "text/plain": [
       "array(['f', 'm', 'xna'], dtype=object)"
      ]
     },
     "execution_count": 18,
     "metadata": {},
     "output_type": "execute_result"
    }
   ],
   "source": [
    "data['gender'].unique()#смотрим уникальные значения в столбце"
   ]
  },
  {
   "cell_type": "markdown",
   "id": "dfd113b3",
   "metadata": {},
   "source": [
    "20 детей- тоже сомнение. Но это могут быть усыновленные дети (такое бывает), поэтому решила оставить это значение"
   ]
  },
  {
   "cell_type": "markdown",
   "id": "c4ea28f1",
   "metadata": {},
   "source": [
    "### Шаг 2.3. Изменение типов данных."
   ]
  },
  {
   "cell_type": "code",
   "execution_count": 19,
   "id": "927d8ba0",
   "metadata": {},
   "outputs": [
    {
     "name": "stdout",
     "output_type": "stream",
     "text": [
      "<class 'pandas.core.frame.DataFrame'>\n",
      "RangeIndex: 21525 entries, 0 to 21524\n",
      "Data columns (total 11 columns):\n",
      " #   Column            Non-Null Count  Dtype \n",
      "---  ------            --------------  ----- \n",
      " 0   children          21525 non-null  int64 \n",
      " 1   dob_years         21525 non-null  int64 \n",
      " 2   education         21525 non-null  object\n",
      " 3   education_id      21525 non-null  int64 \n",
      " 4   family_status     21525 non-null  object\n",
      " 5   family_status_id  21525 non-null  int64 \n",
      " 6   gender            21525 non-null  object\n",
      " 7   income_type       21525 non-null  object\n",
      " 8   debt              21525 non-null  int64 \n",
      " 9   total_income      21525 non-null  int32 \n",
      " 10  purpose           21525 non-null  object\n",
      "dtypes: int32(1), int64(5), object(5)\n",
      "memory usage: 1.7+ MB\n"
     ]
    }
   ],
   "source": [
    "data['total_income'] = data['total_income'].astype('int')#заменяем total_income на int\n",
    "data.info()#проверяем"
   ]
  },
  {
   "cell_type": "markdown",
   "id": "cf49039f",
   "metadata": {},
   "source": [
    "### Шаг 2.4. Удаление дубликатов."
   ]
  },
  {
   "cell_type": "code",
   "execution_count": 20,
   "id": "40fb112e",
   "metadata": {},
   "outputs": [
    {
     "data": {
      "text/plain": [
       "свадьба                                   797\n",
       "на проведение свадьбы                     777\n",
       "сыграть свадьбу                           774\n",
       "операции с недвижимостью                  676\n",
       "покупка коммерческой недвижимости         664\n",
       "покупка жилья для сдачи                   653\n",
       "операции с жильем                         653\n",
       "операции с коммерческой недвижимостью     651\n",
       "покупка жилья                             647\n",
       "жилье                                     647\n",
       "покупка жилья для семьи                   641\n",
       "строительство собственной недвижимости    635\n",
       "недвижимость                              634\n",
       "операции со своей недвижимостью           630\n",
       "строительство жилой недвижимости          626\n",
       "покупка недвижимости                      624\n",
       "строительство недвижимости                620\n",
       "покупка своего жилья                      620\n",
       "ремонт жилью                              612\n",
       "покупка жилой недвижимости                607\n",
       "на покупку своего автомобиля              505\n",
       "заняться высшим образованием              496\n",
       "автомобиль                                495\n",
       "сделка с подержанным автомобилем          489\n",
       "свой автомобиль                           480\n",
       "на покупку подержанного автомобиля        479\n",
       "автомобили                                478\n",
       "на покупку автомобиля                     472\n",
       "дополнительное образование                462\n",
       "приобретение автомобиля                   462\n",
       "сделка с автомобилем                      455\n",
       "высшее образование                        453\n",
       "образование                               447\n",
       "получение дополнительного образования     447\n",
       "получение образования                     443\n",
       "профильное образование                    436\n",
       "получение высшего образования             426\n",
       "заняться образованием                     412\n",
       "Name: purpose, dtype: int64"
      ]
     },
     "execution_count": 20,
     "metadata": {},
     "output_type": "execute_result"
    }
   ],
   "source": [
    "data['purpose'].value_counts()#проверяем дубликаты в столбце purpose"
   ]
  },
  {
   "cell_type": "code",
   "execution_count": 21,
   "id": "d2368b85",
   "metadata": {},
   "outputs": [
    {
     "data": {
      "text/plain": [
       "среднее                15233\n",
       "высшее                  5260\n",
       "неоконченное высшее      744\n",
       "начальное                282\n",
       "ученая степень             6\n",
       "Name: education, dtype: int64"
      ]
     },
     "execution_count": 21,
     "metadata": {},
     "output_type": "execute_result"
    }
   ],
   "source": [
    "data['education'].value_counts()#проверяем дубликаты в столбце education - выясняем что их нет"
   ]
  },
  {
   "cell_type": "code",
   "execution_count": 22,
   "id": "266ad8c6",
   "metadata": {},
   "outputs": [
    {
     "data": {
      "text/plain": [
       "женат / замужем          12380\n",
       "гражданский брак          4177\n",
       "Не женат / не замужем     2813\n",
       "в разводе                 1195\n",
       "вдовец / вдова             960\n",
       "Name: family_status, dtype: int64"
      ]
     },
     "execution_count": 22,
     "metadata": {},
     "output_type": "execute_result"
    }
   ],
   "source": [
    "data['family_status'].value_counts()#проверяем дубликаты в столбце family_status- выясняем что их нет"
   ]
  },
  {
   "cell_type": "code",
   "execution_count": 23,
   "id": "bab2823e",
   "metadata": {
    "scrolled": true
   },
   "outputs": [
    {
     "data": {
      "text/plain": [
       "сотрудник          11119\n",
       "компаньон           5085\n",
       "пенсионер           3856\n",
       "госслужащий         1459\n",
       "безработный            2\n",
       "предприниматель        2\n",
       "студент                1\n",
       "в декрете              1\n",
       "Name: income_type, dtype: int64"
      ]
     },
     "execution_count": 23,
     "metadata": {},
     "output_type": "execute_result"
    }
   ],
   "source": [
    "data['income_type'].value_counts()#проверяем дубликаты в столбце income_type- выясняем что их нет"
   ]
  },
  {
   "cell_type": "code",
   "execution_count": 24,
   "id": "3aead85e",
   "metadata": {},
   "outputs": [
    {
     "data": {
      "text/plain": [
       "array(['покупка жилья', 'приобретение автомобиля',\n",
       "       'дополнительное образование', 'сыграть свадьбу',\n",
       "       'операции с жильем', 'образование', 'на проведение свадьбы',\n",
       "       'покупка жилья для семьи', 'покупка недвижимости',\n",
       "       'покупка коммерческой недвижимости', 'покупка жилой недвижимости',\n",
       "       'строительство собственной недвижимости', 'недвижимость',\n",
       "       'строительство недвижимости', 'на покупку подержанного автомобиля',\n",
       "       'на покупку своего автомобиля',\n",
       "       'операции с коммерческой недвижимостью',\n",
       "       'строительство жилой недвижимости', 'жилье',\n",
       "       'операции со своей недвижимостью', 'автомобили',\n",
       "       'заняться образованием', 'сделка с подержанным автомобилем',\n",
       "       'получение образования', 'автомобиль', 'свадьба',\n",
       "       'получение дополнительного образования', 'покупка своего жилья',\n",
       "       'операции с недвижимостью', 'получение высшего образования',\n",
       "       'свой автомобиль', 'сделка с автомобилем',\n",
       "       'профильное образование', 'высшее образование',\n",
       "       'покупка жилья для сдачи', 'на покупку автомобиля', 'ремонт жилью',\n",
       "       'заняться высшим образованием'], dtype=object)"
      ]
     },
     "execution_count": 24,
     "metadata": {},
     "output_type": "execute_result"
    }
   ],
   "source": [
    "data['purpose'].unique()"
   ]
  },
  {
   "cell_type": "markdown",
   "id": "6eafa24d",
   "metadata": {},
   "source": [
    "### Шаг 2.5. Формирование дополнительных датафреймов словарей, декомпозиция исходного датафрейма."
   ]
  },
  {
   "cell_type": "code",
   "execution_count": 25,
   "id": "690215ea",
   "metadata": {},
   "outputs": [
    {
     "data": {
      "text/html": [
       "<div>\n",
       "<style scoped>\n",
       "    .dataframe tbody tr th:only-of-type {\n",
       "        vertical-align: middle;\n",
       "    }\n",
       "\n",
       "    .dataframe tbody tr th {\n",
       "        vertical-align: top;\n",
       "    }\n",
       "\n",
       "    .dataframe thead th {\n",
       "        text-align: right;\n",
       "    }\n",
       "</style>\n",
       "<table border=\"1\" class=\"dataframe\">\n",
       "  <thead>\n",
       "    <tr style=\"text-align: right;\">\n",
       "      <th></th>\n",
       "      <th>education</th>\n",
       "      <th>education_id</th>\n",
       "    </tr>\n",
       "  </thead>\n",
       "  <tbody>\n",
       "    <tr>\n",
       "      <th>0</th>\n",
       "      <td>высшее</td>\n",
       "      <td>0</td>\n",
       "    </tr>\n",
       "    <tr>\n",
       "      <th>1</th>\n",
       "      <td>среднее</td>\n",
       "      <td>1</td>\n",
       "    </tr>\n",
       "    <tr>\n",
       "      <th>2</th>\n",
       "      <td>среднее</td>\n",
       "      <td>1</td>\n",
       "    </tr>\n",
       "    <tr>\n",
       "      <th>3</th>\n",
       "      <td>среднее</td>\n",
       "      <td>1</td>\n",
       "    </tr>\n",
       "    <tr>\n",
       "      <th>4</th>\n",
       "      <td>среднее</td>\n",
       "      <td>1</td>\n",
       "    </tr>\n",
       "    <tr>\n",
       "      <th>5</th>\n",
       "      <td>высшее</td>\n",
       "      <td>0</td>\n",
       "    </tr>\n",
       "    <tr>\n",
       "      <th>6</th>\n",
       "      <td>высшее</td>\n",
       "      <td>0</td>\n",
       "    </tr>\n",
       "    <tr>\n",
       "      <th>7</th>\n",
       "      <td>среднее</td>\n",
       "      <td>1</td>\n",
       "    </tr>\n",
       "    <tr>\n",
       "      <th>8</th>\n",
       "      <td>высшее</td>\n",
       "      <td>0</td>\n",
       "    </tr>\n",
       "    <tr>\n",
       "      <th>9</th>\n",
       "      <td>среднее</td>\n",
       "      <td>1</td>\n",
       "    </tr>\n",
       "  </tbody>\n",
       "</table>\n",
       "</div>"
      ],
      "text/plain": [
       "  education  education_id\n",
       "0    высшее             0\n",
       "1   среднее             1\n",
       "2   среднее             1\n",
       "3   среднее             1\n",
       "4   среднее             1\n",
       "5    высшее             0\n",
       "6    высшее             0\n",
       "7   среднее             1\n",
       "8    высшее             0\n",
       "9   среднее             1"
      ]
     },
     "execution_count": 25,
     "metadata": {},
     "output_type": "execute_result"
    }
   ],
   "source": [
    "education_log = data[['education','education_id']] # создаем \"словари\" для столбцов образования\n",
    "education_log.head(10)"
   ]
  },
  {
   "cell_type": "code",
   "execution_count": 26,
   "id": "e1c96a71",
   "metadata": {},
   "outputs": [
    {
     "name": "stdout",
     "output_type": "stream",
     "text": [
      "      family_status  family_status_id\n",
      "0   женат / замужем                 0\n",
      "1   женат / замужем                 0\n",
      "2   женат / замужем                 0\n",
      "3   женат / замужем                 0\n",
      "4  гражданский брак                 1\n",
      "5  гражданский брак                 1\n",
      "6   женат / замужем                 0\n",
      "7   женат / замужем                 0\n",
      "8  гражданский брак                 1\n",
      "9   женат / замужем                 0\n"
     ]
    }
   ],
   "source": [
    "family_status_log = data[['family_status','family_status_id']] # создаем \"словари\" для столбцов семейного положения\n",
    "print(family_status_log.head(10))"
   ]
  },
  {
   "cell_type": "code",
   "execution_count": 27,
   "id": "55df313e",
   "metadata": {
    "scrolled": true
   },
   "outputs": [
    {
     "name": "stdout",
     "output_type": "stream",
     "text": [
      "             education  education_id\n",
      "0               высшее             0\n",
      "1              среднее             1\n",
      "2  неоконченное высшее             2\n",
      "3            начальное             3\n",
      "4       ученая степень             4\n"
     ]
    }
   ],
   "source": [
    "education_log = education_log.drop_duplicates().reset_index(drop=True)\n",
    "print(education_log.head()) #удаляем дубликаты в \"словаре\""
   ]
  },
  {
   "cell_type": "code",
   "execution_count": 28,
   "id": "b87b03e6",
   "metadata": {},
   "outputs": [
    {
     "name": "stdout",
     "output_type": "stream",
     "text": [
      "           family_status  family_status_id\n",
      "0        женат / замужем                 0\n",
      "1       гражданский брак                 1\n",
      "2         вдовец / вдова                 2\n",
      "3              в разводе                 3\n",
      "4  Не женат / не замужем                 4\n"
     ]
    }
   ],
   "source": [
    "family_status_log = family_status_log.drop_duplicates().reset_index(drop=True)\n",
    "print(family_status_log.head()) #удаляем дубликаты в \"словаре\""
   ]
  },
  {
   "cell_type": "code",
   "execution_count": 29,
   "id": "5e661c7b",
   "metadata": {},
   "outputs": [
    {
     "data": {
      "text/html": [
       "<div>\n",
       "<style scoped>\n",
       "    .dataframe tbody tr th:only-of-type {\n",
       "        vertical-align: middle;\n",
       "    }\n",
       "\n",
       "    .dataframe tbody tr th {\n",
       "        vertical-align: top;\n",
       "    }\n",
       "\n",
       "    .dataframe thead th {\n",
       "        text-align: right;\n",
       "    }\n",
       "</style>\n",
       "<table border=\"1\" class=\"dataframe\">\n",
       "  <thead>\n",
       "    <tr style=\"text-align: right;\">\n",
       "      <th></th>\n",
       "      <th>children</th>\n",
       "      <th>dob_years</th>\n",
       "      <th>education_id</th>\n",
       "      <th>family_status_id</th>\n",
       "      <th>gender</th>\n",
       "      <th>income_type</th>\n",
       "      <th>debt</th>\n",
       "      <th>total_income</th>\n",
       "      <th>purpose</th>\n",
       "    </tr>\n",
       "  </thead>\n",
       "  <tbody>\n",
       "    <tr>\n",
       "      <th>0</th>\n",
       "      <td>1</td>\n",
       "      <td>42</td>\n",
       "      <td>0</td>\n",
       "      <td>0</td>\n",
       "      <td>f</td>\n",
       "      <td>сотрудник</td>\n",
       "      <td>0</td>\n",
       "      <td>253875</td>\n",
       "      <td>покупка жилья</td>\n",
       "    </tr>\n",
       "    <tr>\n",
       "      <th>1</th>\n",
       "      <td>1</td>\n",
       "      <td>36</td>\n",
       "      <td>1</td>\n",
       "      <td>0</td>\n",
       "      <td>f</td>\n",
       "      <td>сотрудник</td>\n",
       "      <td>0</td>\n",
       "      <td>112080</td>\n",
       "      <td>приобретение автомобиля</td>\n",
       "    </tr>\n",
       "    <tr>\n",
       "      <th>2</th>\n",
       "      <td>0</td>\n",
       "      <td>33</td>\n",
       "      <td>1</td>\n",
       "      <td>0</td>\n",
       "      <td>m</td>\n",
       "      <td>сотрудник</td>\n",
       "      <td>0</td>\n",
       "      <td>145885</td>\n",
       "      <td>покупка жилья</td>\n",
       "    </tr>\n",
       "    <tr>\n",
       "      <th>3</th>\n",
       "      <td>3</td>\n",
       "      <td>32</td>\n",
       "      <td>1</td>\n",
       "      <td>0</td>\n",
       "      <td>m</td>\n",
       "      <td>сотрудник</td>\n",
       "      <td>0</td>\n",
       "      <td>267628</td>\n",
       "      <td>дополнительное образование</td>\n",
       "    </tr>\n",
       "    <tr>\n",
       "      <th>4</th>\n",
       "      <td>0</td>\n",
       "      <td>53</td>\n",
       "      <td>1</td>\n",
       "      <td>1</td>\n",
       "      <td>f</td>\n",
       "      <td>пенсионер</td>\n",
       "      <td>0</td>\n",
       "      <td>158616</td>\n",
       "      <td>сыграть свадьбу</td>\n",
       "    </tr>\n",
       "  </tbody>\n",
       "</table>\n",
       "</div>"
      ],
      "text/plain": [
       "   children  dob_years  education_id  family_status_id gender income_type  \\\n",
       "0         1         42             0                 0      f   сотрудник   \n",
       "1         1         36             1                 0      f   сотрудник   \n",
       "2         0         33             1                 0      m   сотрудник   \n",
       "3         3         32             1                 0      m   сотрудник   \n",
       "4         0         53             1                 1      f   пенсионер   \n",
       "\n",
       "   debt  total_income                     purpose  \n",
       "0     0        253875               покупка жилья  \n",
       "1     0        112080     приобретение автомобиля  \n",
       "2     0        145885               покупка жилья  \n",
       "3     0        267628  дополнительное образование  \n",
       "4     0        158616             сыграть свадьбу  "
      ]
     },
     "execution_count": 29,
     "metadata": {},
     "output_type": "execute_result"
    }
   ],
   "source": [
    "data = data.drop(['education', 'family_status'], axis = 1)\n",
    "data.head(5)"
   ]
  },
  {
   "cell_type": "markdown",
   "id": "8ed1149d",
   "metadata": {},
   "source": [
    "### Шаг 2.6. Категоризация дохода."
   ]
  },
  {
   "cell_type": "code",
   "execution_count": 30,
   "id": "a35b33d2",
   "metadata": {},
   "outputs": [],
   "source": [
    "def total_income_category(total_income):# создадим функцию для категоризации по доходу ('E', если 0–30000;'D', если 30001–50000;'C', если 50001–200000'B', если 200001–1000000,'A', если 1000001 и выше)\n",
    "    if  total_income <=30000:\n",
    "        return 'E'\n",
    "    elif 30001<= total_income <=50000:\n",
    "        return 'D'\n",
    "    elif 50001<= total_income <=200000:\n",
    "        return 'C'\n",
    "    elif 200001<= total_income <=1000000:\n",
    "        return 'B'\n",
    "    else:   \n",
    "        return('A')\n"
   ]
  },
  {
   "cell_type": "code",
   "execution_count": 31,
   "id": "2b326fbb",
   "metadata": {
    "scrolled": false
   },
   "outputs": [
    {
     "data": {
      "text/html": [
       "<div>\n",
       "<style scoped>\n",
       "    .dataframe tbody tr th:only-of-type {\n",
       "        vertical-align: middle;\n",
       "    }\n",
       "\n",
       "    .dataframe tbody tr th {\n",
       "        vertical-align: top;\n",
       "    }\n",
       "\n",
       "    .dataframe thead th {\n",
       "        text-align: right;\n",
       "    }\n",
       "</style>\n",
       "<table border=\"1\" class=\"dataframe\">\n",
       "  <thead>\n",
       "    <tr style=\"text-align: right;\">\n",
       "      <th></th>\n",
       "      <th>children</th>\n",
       "      <th>dob_years</th>\n",
       "      <th>education_id</th>\n",
       "      <th>family_status_id</th>\n",
       "      <th>gender</th>\n",
       "      <th>income_type</th>\n",
       "      <th>debt</th>\n",
       "      <th>total_income</th>\n",
       "      <th>purpose</th>\n",
       "      <th>total_income_category</th>\n",
       "    </tr>\n",
       "  </thead>\n",
       "  <tbody>\n",
       "    <tr>\n",
       "      <th>0</th>\n",
       "      <td>1</td>\n",
       "      <td>42</td>\n",
       "      <td>0</td>\n",
       "      <td>0</td>\n",
       "      <td>f</td>\n",
       "      <td>сотрудник</td>\n",
       "      <td>0</td>\n",
       "      <td>253875</td>\n",
       "      <td>покупка жилья</td>\n",
       "      <td>B</td>\n",
       "    </tr>\n",
       "    <tr>\n",
       "      <th>1</th>\n",
       "      <td>1</td>\n",
       "      <td>36</td>\n",
       "      <td>1</td>\n",
       "      <td>0</td>\n",
       "      <td>f</td>\n",
       "      <td>сотрудник</td>\n",
       "      <td>0</td>\n",
       "      <td>112080</td>\n",
       "      <td>приобретение автомобиля</td>\n",
       "      <td>C</td>\n",
       "    </tr>\n",
       "    <tr>\n",
       "      <th>2</th>\n",
       "      <td>0</td>\n",
       "      <td>33</td>\n",
       "      <td>1</td>\n",
       "      <td>0</td>\n",
       "      <td>m</td>\n",
       "      <td>сотрудник</td>\n",
       "      <td>0</td>\n",
       "      <td>145885</td>\n",
       "      <td>покупка жилья</td>\n",
       "      <td>C</td>\n",
       "    </tr>\n",
       "    <tr>\n",
       "      <th>3</th>\n",
       "      <td>3</td>\n",
       "      <td>32</td>\n",
       "      <td>1</td>\n",
       "      <td>0</td>\n",
       "      <td>m</td>\n",
       "      <td>сотрудник</td>\n",
       "      <td>0</td>\n",
       "      <td>267628</td>\n",
       "      <td>дополнительное образование</td>\n",
       "      <td>B</td>\n",
       "    </tr>\n",
       "    <tr>\n",
       "      <th>4</th>\n",
       "      <td>0</td>\n",
       "      <td>53</td>\n",
       "      <td>1</td>\n",
       "      <td>1</td>\n",
       "      <td>f</td>\n",
       "      <td>пенсионер</td>\n",
       "      <td>0</td>\n",
       "      <td>158616</td>\n",
       "      <td>сыграть свадьбу</td>\n",
       "      <td>C</td>\n",
       "    </tr>\n",
       "    <tr>\n",
       "      <th>5</th>\n",
       "      <td>0</td>\n",
       "      <td>27</td>\n",
       "      <td>0</td>\n",
       "      <td>1</td>\n",
       "      <td>m</td>\n",
       "      <td>компаньон</td>\n",
       "      <td>0</td>\n",
       "      <td>255763</td>\n",
       "      <td>покупка жилья</td>\n",
       "      <td>B</td>\n",
       "    </tr>\n",
       "    <tr>\n",
       "      <th>6</th>\n",
       "      <td>0</td>\n",
       "      <td>43</td>\n",
       "      <td>0</td>\n",
       "      <td>0</td>\n",
       "      <td>f</td>\n",
       "      <td>компаньон</td>\n",
       "      <td>0</td>\n",
       "      <td>240525</td>\n",
       "      <td>операции с жильем</td>\n",
       "      <td>B</td>\n",
       "    </tr>\n",
       "    <tr>\n",
       "      <th>7</th>\n",
       "      <td>0</td>\n",
       "      <td>50</td>\n",
       "      <td>1</td>\n",
       "      <td>0</td>\n",
       "      <td>m</td>\n",
       "      <td>сотрудник</td>\n",
       "      <td>0</td>\n",
       "      <td>135823</td>\n",
       "      <td>образование</td>\n",
       "      <td>C</td>\n",
       "    </tr>\n",
       "    <tr>\n",
       "      <th>8</th>\n",
       "      <td>2</td>\n",
       "      <td>35</td>\n",
       "      <td>0</td>\n",
       "      <td>1</td>\n",
       "      <td>f</td>\n",
       "      <td>сотрудник</td>\n",
       "      <td>0</td>\n",
       "      <td>95856</td>\n",
       "      <td>на проведение свадьбы</td>\n",
       "      <td>C</td>\n",
       "    </tr>\n",
       "    <tr>\n",
       "      <th>9</th>\n",
       "      <td>0</td>\n",
       "      <td>41</td>\n",
       "      <td>1</td>\n",
       "      <td>0</td>\n",
       "      <td>m</td>\n",
       "      <td>сотрудник</td>\n",
       "      <td>0</td>\n",
       "      <td>144425</td>\n",
       "      <td>покупка жилья для семьи</td>\n",
       "      <td>C</td>\n",
       "    </tr>\n",
       "  </tbody>\n",
       "</table>\n",
       "</div>"
      ],
      "text/plain": [
       "   children  dob_years  education_id  family_status_id gender income_type  \\\n",
       "0         1         42             0                 0      f   сотрудник   \n",
       "1         1         36             1                 0      f   сотрудник   \n",
       "2         0         33             1                 0      m   сотрудник   \n",
       "3         3         32             1                 0      m   сотрудник   \n",
       "4         0         53             1                 1      f   пенсионер   \n",
       "5         0         27             0                 1      m   компаньон   \n",
       "6         0         43             0                 0      f   компаньон   \n",
       "7         0         50             1                 0      m   сотрудник   \n",
       "8         2         35             0                 1      f   сотрудник   \n",
       "9         0         41             1                 0      m   сотрудник   \n",
       "\n",
       "   debt  total_income                     purpose total_income_category  \n",
       "0     0        253875               покупка жилья                     B  \n",
       "1     0        112080     приобретение автомобиля                     C  \n",
       "2     0        145885               покупка жилья                     C  \n",
       "3     0        267628  дополнительное образование                     B  \n",
       "4     0        158616             сыграть свадьбу                     C  \n",
       "5     0        255763               покупка жилья                     B  \n",
       "6     0        240525           операции с жильем                     B  \n",
       "7     0        135823                 образование                     C  \n",
       "8     0         95856       на проведение свадьбы                     C  \n",
       "9     0        144425     покупка жилья для семьи                     C  "
      ]
     },
     "execution_count": 31,
     "metadata": {},
     "output_type": "execute_result"
    }
   ],
   "source": [
    "data['total_income_category'] = data['total_income'].apply(total_income_category)\n",
    "\n",
    "data.head(10)"
   ]
  },
  {
   "cell_type": "markdown",
   "id": "2e5632a6",
   "metadata": {},
   "source": [
    "### Шаг 2.7. Категоризация целей кредита."
   ]
  },
  {
   "cell_type": "code",
   "execution_count": 32,
   "id": "d30b1654",
   "metadata": {},
   "outputs": [],
   "source": [
    "def purpose_category(purpose):\n",
    "    if 'образов' in purpose:\n",
    "        return 'получение образования'\n",
    "    if 'свадьб' in purpose:\n",
    "        return 'проведение свадьбы'\n",
    "    if 'автомобил' in purpose:\n",
    "        return 'операции с автомобилем'\n",
    "    return 'операции с недвижимостью'\n",
    "\n",
    "#purpose_category('сделка с автомобилем') #проверяем, работает ли функция"
   ]
  },
  {
   "cell_type": "code",
   "execution_count": 33,
   "id": "ba386e6f",
   "metadata": {},
   "outputs": [
    {
     "data": {
      "text/html": [
       "<div>\n",
       "<style scoped>\n",
       "    .dataframe tbody tr th:only-of-type {\n",
       "        vertical-align: middle;\n",
       "    }\n",
       "\n",
       "    .dataframe tbody tr th {\n",
       "        vertical-align: top;\n",
       "    }\n",
       "\n",
       "    .dataframe thead th {\n",
       "        text-align: right;\n",
       "    }\n",
       "</style>\n",
       "<table border=\"1\" class=\"dataframe\">\n",
       "  <thead>\n",
       "    <tr style=\"text-align: right;\">\n",
       "      <th></th>\n",
       "      <th>children</th>\n",
       "      <th>dob_years</th>\n",
       "      <th>education_id</th>\n",
       "      <th>family_status_id</th>\n",
       "      <th>gender</th>\n",
       "      <th>income_type</th>\n",
       "      <th>debt</th>\n",
       "      <th>total_income</th>\n",
       "      <th>purpose</th>\n",
       "      <th>total_income_category</th>\n",
       "      <th>purpose_category</th>\n",
       "    </tr>\n",
       "  </thead>\n",
       "  <tbody>\n",
       "    <tr>\n",
       "      <th>0</th>\n",
       "      <td>1</td>\n",
       "      <td>42</td>\n",
       "      <td>0</td>\n",
       "      <td>0</td>\n",
       "      <td>f</td>\n",
       "      <td>сотрудник</td>\n",
       "      <td>0</td>\n",
       "      <td>253875</td>\n",
       "      <td>покупка жилья</td>\n",
       "      <td>B</td>\n",
       "      <td>операции с недвижимостью</td>\n",
       "    </tr>\n",
       "    <tr>\n",
       "      <th>1</th>\n",
       "      <td>1</td>\n",
       "      <td>36</td>\n",
       "      <td>1</td>\n",
       "      <td>0</td>\n",
       "      <td>f</td>\n",
       "      <td>сотрудник</td>\n",
       "      <td>0</td>\n",
       "      <td>112080</td>\n",
       "      <td>приобретение автомобиля</td>\n",
       "      <td>C</td>\n",
       "      <td>операции с автомобилем</td>\n",
       "    </tr>\n",
       "    <tr>\n",
       "      <th>2</th>\n",
       "      <td>0</td>\n",
       "      <td>33</td>\n",
       "      <td>1</td>\n",
       "      <td>0</td>\n",
       "      <td>m</td>\n",
       "      <td>сотрудник</td>\n",
       "      <td>0</td>\n",
       "      <td>145885</td>\n",
       "      <td>покупка жилья</td>\n",
       "      <td>C</td>\n",
       "      <td>операции с недвижимостью</td>\n",
       "    </tr>\n",
       "    <tr>\n",
       "      <th>3</th>\n",
       "      <td>3</td>\n",
       "      <td>32</td>\n",
       "      <td>1</td>\n",
       "      <td>0</td>\n",
       "      <td>m</td>\n",
       "      <td>сотрудник</td>\n",
       "      <td>0</td>\n",
       "      <td>267628</td>\n",
       "      <td>дополнительное образование</td>\n",
       "      <td>B</td>\n",
       "      <td>получение образования</td>\n",
       "    </tr>\n",
       "    <tr>\n",
       "      <th>4</th>\n",
       "      <td>0</td>\n",
       "      <td>53</td>\n",
       "      <td>1</td>\n",
       "      <td>1</td>\n",
       "      <td>f</td>\n",
       "      <td>пенсионер</td>\n",
       "      <td>0</td>\n",
       "      <td>158616</td>\n",
       "      <td>сыграть свадьбу</td>\n",
       "      <td>C</td>\n",
       "      <td>проведение свадьбы</td>\n",
       "    </tr>\n",
       "    <tr>\n",
       "      <th>5</th>\n",
       "      <td>0</td>\n",
       "      <td>27</td>\n",
       "      <td>0</td>\n",
       "      <td>1</td>\n",
       "      <td>m</td>\n",
       "      <td>компаньон</td>\n",
       "      <td>0</td>\n",
       "      <td>255763</td>\n",
       "      <td>покупка жилья</td>\n",
       "      <td>B</td>\n",
       "      <td>операции с недвижимостью</td>\n",
       "    </tr>\n",
       "    <tr>\n",
       "      <th>6</th>\n",
       "      <td>0</td>\n",
       "      <td>43</td>\n",
       "      <td>0</td>\n",
       "      <td>0</td>\n",
       "      <td>f</td>\n",
       "      <td>компаньон</td>\n",
       "      <td>0</td>\n",
       "      <td>240525</td>\n",
       "      <td>операции с жильем</td>\n",
       "      <td>B</td>\n",
       "      <td>операции с недвижимостью</td>\n",
       "    </tr>\n",
       "    <tr>\n",
       "      <th>7</th>\n",
       "      <td>0</td>\n",
       "      <td>50</td>\n",
       "      <td>1</td>\n",
       "      <td>0</td>\n",
       "      <td>m</td>\n",
       "      <td>сотрудник</td>\n",
       "      <td>0</td>\n",
       "      <td>135823</td>\n",
       "      <td>образование</td>\n",
       "      <td>C</td>\n",
       "      <td>получение образования</td>\n",
       "    </tr>\n",
       "    <tr>\n",
       "      <th>8</th>\n",
       "      <td>2</td>\n",
       "      <td>35</td>\n",
       "      <td>0</td>\n",
       "      <td>1</td>\n",
       "      <td>f</td>\n",
       "      <td>сотрудник</td>\n",
       "      <td>0</td>\n",
       "      <td>95856</td>\n",
       "      <td>на проведение свадьбы</td>\n",
       "      <td>C</td>\n",
       "      <td>проведение свадьбы</td>\n",
       "    </tr>\n",
       "    <tr>\n",
       "      <th>9</th>\n",
       "      <td>0</td>\n",
       "      <td>41</td>\n",
       "      <td>1</td>\n",
       "      <td>0</td>\n",
       "      <td>m</td>\n",
       "      <td>сотрудник</td>\n",
       "      <td>0</td>\n",
       "      <td>144425</td>\n",
       "      <td>покупка жилья для семьи</td>\n",
       "      <td>C</td>\n",
       "      <td>операции с недвижимостью</td>\n",
       "    </tr>\n",
       "  </tbody>\n",
       "</table>\n",
       "</div>"
      ],
      "text/plain": [
       "   children  dob_years  education_id  family_status_id gender income_type  \\\n",
       "0         1         42             0                 0      f   сотрудник   \n",
       "1         1         36             1                 0      f   сотрудник   \n",
       "2         0         33             1                 0      m   сотрудник   \n",
       "3         3         32             1                 0      m   сотрудник   \n",
       "4         0         53             1                 1      f   пенсионер   \n",
       "5         0         27             0                 1      m   компаньон   \n",
       "6         0         43             0                 0      f   компаньон   \n",
       "7         0         50             1                 0      m   сотрудник   \n",
       "8         2         35             0                 1      f   сотрудник   \n",
       "9         0         41             1                 0      m   сотрудник   \n",
       "\n",
       "   debt  total_income                     purpose total_income_category  \\\n",
       "0     0        253875               покупка жилья                     B   \n",
       "1     0        112080     приобретение автомобиля                     C   \n",
       "2     0        145885               покупка жилья                     C   \n",
       "3     0        267628  дополнительное образование                     B   \n",
       "4     0        158616             сыграть свадьбу                     C   \n",
       "5     0        255763               покупка жилья                     B   \n",
       "6     0        240525           операции с жильем                     B   \n",
       "7     0        135823                 образование                     C   \n",
       "8     0         95856       на проведение свадьбы                     C   \n",
       "9     0        144425     покупка жилья для семьи                     C   \n",
       "\n",
       "           purpose_category  \n",
       "0  операции с недвижимостью  \n",
       "1    операции с автомобилем  \n",
       "2  операции с недвижимостью  \n",
       "3     получение образования  \n",
       "4        проведение свадьбы  \n",
       "5  операции с недвижимостью  \n",
       "6  операции с недвижимостью  \n",
       "7     получение образования  \n",
       "8        проведение свадьбы  \n",
       "9  операции с недвижимостью  "
      ]
     },
     "execution_count": 33,
     "metadata": {},
     "output_type": "execute_result"
    }
   ],
   "source": [
    "data['purpose_category'] = data['purpose'].apply(purpose_category)\n",
    "\n",
    "data.head(10)"
   ]
  },
  {
   "cell_type": "markdown",
   "id": "86a02828",
   "metadata": {},
   "source": [
    "### Ответы на вопросы."
   ]
  },
  {
   "cell_type": "markdown",
   "id": "d97db01f",
   "metadata": {},
   "source": [
    "##### Вопрос 1 (про детей): Есть ли зависимость между количеством детей и возвратом кредита в срок?"
   ]
  },
  {
   "cell_type": "code",
   "execution_count": 34,
   "id": "5cf2ac31",
   "metadata": {},
   "outputs": [
    {
     "data": {
      "text/html": [
       "<div>\n",
       "<style scoped>\n",
       "    .dataframe tbody tr th:only-of-type {\n",
       "        vertical-align: middle;\n",
       "    }\n",
       "\n",
       "    .dataframe tbody tr th {\n",
       "        vertical-align: top;\n",
       "    }\n",
       "\n",
       "    .dataframe thead th {\n",
       "        text-align: right;\n",
       "    }\n",
       "</style>\n",
       "<table border=\"1\" class=\"dataframe\">\n",
       "  <thead>\n",
       "    <tr style=\"text-align: right;\">\n",
       "      <th>debt</th>\n",
       "      <th>0</th>\n",
       "      <th>1</th>\n",
       "    </tr>\n",
       "    <tr>\n",
       "      <th>children</th>\n",
       "      <th></th>\n",
       "      <th></th>\n",
       "    </tr>\n",
       "  </thead>\n",
       "  <tbody>\n",
       "    <tr>\n",
       "      <th>0</th>\n",
       "      <td>13086.0</td>\n",
       "      <td>1063.0</td>\n",
       "    </tr>\n",
       "    <tr>\n",
       "      <th>1</th>\n",
       "      <td>4420.0</td>\n",
       "      <td>445.0</td>\n",
       "    </tr>\n",
       "    <tr>\n",
       "      <th>2</th>\n",
       "      <td>1861.0</td>\n",
       "      <td>194.0</td>\n",
       "    </tr>\n",
       "    <tr>\n",
       "      <th>3</th>\n",
       "      <td>303.0</td>\n",
       "      <td>27.0</td>\n",
       "    </tr>\n",
       "    <tr>\n",
       "      <th>4</th>\n",
       "      <td>37.0</td>\n",
       "      <td>4.0</td>\n",
       "    </tr>\n",
       "    <tr>\n",
       "      <th>5</th>\n",
       "      <td>9.0</td>\n",
       "      <td>NaN</td>\n",
       "    </tr>\n",
       "    <tr>\n",
       "      <th>20</th>\n",
       "      <td>68.0</td>\n",
       "      <td>8.0</td>\n",
       "    </tr>\n",
       "  </tbody>\n",
       "</table>\n",
       "</div>"
      ],
      "text/plain": [
       "debt            0       1\n",
       "children                 \n",
       "0         13086.0  1063.0\n",
       "1          4420.0   445.0\n",
       "2          1861.0   194.0\n",
       "3           303.0    27.0\n",
       "4            37.0     4.0\n",
       "5             9.0     NaN\n",
       "20           68.0     8.0"
      ]
     },
     "execution_count": 34,
     "metadata": {},
     "output_type": "execute_result"
    }
   ],
   "source": [
    "data_pivot_1 = data.pivot_table(index=['children'], columns='debt', values='gender', aggfunc='count')#посмотрим,сколько людей с различным кол-вом детей имеют задолженность по кредитам\n",
    "data_pivot_1"
   ]
  },
  {
   "cell_type": "code",
   "execution_count": 35,
   "id": "182e342d",
   "metadata": {},
   "outputs": [
    {
     "data": {
      "text/html": [
       "<div>\n",
       "<style scoped>\n",
       "    .dataframe tbody tr th:only-of-type {\n",
       "        vertical-align: middle;\n",
       "    }\n",
       "\n",
       "    .dataframe tbody tr th {\n",
       "        vertical-align: top;\n",
       "    }\n",
       "\n",
       "    .dataframe thead th {\n",
       "        text-align: right;\n",
       "    }\n",
       "</style>\n",
       "<table border=\"1\" class=\"dataframe\">\n",
       "  <thead>\n",
       "    <tr style=\"text-align: right;\">\n",
       "      <th>debt</th>\n",
       "      <th>0</th>\n",
       "      <th>1</th>\n",
       "      <th>new</th>\n",
       "    </tr>\n",
       "    <tr>\n",
       "      <th>children</th>\n",
       "      <th></th>\n",
       "      <th></th>\n",
       "      <th></th>\n",
       "    </tr>\n",
       "  </thead>\n",
       "  <tbody>\n",
       "    <tr>\n",
       "      <th>0</th>\n",
       "      <td>13086.0</td>\n",
       "      <td>1063.0</td>\n",
       "      <td>14149.0</td>\n",
       "    </tr>\n",
       "    <tr>\n",
       "      <th>1</th>\n",
       "      <td>4420.0</td>\n",
       "      <td>445.0</td>\n",
       "      <td>4865.0</td>\n",
       "    </tr>\n",
       "    <tr>\n",
       "      <th>2</th>\n",
       "      <td>1861.0</td>\n",
       "      <td>194.0</td>\n",
       "      <td>2055.0</td>\n",
       "    </tr>\n",
       "    <tr>\n",
       "      <th>3</th>\n",
       "      <td>303.0</td>\n",
       "      <td>27.0</td>\n",
       "      <td>330.0</td>\n",
       "    </tr>\n",
       "    <tr>\n",
       "      <th>4</th>\n",
       "      <td>37.0</td>\n",
       "      <td>4.0</td>\n",
       "      <td>41.0</td>\n",
       "    </tr>\n",
       "    <tr>\n",
       "      <th>5</th>\n",
       "      <td>9.0</td>\n",
       "      <td>NaN</td>\n",
       "      <td>NaN</td>\n",
       "    </tr>\n",
       "    <tr>\n",
       "      <th>20</th>\n",
       "      <td>68.0</td>\n",
       "      <td>8.0</td>\n",
       "      <td>76.0</td>\n",
       "    </tr>\n",
       "  </tbody>\n",
       "</table>\n",
       "</div>"
      ],
      "text/plain": [
       "debt            0       1      new\n",
       "children                          \n",
       "0         13086.0  1063.0  14149.0\n",
       "1          4420.0   445.0   4865.0\n",
       "2          1861.0   194.0   2055.0\n",
       "3           303.0    27.0    330.0\n",
       "4            37.0     4.0     41.0\n",
       "5             9.0     NaN      NaN\n",
       "20           68.0     8.0     76.0"
      ]
     },
     "execution_count": 35,
     "metadata": {},
     "output_type": "execute_result"
    }
   ],
   "source": [
    "data_pivot_1['new'] = data_pivot_1[0] + data_pivot_1 [1] #создаем доп столбец суммарный\n",
    "data_pivot_1"
   ]
  },
  {
   "cell_type": "code",
   "execution_count": 36,
   "id": "5089ade8",
   "metadata": {},
   "outputs": [
    {
     "data": {
      "text/html": [
       "<div>\n",
       "<style scoped>\n",
       "    .dataframe tbody tr th:only-of-type {\n",
       "        vertical-align: middle;\n",
       "    }\n",
       "\n",
       "    .dataframe tbody tr th {\n",
       "        vertical-align: top;\n",
       "    }\n",
       "\n",
       "    .dataframe thead th {\n",
       "        text-align: right;\n",
       "    }\n",
       "</style>\n",
       "<table border=\"1\" class=\"dataframe\">\n",
       "  <thead>\n",
       "    <tr style=\"text-align: right;\">\n",
       "      <th>debt</th>\n",
       "      <th>0</th>\n",
       "      <th>1</th>\n",
       "      <th>new</th>\n",
       "      <th>new_1</th>\n",
       "    </tr>\n",
       "    <tr>\n",
       "      <th>children</th>\n",
       "      <th></th>\n",
       "      <th></th>\n",
       "      <th></th>\n",
       "      <th></th>\n",
       "    </tr>\n",
       "  </thead>\n",
       "  <tbody>\n",
       "    <tr>\n",
       "      <th>0</th>\n",
       "      <td>13086.0</td>\n",
       "      <td>1063.0</td>\n",
       "      <td>14149.0</td>\n",
       "      <td>0.075129</td>\n",
       "    </tr>\n",
       "    <tr>\n",
       "      <th>1</th>\n",
       "      <td>4420.0</td>\n",
       "      <td>445.0</td>\n",
       "      <td>4865.0</td>\n",
       "      <td>0.091470</td>\n",
       "    </tr>\n",
       "    <tr>\n",
       "      <th>2</th>\n",
       "      <td>1861.0</td>\n",
       "      <td>194.0</td>\n",
       "      <td>2055.0</td>\n",
       "      <td>0.094404</td>\n",
       "    </tr>\n",
       "    <tr>\n",
       "      <th>3</th>\n",
       "      <td>303.0</td>\n",
       "      <td>27.0</td>\n",
       "      <td>330.0</td>\n",
       "      <td>0.081818</td>\n",
       "    </tr>\n",
       "    <tr>\n",
       "      <th>4</th>\n",
       "      <td>37.0</td>\n",
       "      <td>4.0</td>\n",
       "      <td>41.0</td>\n",
       "      <td>0.097561</td>\n",
       "    </tr>\n",
       "    <tr>\n",
       "      <th>5</th>\n",
       "      <td>9.0</td>\n",
       "      <td>NaN</td>\n",
       "      <td>NaN</td>\n",
       "      <td>NaN</td>\n",
       "    </tr>\n",
       "    <tr>\n",
       "      <th>20</th>\n",
       "      <td>68.0</td>\n",
       "      <td>8.0</td>\n",
       "      <td>76.0</td>\n",
       "      <td>0.105263</td>\n",
       "    </tr>\n",
       "  </tbody>\n",
       "</table>\n",
       "</div>"
      ],
      "text/plain": [
       "debt            0       1      new     new_1\n",
       "children                                    \n",
       "0         13086.0  1063.0  14149.0  0.075129\n",
       "1          4420.0   445.0   4865.0  0.091470\n",
       "2          1861.0   194.0   2055.0  0.094404\n",
       "3           303.0    27.0    330.0  0.081818\n",
       "4            37.0     4.0     41.0  0.097561\n",
       "5             9.0     NaN      NaN       NaN\n",
       "20           68.0     8.0     76.0  0.105263"
      ]
     },
     "execution_count": 36,
     "metadata": {},
     "output_type": "execute_result"
    }
   ],
   "source": [
    "data_pivot_1['new_1'] = data_pivot_1[1]/data_pivot_1['new'] # ищем в долях,сколько не выплачивают в срок относительно всех,имеющих одинаковое кол-во детей\n",
    "data_pivot_1"
   ]
  },
  {
   "cell_type": "markdown",
   "id": "1e98965d",
   "metadata": {},
   "source": [
    "По данным можно судить, что доля невыплаченных кредитов в срок (столбец new_1) незначительно увеличивается с ростом кол-ва детей в семье. Соответственно, делаем вывод, что кол-во детей влияет на возврат кредита в срок - чем их больше, тем больше вероятность его не выплатить"
   ]
  },
  {
   "cell_type": "markdown",
   "id": "8140bb93",
   "metadata": {},
   "source": [
    "##### Вопрос 2 (про семейное положение): Есть ли зависимость между семейным положением и возвратом кредита в срок?"
   ]
  },
  {
   "cell_type": "code",
   "execution_count": 37,
   "id": "145059f1",
   "metadata": {
    "scrolled": true
   },
   "outputs": [
    {
     "data": {
      "text/html": [
       "<div>\n",
       "<style scoped>\n",
       "    .dataframe tbody tr th:only-of-type {\n",
       "        vertical-align: middle;\n",
       "    }\n",
       "\n",
       "    .dataframe tbody tr th {\n",
       "        vertical-align: top;\n",
       "    }\n",
       "\n",
       "    .dataframe thead th {\n",
       "        text-align: right;\n",
       "    }\n",
       "</style>\n",
       "<table border=\"1\" class=\"dataframe\">\n",
       "  <thead>\n",
       "    <tr style=\"text-align: right;\">\n",
       "      <th>debt</th>\n",
       "      <th>0</th>\n",
       "      <th>1</th>\n",
       "    </tr>\n",
       "    <tr>\n",
       "      <th>family_status_id</th>\n",
       "      <th></th>\n",
       "      <th></th>\n",
       "    </tr>\n",
       "  </thead>\n",
       "  <tbody>\n",
       "    <tr>\n",
       "      <th>0</th>\n",
       "      <td>11449</td>\n",
       "      <td>931</td>\n",
       "    </tr>\n",
       "    <tr>\n",
       "      <th>1</th>\n",
       "      <td>3789</td>\n",
       "      <td>388</td>\n",
       "    </tr>\n",
       "    <tr>\n",
       "      <th>2</th>\n",
       "      <td>897</td>\n",
       "      <td>63</td>\n",
       "    </tr>\n",
       "    <tr>\n",
       "      <th>3</th>\n",
       "      <td>1110</td>\n",
       "      <td>85</td>\n",
       "    </tr>\n",
       "    <tr>\n",
       "      <th>4</th>\n",
       "      <td>2539</td>\n",
       "      <td>274</td>\n",
       "    </tr>\n",
       "  </tbody>\n",
       "</table>\n",
       "</div>"
      ],
      "text/plain": [
       "debt                  0    1\n",
       "family_status_id            \n",
       "0                 11449  931\n",
       "1                  3789  388\n",
       "2                   897   63\n",
       "3                  1110   85\n",
       "4                  2539  274"
      ]
     },
     "execution_count": 37,
     "metadata": {},
     "output_type": "execute_result"
    }
   ],
   "source": [
    "data_pivot_1 = data.pivot_table(index=['family_status_id'], columns='debt', values='children', aggfunc='count')#посмотрим,сколько людей с различным кол-вом детей имеют задолженность по кредитам\n",
    "data_pivot_1"
   ]
  },
  {
   "cell_type": "code",
   "execution_count": 38,
   "id": "fa50fc8d",
   "metadata": {},
   "outputs": [
    {
     "data": {
      "text/html": [
       "<div>\n",
       "<style scoped>\n",
       "    .dataframe tbody tr th:only-of-type {\n",
       "        vertical-align: middle;\n",
       "    }\n",
       "\n",
       "    .dataframe tbody tr th {\n",
       "        vertical-align: top;\n",
       "    }\n",
       "\n",
       "    .dataframe thead th {\n",
       "        text-align: right;\n",
       "    }\n",
       "</style>\n",
       "<table border=\"1\" class=\"dataframe\">\n",
       "  <thead>\n",
       "    <tr style=\"text-align: right;\">\n",
       "      <th>debt</th>\n",
       "      <th>0</th>\n",
       "      <th>1</th>\n",
       "      <th>new</th>\n",
       "    </tr>\n",
       "    <tr>\n",
       "      <th>family_status_id</th>\n",
       "      <th></th>\n",
       "      <th></th>\n",
       "      <th></th>\n",
       "    </tr>\n",
       "  </thead>\n",
       "  <tbody>\n",
       "    <tr>\n",
       "      <th>0</th>\n",
       "      <td>11449</td>\n",
       "      <td>931</td>\n",
       "      <td>12380</td>\n",
       "    </tr>\n",
       "    <tr>\n",
       "      <th>1</th>\n",
       "      <td>3789</td>\n",
       "      <td>388</td>\n",
       "      <td>4177</td>\n",
       "    </tr>\n",
       "    <tr>\n",
       "      <th>2</th>\n",
       "      <td>897</td>\n",
       "      <td>63</td>\n",
       "      <td>960</td>\n",
       "    </tr>\n",
       "    <tr>\n",
       "      <th>3</th>\n",
       "      <td>1110</td>\n",
       "      <td>85</td>\n",
       "      <td>1195</td>\n",
       "    </tr>\n",
       "    <tr>\n",
       "      <th>4</th>\n",
       "      <td>2539</td>\n",
       "      <td>274</td>\n",
       "      <td>2813</td>\n",
       "    </tr>\n",
       "  </tbody>\n",
       "</table>\n",
       "</div>"
      ],
      "text/plain": [
       "debt                  0    1    new\n",
       "family_status_id                   \n",
       "0                 11449  931  12380\n",
       "1                  3789  388   4177\n",
       "2                   897   63    960\n",
       "3                  1110   85   1195\n",
       "4                  2539  274   2813"
      ]
     },
     "execution_count": 38,
     "metadata": {},
     "output_type": "execute_result"
    }
   ],
   "source": [
    "data_pivot_1['new'] = data_pivot_1[0] + data_pivot_1 [1]\n",
    "data_pivot_1"
   ]
  },
  {
   "cell_type": "code",
   "execution_count": 39,
   "id": "ed14f329",
   "metadata": {},
   "outputs": [
    {
     "data": {
      "text/html": [
       "<div>\n",
       "<style scoped>\n",
       "    .dataframe tbody tr th:only-of-type {\n",
       "        vertical-align: middle;\n",
       "    }\n",
       "\n",
       "    .dataframe tbody tr th {\n",
       "        vertical-align: top;\n",
       "    }\n",
       "\n",
       "    .dataframe thead th {\n",
       "        text-align: right;\n",
       "    }\n",
       "</style>\n",
       "<table border=\"1\" class=\"dataframe\">\n",
       "  <thead>\n",
       "    <tr style=\"text-align: right;\">\n",
       "      <th>debt</th>\n",
       "      <th>0</th>\n",
       "      <th>1</th>\n",
       "      <th>new</th>\n",
       "      <th>new_1</th>\n",
       "    </tr>\n",
       "    <tr>\n",
       "      <th>family_status_id</th>\n",
       "      <th></th>\n",
       "      <th></th>\n",
       "      <th></th>\n",
       "      <th></th>\n",
       "    </tr>\n",
       "  </thead>\n",
       "  <tbody>\n",
       "    <tr>\n",
       "      <th>0</th>\n",
       "      <td>11449</td>\n",
       "      <td>931</td>\n",
       "      <td>12380</td>\n",
       "      <td>0.075202</td>\n",
       "    </tr>\n",
       "    <tr>\n",
       "      <th>1</th>\n",
       "      <td>3789</td>\n",
       "      <td>388</td>\n",
       "      <td>4177</td>\n",
       "      <td>0.092890</td>\n",
       "    </tr>\n",
       "    <tr>\n",
       "      <th>2</th>\n",
       "      <td>897</td>\n",
       "      <td>63</td>\n",
       "      <td>960</td>\n",
       "      <td>0.065625</td>\n",
       "    </tr>\n",
       "    <tr>\n",
       "      <th>3</th>\n",
       "      <td>1110</td>\n",
       "      <td>85</td>\n",
       "      <td>1195</td>\n",
       "      <td>0.071130</td>\n",
       "    </tr>\n",
       "    <tr>\n",
       "      <th>4</th>\n",
       "      <td>2539</td>\n",
       "      <td>274</td>\n",
       "      <td>2813</td>\n",
       "      <td>0.097405</td>\n",
       "    </tr>\n",
       "  </tbody>\n",
       "</table>\n",
       "</div>"
      ],
      "text/plain": [
       "debt                  0    1    new     new_1\n",
       "family_status_id                             \n",
       "0                 11449  931  12380  0.075202\n",
       "1                  3789  388   4177  0.092890\n",
       "2                   897   63    960  0.065625\n",
       "3                  1110   85   1195  0.071130\n",
       "4                  2539  274   2813  0.097405"
      ]
     },
     "execution_count": 39,
     "metadata": {},
     "output_type": "execute_result"
    }
   ],
   "source": [
    "data_pivot_1['new_1'] = data_pivot_1[1]/data_pivot_1['new'] # ищем в долях,сколько не выплачивают в срок относительно всех,имеющих один пол\n",
    "data_pivot_1"
   ]
  },
  {
   "cell_type": "markdown",
   "id": "2ab9914b",
   "metadata": {},
   "source": [
    "По данным можно судить, что доля невыплаченных кредитов в срок (столбец new_1)  больше у людей, не состоящих в браке или состоящих в так называемом гражданском браке. Соответственно, делаем вывод, что семейное положение влияет на возврат кредита в срок - свободные люди чувствуют себя свободными об обязательств, в том числе и долговых)))"
   ]
  },
  {
   "cell_type": "markdown",
   "id": "90f58988",
   "metadata": {},
   "source": [
    "##### Вопрос 3 (про доход): Есть ли зависимость между уровнем дохода и возвратом кредита в срок?"
   ]
  },
  {
   "cell_type": "code",
   "execution_count": 40,
   "id": "75476ffb",
   "metadata": {},
   "outputs": [
    {
     "data": {
      "text/html": [
       "<div>\n",
       "<style scoped>\n",
       "    .dataframe tbody tr th:only-of-type {\n",
       "        vertical-align: middle;\n",
       "    }\n",
       "\n",
       "    .dataframe tbody tr th {\n",
       "        vertical-align: top;\n",
       "    }\n",
       "\n",
       "    .dataframe thead th {\n",
       "        text-align: right;\n",
       "    }\n",
       "</style>\n",
       "<table border=\"1\" class=\"dataframe\">\n",
       "  <thead>\n",
       "    <tr style=\"text-align: right;\">\n",
       "      <th>debt</th>\n",
       "      <th>0</th>\n",
       "      <th>1</th>\n",
       "    </tr>\n",
       "    <tr>\n",
       "      <th>total_income_category</th>\n",
       "      <th></th>\n",
       "      <th></th>\n",
       "    </tr>\n",
       "  </thead>\n",
       "  <tbody>\n",
       "    <tr>\n",
       "      <th>A</th>\n",
       "      <td>23</td>\n",
       "      <td>2</td>\n",
       "    </tr>\n",
       "    <tr>\n",
       "      <th>B</th>\n",
       "      <td>4685</td>\n",
       "      <td>356</td>\n",
       "    </tr>\n",
       "    <tr>\n",
       "      <th>C</th>\n",
       "      <td>14727</td>\n",
       "      <td>1360</td>\n",
       "    </tr>\n",
       "    <tr>\n",
       "      <th>D</th>\n",
       "      <td>329</td>\n",
       "      <td>21</td>\n",
       "    </tr>\n",
       "    <tr>\n",
       "      <th>E</th>\n",
       "      <td>20</td>\n",
       "      <td>2</td>\n",
       "    </tr>\n",
       "  </tbody>\n",
       "</table>\n",
       "</div>"
      ],
      "text/plain": [
       "debt                       0     1\n",
       "total_income_category             \n",
       "A                         23     2\n",
       "B                       4685   356\n",
       "C                      14727  1360\n",
       "D                        329    21\n",
       "E                         20     2"
      ]
     },
     "execution_count": 40,
     "metadata": {},
     "output_type": "execute_result"
    }
   ],
   "source": [
    "data_pivot_1 = data.pivot_table(index=['total_income_category'], columns='debt', values='gender', aggfunc='count')#посмотрим,сколько людей с различным кол-вом дохода имеют задолженность по кредитам\n",
    "data_pivot_1\n"
   ]
  },
  {
   "cell_type": "code",
   "execution_count": 41,
   "id": "d70b3964",
   "metadata": {},
   "outputs": [
    {
     "data": {
      "text/html": [
       "<div>\n",
       "<style scoped>\n",
       "    .dataframe tbody tr th:only-of-type {\n",
       "        vertical-align: middle;\n",
       "    }\n",
       "\n",
       "    .dataframe tbody tr th {\n",
       "        vertical-align: top;\n",
       "    }\n",
       "\n",
       "    .dataframe thead th {\n",
       "        text-align: right;\n",
       "    }\n",
       "</style>\n",
       "<table border=\"1\" class=\"dataframe\">\n",
       "  <thead>\n",
       "    <tr style=\"text-align: right;\">\n",
       "      <th>debt</th>\n",
       "      <th>0</th>\n",
       "      <th>1</th>\n",
       "      <th>new</th>\n",
       "    </tr>\n",
       "    <tr>\n",
       "      <th>total_income_category</th>\n",
       "      <th></th>\n",
       "      <th></th>\n",
       "      <th></th>\n",
       "    </tr>\n",
       "  </thead>\n",
       "  <tbody>\n",
       "    <tr>\n",
       "      <th>A</th>\n",
       "      <td>23</td>\n",
       "      <td>2</td>\n",
       "      <td>25</td>\n",
       "    </tr>\n",
       "    <tr>\n",
       "      <th>B</th>\n",
       "      <td>4685</td>\n",
       "      <td>356</td>\n",
       "      <td>5041</td>\n",
       "    </tr>\n",
       "    <tr>\n",
       "      <th>C</th>\n",
       "      <td>14727</td>\n",
       "      <td>1360</td>\n",
       "      <td>16087</td>\n",
       "    </tr>\n",
       "    <tr>\n",
       "      <th>D</th>\n",
       "      <td>329</td>\n",
       "      <td>21</td>\n",
       "      <td>350</td>\n",
       "    </tr>\n",
       "    <tr>\n",
       "      <th>E</th>\n",
       "      <td>20</td>\n",
       "      <td>2</td>\n",
       "      <td>22</td>\n",
       "    </tr>\n",
       "  </tbody>\n",
       "</table>\n",
       "</div>"
      ],
      "text/plain": [
       "debt                       0     1    new\n",
       "total_income_category                    \n",
       "A                         23     2     25\n",
       "B                       4685   356   5041\n",
       "C                      14727  1360  16087\n",
       "D                        329    21    350\n",
       "E                         20     2     22"
      ]
     },
     "execution_count": 41,
     "metadata": {},
     "output_type": "execute_result"
    }
   ],
   "source": [
    "data_pivot_1['new'] = data_pivot_1[0] + data_pivot_1 [1]\n",
    "data_pivot_1"
   ]
  },
  {
   "cell_type": "code",
   "execution_count": 42,
   "id": "5d57fd12",
   "metadata": {},
   "outputs": [
    {
     "data": {
      "text/html": [
       "<div>\n",
       "<style scoped>\n",
       "    .dataframe tbody tr th:only-of-type {\n",
       "        vertical-align: middle;\n",
       "    }\n",
       "\n",
       "    .dataframe tbody tr th {\n",
       "        vertical-align: top;\n",
       "    }\n",
       "\n",
       "    .dataframe thead th {\n",
       "        text-align: right;\n",
       "    }\n",
       "</style>\n",
       "<table border=\"1\" class=\"dataframe\">\n",
       "  <thead>\n",
       "    <tr style=\"text-align: right;\">\n",
       "      <th>debt</th>\n",
       "      <th>0</th>\n",
       "      <th>1</th>\n",
       "      <th>new</th>\n",
       "      <th>new_1</th>\n",
       "    </tr>\n",
       "    <tr>\n",
       "      <th>total_income_category</th>\n",
       "      <th></th>\n",
       "      <th></th>\n",
       "      <th></th>\n",
       "      <th></th>\n",
       "    </tr>\n",
       "  </thead>\n",
       "  <tbody>\n",
       "    <tr>\n",
       "      <th>A</th>\n",
       "      <td>23</td>\n",
       "      <td>2</td>\n",
       "      <td>25</td>\n",
       "      <td>0.080000</td>\n",
       "    </tr>\n",
       "    <tr>\n",
       "      <th>B</th>\n",
       "      <td>4685</td>\n",
       "      <td>356</td>\n",
       "      <td>5041</td>\n",
       "      <td>0.070621</td>\n",
       "    </tr>\n",
       "    <tr>\n",
       "      <th>C</th>\n",
       "      <td>14727</td>\n",
       "      <td>1360</td>\n",
       "      <td>16087</td>\n",
       "      <td>0.084540</td>\n",
       "    </tr>\n",
       "    <tr>\n",
       "      <th>D</th>\n",
       "      <td>329</td>\n",
       "      <td>21</td>\n",
       "      <td>350</td>\n",
       "      <td>0.060000</td>\n",
       "    </tr>\n",
       "    <tr>\n",
       "      <th>E</th>\n",
       "      <td>20</td>\n",
       "      <td>2</td>\n",
       "      <td>22</td>\n",
       "      <td>0.090909</td>\n",
       "    </tr>\n",
       "  </tbody>\n",
       "</table>\n",
       "</div>"
      ],
      "text/plain": [
       "debt                       0     1    new     new_1\n",
       "total_income_category                              \n",
       "A                         23     2     25  0.080000\n",
       "B                       4685   356   5041  0.070621\n",
       "C                      14727  1360  16087  0.084540\n",
       "D                        329    21    350  0.060000\n",
       "E                         20     2     22  0.090909"
      ]
     },
     "execution_count": 42,
     "metadata": {},
     "output_type": "execute_result"
    }
   ],
   "source": [
    "data_pivot_1['new_1'] = data_pivot_1[1]/data_pivot_1['new'] # ищем в долях,сколько не выплачивают в срок относительно всех\n",
    "data_pivot_1"
   ]
  },
  {
   "cell_type": "markdown",
   "id": "edaf9329",
   "metadata": {},
   "source": [
    "По данным можно судить о том, что доход людей влияет на выплату кредита в срок, доли людей с доходом 0–30000 имеют задолженности гораздо чаще. Это и понятно- это либо безработные, либо студенты или пенсионеры. Также большой процент невыплаченных в срок кредитов у людей с большими доходами -1000001 и выше. Они мыслят большими деньгами и оплата кредита для них незначительна, они часто пропускают платеж и платят пени, для них они необременительны. Понятно, люди озабочены зарабатыванием миллиардов, а не выплачиваем долгов))"
   ]
  },
  {
   "cell_type": "markdown",
   "id": "eb78dd4c",
   "metadata": {},
   "source": [
    "##### Вопрос 4(про кредитные цели): Как разные цели кредита влияют на его возврат в срок?"
   ]
  },
  {
   "cell_type": "code",
   "execution_count": 43,
   "id": "7190f00a",
   "metadata": {},
   "outputs": [
    {
     "data": {
      "text/html": [
       "<div>\n",
       "<style scoped>\n",
       "    .dataframe tbody tr th:only-of-type {\n",
       "        vertical-align: middle;\n",
       "    }\n",
       "\n",
       "    .dataframe tbody tr th {\n",
       "        vertical-align: top;\n",
       "    }\n",
       "\n",
       "    .dataframe thead th {\n",
       "        text-align: right;\n",
       "    }\n",
       "</style>\n",
       "<table border=\"1\" class=\"dataframe\">\n",
       "  <thead>\n",
       "    <tr style=\"text-align: right;\">\n",
       "      <th>debt</th>\n",
       "      <th>0</th>\n",
       "      <th>1</th>\n",
       "    </tr>\n",
       "    <tr>\n",
       "      <th>purpose_category</th>\n",
       "      <th></th>\n",
       "      <th></th>\n",
       "    </tr>\n",
       "  </thead>\n",
       "  <tbody>\n",
       "    <tr>\n",
       "      <th>операции с автомобилем</th>\n",
       "      <td>3912</td>\n",
       "      <td>403</td>\n",
       "    </tr>\n",
       "    <tr>\n",
       "      <th>операции с недвижимостью</th>\n",
       "      <td>10058</td>\n",
       "      <td>782</td>\n",
       "    </tr>\n",
       "    <tr>\n",
       "      <th>получение образования</th>\n",
       "      <td>3652</td>\n",
       "      <td>370</td>\n",
       "    </tr>\n",
       "    <tr>\n",
       "      <th>проведение свадьбы</th>\n",
       "      <td>2162</td>\n",
       "      <td>186</td>\n",
       "    </tr>\n",
       "  </tbody>\n",
       "</table>\n",
       "</div>"
      ],
      "text/plain": [
       "debt                          0    1\n",
       "purpose_category                    \n",
       "операции с автомобилем     3912  403\n",
       "операции с недвижимостью  10058  782\n",
       "получение образования      3652  370\n",
       "проведение свадьбы         2162  186"
      ]
     },
     "execution_count": 43,
     "metadata": {},
     "output_type": "execute_result"
    }
   ],
   "source": [
    "data_pivot_1 = data.pivot_table(index=['purpose_category'], columns='debt', values='gender', aggfunc='count')#посмотрим,сколько людей с различным кол-вом дохода имеют задолженность по кредитам\n",
    "data_pivot_1"
   ]
  },
  {
   "cell_type": "code",
   "execution_count": 44,
   "id": "27296a47",
   "metadata": {},
   "outputs": [
    {
     "data": {
      "text/html": [
       "<div>\n",
       "<style scoped>\n",
       "    .dataframe tbody tr th:only-of-type {\n",
       "        vertical-align: middle;\n",
       "    }\n",
       "\n",
       "    .dataframe tbody tr th {\n",
       "        vertical-align: top;\n",
       "    }\n",
       "\n",
       "    .dataframe thead th {\n",
       "        text-align: right;\n",
       "    }\n",
       "</style>\n",
       "<table border=\"1\" class=\"dataframe\">\n",
       "  <thead>\n",
       "    <tr style=\"text-align: right;\">\n",
       "      <th>debt</th>\n",
       "      <th>0</th>\n",
       "      <th>1</th>\n",
       "      <th>new</th>\n",
       "    </tr>\n",
       "    <tr>\n",
       "      <th>purpose_category</th>\n",
       "      <th></th>\n",
       "      <th></th>\n",
       "      <th></th>\n",
       "    </tr>\n",
       "  </thead>\n",
       "  <tbody>\n",
       "    <tr>\n",
       "      <th>операции с автомобилем</th>\n",
       "      <td>3912</td>\n",
       "      <td>403</td>\n",
       "      <td>4315</td>\n",
       "    </tr>\n",
       "    <tr>\n",
       "      <th>операции с недвижимостью</th>\n",
       "      <td>10058</td>\n",
       "      <td>782</td>\n",
       "      <td>10840</td>\n",
       "    </tr>\n",
       "    <tr>\n",
       "      <th>получение образования</th>\n",
       "      <td>3652</td>\n",
       "      <td>370</td>\n",
       "      <td>4022</td>\n",
       "    </tr>\n",
       "    <tr>\n",
       "      <th>проведение свадьбы</th>\n",
       "      <td>2162</td>\n",
       "      <td>186</td>\n",
       "      <td>2348</td>\n",
       "    </tr>\n",
       "  </tbody>\n",
       "</table>\n",
       "</div>"
      ],
      "text/plain": [
       "debt                          0    1    new\n",
       "purpose_category                           \n",
       "операции с автомобилем     3912  403   4315\n",
       "операции с недвижимостью  10058  782  10840\n",
       "получение образования      3652  370   4022\n",
       "проведение свадьбы         2162  186   2348"
      ]
     },
     "execution_count": 44,
     "metadata": {},
     "output_type": "execute_result"
    }
   ],
   "source": [
    "data_pivot_1['new'] = data_pivot_1[0] + data_pivot_1 [1]\n",
    "data_pivot_1"
   ]
  },
  {
   "cell_type": "code",
   "execution_count": 45,
   "id": "fb8e437d",
   "metadata": {
    "scrolled": true
   },
   "outputs": [
    {
     "data": {
      "text/html": [
       "<div>\n",
       "<style scoped>\n",
       "    .dataframe tbody tr th:only-of-type {\n",
       "        vertical-align: middle;\n",
       "    }\n",
       "\n",
       "    .dataframe tbody tr th {\n",
       "        vertical-align: top;\n",
       "    }\n",
       "\n",
       "    .dataframe thead th {\n",
       "        text-align: right;\n",
       "    }\n",
       "</style>\n",
       "<table border=\"1\" class=\"dataframe\">\n",
       "  <thead>\n",
       "    <tr style=\"text-align: right;\">\n",
       "      <th>debt</th>\n",
       "      <th>0</th>\n",
       "      <th>1</th>\n",
       "      <th>new</th>\n",
       "      <th>new_1</th>\n",
       "    </tr>\n",
       "    <tr>\n",
       "      <th>purpose_category</th>\n",
       "      <th></th>\n",
       "      <th></th>\n",
       "      <th></th>\n",
       "      <th></th>\n",
       "    </tr>\n",
       "  </thead>\n",
       "  <tbody>\n",
       "    <tr>\n",
       "      <th>операции с автомобилем</th>\n",
       "      <td>3912</td>\n",
       "      <td>403</td>\n",
       "      <td>4315</td>\n",
       "      <td>0.093395</td>\n",
       "    </tr>\n",
       "    <tr>\n",
       "      <th>операции с недвижимостью</th>\n",
       "      <td>10058</td>\n",
       "      <td>782</td>\n",
       "      <td>10840</td>\n",
       "      <td>0.072140</td>\n",
       "    </tr>\n",
       "    <tr>\n",
       "      <th>получение образования</th>\n",
       "      <td>3652</td>\n",
       "      <td>370</td>\n",
       "      <td>4022</td>\n",
       "      <td>0.091994</td>\n",
       "    </tr>\n",
       "    <tr>\n",
       "      <th>проведение свадьбы</th>\n",
       "      <td>2162</td>\n",
       "      <td>186</td>\n",
       "      <td>2348</td>\n",
       "      <td>0.079216</td>\n",
       "    </tr>\n",
       "  </tbody>\n",
       "</table>\n",
       "</div>"
      ],
      "text/plain": [
       "debt                          0    1    new     new_1\n",
       "purpose_category                                     \n",
       "операции с автомобилем     3912  403   4315  0.093395\n",
       "операции с недвижимостью  10058  782  10840  0.072140\n",
       "получение образования      3652  370   4022  0.091994\n",
       "проведение свадьбы         2162  186   2348  0.079216"
      ]
     },
     "execution_count": 45,
     "metadata": {},
     "output_type": "execute_result"
    }
   ],
   "source": [
    "data_pivot_1['new_1'] = data_pivot_1[1]/data_pivot_1['new'] # ищем в долях,сколько не выплачивают в срок относительно всех\n",
    "data_pivot_1"
   ]
  },
  {
   "cell_type": "markdown",
   "id": "49689e09",
   "metadata": {},
   "source": [
    "Можно сказать, что незначительное превышение в долях невыплативших кредитв срок у людей, цель которых провести операции с автомобилем и получить образование. Возможно это связано с тем, что эти люди более молодые "
   ]
  },
  {
   "cell_type": "markdown",
   "id": "7689ff65",
   "metadata": {},
   "source": [
    "## Общий вывод:"
   ]
  },
  {
   "cell_type": "markdown",
   "id": "987a6070",
   "metadata": {},
   "source": [
    "После проделанного исследования можно сказать, что есть различные критерии, по которым можно судить о том, выплатит ли заемщик кредит в срок.\n",
    "1) Наличие детей: чем больше детей, тем меньшая вероятность, что кредит будет выплачен.  \n",
    "2) Семейное положение: люди, не связанные узами брака- сомнительные заемщики. Лучше дадим кредит семьянинам!    \n",
    "3) Доход: хуже всего выплачивают кредит либо люди с отсутствием или крайне низким доходом, либо очень обеспеченные люди. Даешь кредит среднему классу!))  \n",
    "4) Цели: людям, кредитные цели которых получение образования и операции с автомобилем - лучше кредит не давать, весьма вероятно, что они не смогут выплатить его в срок.  "
   ]
  },
  {
   "cell_type": "code",
   "execution_count": null,
   "id": "9f047d0b",
   "metadata": {},
   "outputs": [],
   "source": []
  }
 ],
 "metadata": {
  "ExecuteTimeLog": [
   {
    "duration": 1058,
    "start_time": "2022-03-11T16:08:13.235Z"
   },
   {
    "duration": 254,
    "start_time": "2022-03-11T16:08:15.078Z"
   },
   {
    "duration": 283,
    "start_time": "2022-03-11T16:08:36.305Z"
   },
   {
    "duration": 71,
    "start_time": "2022-03-11T16:08:49.321Z"
   },
   {
    "duration": 15,
    "start_time": "2022-03-11T16:49:34.574Z"
   },
   {
    "duration": 14,
    "start_time": "2022-03-11T16:52:45.358Z"
   },
   {
    "duration": 5689,
    "start_time": "2022-03-11T17:25:29.400Z"
   },
   {
    "duration": -182,
    "start_time": "2022-03-11T17:25:42.361Z"
   },
   {
    "duration": 94,
    "start_time": "2022-03-11T17:25:46.381Z"
   },
   {
    "duration": 5655,
    "start_time": "2022-03-11T17:26:05.556Z"
   },
   {
    "duration": 5751,
    "start_time": "2022-03-11T17:26:24.210Z"
   },
   {
    "duration": 20,
    "start_time": "2022-03-11T17:32:34.196Z"
   },
   {
    "duration": 15,
    "start_time": "2022-03-11T17:34:22.980Z"
   },
   {
    "duration": 236,
    "start_time": "2022-03-11T17:37:05.234Z"
   },
   {
    "duration": 41,
    "start_time": "2022-03-11T17:37:16.991Z"
   },
   {
    "duration": 269,
    "start_time": "2022-03-11T17:46:14.021Z"
   },
   {
    "duration": 86,
    "start_time": "2022-03-11T17:46:46.084Z"
   },
   {
    "duration": 88,
    "start_time": "2022-03-11T17:47:16.029Z"
   },
   {
    "duration": 78,
    "start_time": "2022-03-11T17:47:30.087Z"
   },
   {
    "duration": 237,
    "start_time": "2022-03-11T17:47:40.361Z"
   },
   {
    "duration": 34,
    "start_time": "2022-03-11T17:47:53.329Z"
   },
   {
    "duration": 5,
    "start_time": "2022-03-11T17:59:11.768Z"
   },
   {
    "duration": 7,
    "start_time": "2022-03-11T17:59:29.765Z"
   },
   {
    "duration": 6,
    "start_time": "2022-03-11T18:00:23.595Z"
   },
   {
    "duration": 5,
    "start_time": "2022-03-11T18:00:26.667Z"
   },
   {
    "duration": 5,
    "start_time": "2022-03-11T18:00:29.411Z"
   },
   {
    "duration": 7,
    "start_time": "2022-03-11T18:00:32.596Z"
   },
   {
    "duration": 84,
    "start_time": "2022-03-11T18:00:42.186Z"
   },
   {
    "duration": 28,
    "start_time": "2022-03-11T18:00:42.273Z"
   },
   {
    "duration": 14,
    "start_time": "2022-03-11T18:00:42.305Z"
   },
   {
    "duration": 42,
    "start_time": "2022-03-11T18:00:42.322Z"
   },
   {
    "duration": 25,
    "start_time": "2022-03-11T18:00:42.366Z"
   },
   {
    "duration": 33,
    "start_time": "2022-03-11T18:00:57.076Z"
   },
   {
    "duration": 23,
    "start_time": "2022-03-11T18:02:14.322Z"
   },
   {
    "duration": 8,
    "start_time": "2022-03-11T18:03:05.286Z"
   },
   {
    "duration": 239,
    "start_time": "2022-03-11T18:05:55.513Z"
   },
   {
    "duration": 211,
    "start_time": "2022-03-11T18:06:12.055Z"
   },
   {
    "duration": 6,
    "start_time": "2022-03-11T18:06:28.405Z"
   },
   {
    "duration": 6,
    "start_time": "2022-03-11T18:07:40.911Z"
   },
   {
    "duration": 5,
    "start_time": "2022-03-11T18:07:43.582Z"
   },
   {
    "duration": 90,
    "start_time": "2022-03-11T18:07:47.343Z"
   },
   {
    "duration": 14,
    "start_time": "2022-03-11T18:07:47.435Z"
   },
   {
    "duration": 13,
    "start_time": "2022-03-11T18:07:47.452Z"
   },
   {
    "duration": 6,
    "start_time": "2022-03-11T18:07:47.488Z"
   },
   {
    "duration": 9,
    "start_time": "2022-03-11T18:07:47.496Z"
   },
   {
    "duration": 7,
    "start_time": "2022-03-11T18:07:50.608Z"
   },
   {
    "duration": 5,
    "start_time": "2022-03-11T18:07:59.494Z"
   },
   {
    "duration": 13,
    "start_time": "2022-03-11T18:09:13.751Z"
   },
   {
    "duration": 22,
    "start_time": "2022-03-11T18:26:19.950Z"
   },
   {
    "duration": 31,
    "start_time": "2022-03-11T18:36:00.465Z"
   },
   {
    "duration": 35,
    "start_time": "2022-03-11T18:39:41.208Z"
   },
   {
    "duration": 18,
    "start_time": "2022-03-11T18:39:56.981Z"
   },
   {
    "duration": 16,
    "start_time": "2022-03-11T18:51:06.762Z"
   },
   {
    "duration": 241,
    "start_time": "2022-03-12T13:51:33.723Z"
   },
   {
    "duration": 463,
    "start_time": "2022-03-12T13:51:50.002Z"
   },
   {
    "duration": 195,
    "start_time": "2022-03-12T13:52:21.202Z"
   },
   {
    "duration": 184,
    "start_time": "2022-03-12T13:52:42.465Z"
   },
   {
    "duration": 189,
    "start_time": "2022-03-12T13:53:02.545Z"
   },
   {
    "duration": 202,
    "start_time": "2022-03-12T13:58:58.642Z"
   },
   {
    "duration": 177,
    "start_time": "2022-03-12T13:59:57.359Z"
   },
   {
    "duration": 175,
    "start_time": "2022-03-12T14:00:53.630Z"
   },
   {
    "duration": 628,
    "start_time": "2022-03-12T14:00:56.982Z"
   },
   {
    "duration": 11,
    "start_time": "2022-03-12T14:00:57.612Z"
   },
   {
    "duration": 9,
    "start_time": "2022-03-12T14:00:57.625Z"
   },
   {
    "duration": 4,
    "start_time": "2022-03-12T14:00:57.636Z"
   },
   {
    "duration": 5,
    "start_time": "2022-03-12T14:00:57.659Z"
   },
   {
    "duration": 4,
    "start_time": "2022-03-12T14:00:57.665Z"
   },
   {
    "duration": 4,
    "start_time": "2022-03-12T14:00:57.671Z"
   },
   {
    "duration": 11,
    "start_time": "2022-03-12T14:00:57.677Z"
   },
   {
    "duration": 18,
    "start_time": "2022-03-12T14:00:57.689Z"
   },
   {
    "duration": 13,
    "start_time": "2022-03-12T14:00:57.709Z"
   },
   {
    "duration": 42,
    "start_time": "2022-03-12T14:00:57.723Z"
   },
   {
    "duration": 6,
    "start_time": "2022-03-12T14:00:57.766Z"
   },
   {
    "duration": 7,
    "start_time": "2022-03-12T14:01:48.252Z"
   },
   {
    "duration": 8,
    "start_time": "2022-03-12T14:02:50.986Z"
   },
   {
    "duration": 8,
    "start_time": "2022-03-12T14:04:15.156Z"
   },
   {
    "duration": 7,
    "start_time": "2022-03-12T14:05:16.344Z"
   },
   {
    "duration": 25,
    "start_time": "2022-03-12T14:28:59.065Z"
   },
   {
    "duration": 7,
    "start_time": "2022-03-12T14:29:18.591Z"
   },
   {
    "duration": 6,
    "start_time": "2022-03-12T14:38:26.503Z"
   },
   {
    "duration": 8,
    "start_time": "2022-03-12T14:49:03.305Z"
   },
   {
    "duration": 6,
    "start_time": "2022-03-12T14:49:50.664Z"
   },
   {
    "duration": 9,
    "start_time": "2022-03-12T14:53:14.257Z"
   },
   {
    "duration": 334,
    "start_time": "2022-03-12T14:55:11.096Z"
   },
   {
    "duration": 26,
    "start_time": "2022-03-12T14:55:32.158Z"
   },
   {
    "duration": 24,
    "start_time": "2022-03-12T14:58:58.987Z"
   },
   {
    "duration": 68,
    "start_time": "2022-03-12T15:16:36.647Z"
   },
   {
    "duration": 11,
    "start_time": "2022-03-12T15:16:36.717Z"
   },
   {
    "duration": 34,
    "start_time": "2022-03-12T15:16:36.730Z"
   },
   {
    "duration": 5,
    "start_time": "2022-03-12T15:16:36.766Z"
   },
   {
    "duration": 5,
    "start_time": "2022-03-12T15:16:36.772Z"
   },
   {
    "duration": 3,
    "start_time": "2022-03-12T15:16:36.779Z"
   },
   {
    "duration": 4,
    "start_time": "2022-03-12T15:16:36.783Z"
   },
   {
    "duration": 9,
    "start_time": "2022-03-12T15:16:36.790Z"
   },
   {
    "duration": 18,
    "start_time": "2022-03-12T15:16:36.801Z"
   },
   {
    "duration": 41,
    "start_time": "2022-03-12T15:16:36.821Z"
   },
   {
    "duration": 9,
    "start_time": "2022-03-12T15:16:36.864Z"
   },
   {
    "duration": 14,
    "start_time": "2022-03-12T15:16:36.875Z"
   },
   {
    "duration": 7,
    "start_time": "2022-03-12T15:16:36.891Z"
   },
   {
    "duration": 14,
    "start_time": "2022-03-12T15:16:36.899Z"
   },
   {
    "duration": 9,
    "start_time": "2022-03-12T15:16:36.914Z"
   },
   {
    "duration": 37,
    "start_time": "2022-03-12T15:16:36.925Z"
   },
   {
    "duration": 7,
    "start_time": "2022-03-12T15:16:36.964Z"
   },
   {
    "duration": 21,
    "start_time": "2022-03-12T15:16:36.973Z"
   },
   {
    "duration": 31,
    "start_time": "2022-03-12T15:16:36.996Z"
   },
   {
    "duration": 56,
    "start_time": "2022-03-12T15:16:37.028Z"
   },
   {
    "duration": 28,
    "start_time": "2022-03-12T15:16:37.086Z"
   },
   {
    "duration": 7,
    "start_time": "2022-03-12T15:16:37.116Z"
   },
   {
    "duration": 67,
    "start_time": "2022-03-12T15:20:19.711Z"
   },
   {
    "duration": 11,
    "start_time": "2022-03-12T15:20:19.779Z"
   },
   {
    "duration": 10,
    "start_time": "2022-03-12T15:20:19.793Z"
   },
   {
    "duration": 6,
    "start_time": "2022-03-12T15:20:19.805Z"
   },
   {
    "duration": 6,
    "start_time": "2022-03-12T15:20:19.812Z"
   },
   {
    "duration": 6,
    "start_time": "2022-03-12T15:20:19.819Z"
   },
   {
    "duration": 32,
    "start_time": "2022-03-12T15:20:19.827Z"
   },
   {
    "duration": 10,
    "start_time": "2022-03-12T15:20:19.862Z"
   },
   {
    "duration": 14,
    "start_time": "2022-03-12T15:20:19.874Z"
   },
   {
    "duration": 12,
    "start_time": "2022-03-12T15:20:19.890Z"
   },
   {
    "duration": 11,
    "start_time": "2022-03-12T15:20:19.904Z"
   },
   {
    "duration": 42,
    "start_time": "2022-03-12T15:20:19.917Z"
   },
   {
    "duration": 8,
    "start_time": "2022-03-12T15:20:19.961Z"
   },
   {
    "duration": 10,
    "start_time": "2022-03-12T15:20:19.971Z"
   },
   {
    "duration": 9,
    "start_time": "2022-03-12T15:20:19.983Z"
   },
   {
    "duration": 9,
    "start_time": "2022-03-12T15:20:19.994Z"
   },
   {
    "duration": 6,
    "start_time": "2022-03-12T15:20:20.004Z"
   },
   {
    "duration": 59,
    "start_time": "2022-03-12T15:20:20.012Z"
   },
   {
    "duration": 38,
    "start_time": "2022-03-12T15:20:20.072Z"
   },
   {
    "duration": 51,
    "start_time": "2022-03-12T15:20:20.111Z"
   },
   {
    "duration": 28,
    "start_time": "2022-03-12T15:20:20.163Z"
   },
   {
    "duration": 6,
    "start_time": "2022-03-12T15:20:20.193Z"
   },
   {
    "duration": 217,
    "start_time": "2022-03-13T10:30:35.267Z"
   },
   {
    "duration": 678,
    "start_time": "2022-03-13T10:30:40.044Z"
   },
   {
    "duration": 10,
    "start_time": "2022-03-13T10:30:40.724Z"
   },
   {
    "duration": 15,
    "start_time": "2022-03-13T10:30:40.738Z"
   },
   {
    "duration": 9,
    "start_time": "2022-03-13T10:30:40.757Z"
   },
   {
    "duration": 5,
    "start_time": "2022-03-13T10:30:40.768Z"
   },
   {
    "duration": 4,
    "start_time": "2022-03-13T10:30:40.775Z"
   },
   {
    "duration": 5,
    "start_time": "2022-03-13T10:30:40.781Z"
   },
   {
    "duration": 11,
    "start_time": "2022-03-13T10:30:40.788Z"
   },
   {
    "duration": 45,
    "start_time": "2022-03-13T10:30:40.801Z"
   },
   {
    "duration": 16,
    "start_time": "2022-03-13T10:30:40.849Z"
   },
   {
    "duration": 19,
    "start_time": "2022-03-13T10:30:40.867Z"
   },
   {
    "duration": 14,
    "start_time": "2022-03-13T10:30:40.888Z"
   },
   {
    "duration": 7,
    "start_time": "2022-03-13T10:30:40.904Z"
   },
   {
    "duration": 33,
    "start_time": "2022-03-13T10:30:40.913Z"
   },
   {
    "duration": 19,
    "start_time": "2022-03-13T10:30:40.948Z"
   },
   {
    "duration": 10,
    "start_time": "2022-03-13T10:30:40.969Z"
   },
   {
    "duration": 7,
    "start_time": "2022-03-13T10:30:40.981Z"
   },
   {
    "duration": 22,
    "start_time": "2022-03-13T10:30:40.989Z"
   },
   {
    "duration": 62,
    "start_time": "2022-03-13T10:30:41.013Z"
   },
   {
    "duration": 29,
    "start_time": "2022-03-13T10:30:41.077Z"
   },
   {
    "duration": 46,
    "start_time": "2022-03-13T10:30:41.107Z"
   },
   {
    "duration": 7,
    "start_time": "2022-03-13T10:30:41.155Z"
   },
   {
    "duration": 12,
    "start_time": "2022-03-13T10:30:41.165Z"
   },
   {
    "duration": 7,
    "start_time": "2022-03-13T10:33:06.108Z"
   },
   {
    "duration": 10,
    "start_time": "2022-03-13T10:39:15.952Z"
   },
   {
    "duration": 8,
    "start_time": "2022-03-13T10:39:59.170Z"
   },
   {
    "duration": 22,
    "start_time": "2022-03-13T10:47:14.106Z"
   },
   {
    "duration": 18,
    "start_time": "2022-03-13T10:47:30.464Z"
   },
   {
    "duration": 7,
    "start_time": "2022-03-13T10:53:45.820Z"
   },
   {
    "duration": 270,
    "start_time": "2022-03-13T10:53:59.948Z"
   },
   {
    "duration": 64,
    "start_time": "2022-03-13T10:54:03.311Z"
   },
   {
    "duration": 10,
    "start_time": "2022-03-13T10:54:03.377Z"
   },
   {
    "duration": 14,
    "start_time": "2022-03-13T10:54:03.389Z"
   },
   {
    "duration": 6,
    "start_time": "2022-03-13T10:54:03.405Z"
   },
   {
    "duration": 27,
    "start_time": "2022-03-13T10:54:03.413Z"
   },
   {
    "duration": 4,
    "start_time": "2022-03-13T10:54:03.442Z"
   },
   {
    "duration": 5,
    "start_time": "2022-03-13T10:54:03.448Z"
   },
   {
    "duration": 11,
    "start_time": "2022-03-13T10:54:03.456Z"
   },
   {
    "duration": 17,
    "start_time": "2022-03-13T10:54:03.469Z"
   },
   {
    "duration": 19,
    "start_time": "2022-03-13T10:54:03.488Z"
   },
   {
    "duration": 10,
    "start_time": "2022-03-13T10:54:03.538Z"
   },
   {
    "duration": 14,
    "start_time": "2022-03-13T10:54:03.550Z"
   },
   {
    "duration": 9,
    "start_time": "2022-03-13T10:54:03.566Z"
   },
   {
    "duration": 9,
    "start_time": "2022-03-13T10:54:03.577Z"
   },
   {
    "duration": 12,
    "start_time": "2022-03-13T10:54:03.588Z"
   },
   {
    "duration": 41,
    "start_time": "2022-03-13T10:54:03.602Z"
   },
   {
    "duration": 8,
    "start_time": "2022-03-13T10:54:03.644Z"
   },
   {
    "duration": 22,
    "start_time": "2022-03-13T10:54:03.653Z"
   },
   {
    "duration": 33,
    "start_time": "2022-03-13T10:54:03.677Z"
   },
   {
    "duration": 50,
    "start_time": "2022-03-13T10:54:03.712Z"
   },
   {
    "duration": 28,
    "start_time": "2022-03-13T10:54:03.764Z"
   },
   {
    "duration": 8,
    "start_time": "2022-03-13T10:54:03.795Z"
   },
   {
    "duration": 89,
    "start_time": "2022-03-13T10:54:03.807Z"
   },
   {
    "duration": -450,
    "start_time": "2022-03-13T10:54:04.349Z"
   },
   {
    "duration": -452,
    "start_time": "2022-03-13T10:54:04.352Z"
   },
   {
    "duration": -453,
    "start_time": "2022-03-13T10:54:04.354Z"
   },
   {
    "duration": -453,
    "start_time": "2022-03-13T10:54:04.356Z"
   },
   {
    "duration": 71,
    "start_time": "2022-03-13T10:54:14.209Z"
   },
   {
    "duration": 12,
    "start_time": "2022-03-13T10:54:14.283Z"
   },
   {
    "duration": 17,
    "start_time": "2022-03-13T10:54:14.297Z"
   },
   {
    "duration": 21,
    "start_time": "2022-03-13T10:54:14.317Z"
   },
   {
    "duration": 7,
    "start_time": "2022-03-13T10:54:14.340Z"
   },
   {
    "duration": 9,
    "start_time": "2022-03-13T10:54:14.349Z"
   },
   {
    "duration": 7,
    "start_time": "2022-03-13T10:54:14.359Z"
   },
   {
    "duration": 11,
    "start_time": "2022-03-13T10:54:14.368Z"
   },
   {
    "duration": 18,
    "start_time": "2022-03-13T10:54:14.381Z"
   },
   {
    "duration": 18,
    "start_time": "2022-03-13T10:54:14.400Z"
   },
   {
    "duration": 24,
    "start_time": "2022-03-13T10:54:14.420Z"
   },
   {
    "duration": 13,
    "start_time": "2022-03-13T10:54:14.446Z"
   },
   {
    "duration": 8,
    "start_time": "2022-03-13T10:54:14.460Z"
   },
   {
    "duration": 14,
    "start_time": "2022-03-13T10:54:14.470Z"
   },
   {
    "duration": 11,
    "start_time": "2022-03-13T10:54:14.486Z"
   },
   {
    "duration": 12,
    "start_time": "2022-03-13T10:54:14.499Z"
   },
   {
    "duration": 26,
    "start_time": "2022-03-13T10:54:14.513Z"
   },
   {
    "duration": 24,
    "start_time": "2022-03-13T10:54:14.541Z"
   },
   {
    "duration": 38,
    "start_time": "2022-03-13T10:54:14.567Z"
   },
   {
    "duration": 57,
    "start_time": "2022-03-13T10:54:14.607Z"
   },
   {
    "duration": 30,
    "start_time": "2022-03-13T10:54:14.666Z"
   },
   {
    "duration": 7,
    "start_time": "2022-03-13T10:54:14.698Z"
   },
   {
    "duration": 73,
    "start_time": "2022-03-13T10:54:14.707Z"
   },
   {
    "duration": -436,
    "start_time": "2022-03-13T10:54:15.218Z"
   },
   {
    "duration": -440,
    "start_time": "2022-03-13T10:54:15.223Z"
   },
   {
    "duration": -441,
    "start_time": "2022-03-13T10:54:15.225Z"
   },
   {
    "duration": -442,
    "start_time": "2022-03-13T10:54:15.227Z"
   },
   {
    "duration": 10,
    "start_time": "2022-03-13T10:54:47.569Z"
   },
   {
    "duration": 6,
    "start_time": "2022-03-13T10:54:51.813Z"
   },
   {
    "duration": 12,
    "start_time": "2022-03-13T10:54:55.039Z"
   },
   {
    "duration": 10,
    "start_time": "2022-03-13T10:54:57.770Z"
   },
   {
    "duration": 20,
    "start_time": "2022-03-13T10:55:00.330Z"
   },
   {
    "duration": 208,
    "start_time": "2022-03-13T11:06:30.189Z"
   },
   {
    "duration": 169,
    "start_time": "2022-03-13T11:06:45.593Z"
   },
   {
    "duration": 60,
    "start_time": "2022-03-13T11:06:52.446Z"
   },
   {
    "duration": 10,
    "start_time": "2022-03-13T11:06:52.508Z"
   },
   {
    "duration": 22,
    "start_time": "2022-03-13T11:06:52.520Z"
   },
   {
    "duration": 5,
    "start_time": "2022-03-13T11:06:52.544Z"
   },
   {
    "duration": 6,
    "start_time": "2022-03-13T11:06:52.550Z"
   },
   {
    "duration": 3,
    "start_time": "2022-03-13T11:06:52.558Z"
   },
   {
    "duration": 5,
    "start_time": "2022-03-13T11:06:52.563Z"
   },
   {
    "duration": 12,
    "start_time": "2022-03-13T11:06:52.570Z"
   },
   {
    "duration": 18,
    "start_time": "2022-03-13T11:06:52.584Z"
   },
   {
    "duration": 44,
    "start_time": "2022-03-13T11:06:52.604Z"
   },
   {
    "duration": 12,
    "start_time": "2022-03-13T11:06:52.650Z"
   },
   {
    "duration": 15,
    "start_time": "2022-03-13T11:06:52.664Z"
   },
   {
    "duration": 8,
    "start_time": "2022-03-13T11:06:52.681Z"
   },
   {
    "duration": 9,
    "start_time": "2022-03-13T11:06:52.691Z"
   },
   {
    "duration": 38,
    "start_time": "2022-03-13T11:06:52.701Z"
   },
   {
    "duration": 9,
    "start_time": "2022-03-13T11:06:52.741Z"
   },
   {
    "duration": 7,
    "start_time": "2022-03-13T11:06:52.752Z"
   },
   {
    "duration": 23,
    "start_time": "2022-03-13T11:06:52.760Z"
   },
   {
    "duration": 61,
    "start_time": "2022-03-13T11:06:52.784Z"
   },
   {
    "duration": 29,
    "start_time": "2022-03-13T11:06:52.847Z"
   },
   {
    "duration": 26,
    "start_time": "2022-03-13T11:06:52.878Z"
   },
   {
    "duration": 36,
    "start_time": "2022-03-13T11:06:52.906Z"
   },
   {
    "duration": 11,
    "start_time": "2022-03-13T11:06:52.945Z"
   },
   {
    "duration": 7,
    "start_time": "2022-03-13T11:06:52.958Z"
   },
   {
    "duration": 11,
    "start_time": "2022-03-13T11:06:52.966Z"
   },
   {
    "duration": 8,
    "start_time": "2022-03-13T11:06:52.979Z"
   },
   {
    "duration": 17,
    "start_time": "2022-03-13T11:06:52.989Z"
   },
   {
    "duration": 4,
    "start_time": "2022-03-13T11:06:53.008Z"
   },
   {
    "duration": 4,
    "start_time": "2022-03-13T11:08:16.553Z"
   },
   {
    "duration": 3,
    "start_time": "2022-03-13T11:08:50.515Z"
   },
   {
    "duration": 61,
    "start_time": "2022-03-13T11:08:52.782Z"
   },
   {
    "duration": 11,
    "start_time": "2022-03-13T11:08:52.844Z"
   },
   {
    "duration": 10,
    "start_time": "2022-03-13T11:08:52.857Z"
   },
   {
    "duration": 7,
    "start_time": "2022-03-13T11:08:52.869Z"
   },
   {
    "duration": 6,
    "start_time": "2022-03-13T11:08:52.878Z"
   },
   {
    "duration": 4,
    "start_time": "2022-03-13T11:08:52.886Z"
   },
   {
    "duration": 5,
    "start_time": "2022-03-13T11:08:52.891Z"
   },
   {
    "duration": 43,
    "start_time": "2022-03-13T11:08:52.899Z"
   },
   {
    "duration": 26,
    "start_time": "2022-03-13T11:08:52.944Z"
   },
   {
    "duration": 24,
    "start_time": "2022-03-13T11:08:52.971Z"
   },
   {
    "duration": 11,
    "start_time": "2022-03-13T11:08:52.997Z"
   },
   {
    "duration": 18,
    "start_time": "2022-03-13T11:08:53.010Z"
   },
   {
    "duration": 9,
    "start_time": "2022-03-13T11:08:53.029Z"
   },
   {
    "duration": 12,
    "start_time": "2022-03-13T11:08:53.040Z"
   },
   {
    "duration": 9,
    "start_time": "2022-03-13T11:08:53.053Z"
   },
   {
    "duration": 8,
    "start_time": "2022-03-13T11:08:53.064Z"
   },
   {
    "duration": 10,
    "start_time": "2022-03-13T11:08:53.073Z"
   },
   {
    "duration": 21,
    "start_time": "2022-03-13T11:08:53.084Z"
   },
   {
    "duration": 61,
    "start_time": "2022-03-13T11:08:53.107Z"
   },
   {
    "duration": 27,
    "start_time": "2022-03-13T11:08:53.169Z"
   },
   {
    "duration": 44,
    "start_time": "2022-03-13T11:08:53.198Z"
   },
   {
    "duration": 7,
    "start_time": "2022-03-13T11:08:53.243Z"
   },
   {
    "duration": 17,
    "start_time": "2022-03-13T11:08:53.253Z"
   },
   {
    "duration": 14,
    "start_time": "2022-03-13T11:08:53.272Z"
   },
   {
    "duration": 18,
    "start_time": "2022-03-13T11:08:53.287Z"
   },
   {
    "duration": 12,
    "start_time": "2022-03-13T11:08:53.307Z"
   },
   {
    "duration": 32,
    "start_time": "2022-03-13T11:08:53.321Z"
   },
   {
    "duration": 9,
    "start_time": "2022-03-13T11:08:53.355Z"
   },
   {
    "duration": 3,
    "start_time": "2022-03-13T11:09:18.414Z"
   },
   {
    "duration": 4,
    "start_time": "2022-03-13T11:09:33.965Z"
   },
   {
    "duration": 3,
    "start_time": "2022-03-13T11:09:41.665Z"
   },
   {
    "duration": 17,
    "start_time": "2022-03-13T11:13:57.078Z"
   },
   {
    "duration": -451,
    "start_time": "2022-03-13T11:15:18.769Z"
   },
   {
    "duration": -420,
    "start_time": "2022-03-13T11:15:57.253Z"
   },
   {
    "duration": -421,
    "start_time": "2022-03-13T11:15:57.255Z"
   },
   {
    "duration": -423,
    "start_time": "2022-03-13T11:15:57.258Z"
   },
   {
    "duration": -428,
    "start_time": "2022-03-13T11:15:57.264Z"
   },
   {
    "duration": -429,
    "start_time": "2022-03-13T11:15:57.266Z"
   },
   {
    "duration": -430,
    "start_time": "2022-03-13T11:15:57.268Z"
   },
   {
    "duration": -430,
    "start_time": "2022-03-13T11:15:57.270Z"
   },
   {
    "duration": -431,
    "start_time": "2022-03-13T11:15:57.272Z"
   },
   {
    "duration": -431,
    "start_time": "2022-03-13T11:15:57.274Z"
   },
   {
    "duration": -437,
    "start_time": "2022-03-13T11:15:57.281Z"
   },
   {
    "duration": -438,
    "start_time": "2022-03-13T11:15:57.284Z"
   },
   {
    "duration": -438,
    "start_time": "2022-03-13T11:15:57.285Z"
   },
   {
    "duration": -438,
    "start_time": "2022-03-13T11:15:57.287Z"
   },
   {
    "duration": -439,
    "start_time": "2022-03-13T11:15:57.289Z"
   },
   {
    "duration": -443,
    "start_time": "2022-03-13T11:15:57.295Z"
   },
   {
    "duration": -444,
    "start_time": "2022-03-13T11:15:57.297Z"
   },
   {
    "duration": -445,
    "start_time": "2022-03-13T11:15:57.300Z"
   },
   {
    "duration": -444,
    "start_time": "2022-03-13T11:15:57.301Z"
   },
   {
    "duration": -446,
    "start_time": "2022-03-13T11:15:57.304Z"
   },
   {
    "duration": -447,
    "start_time": "2022-03-13T11:15:57.307Z"
   },
   {
    "duration": -455,
    "start_time": "2022-03-13T11:15:57.316Z"
   },
   {
    "duration": -456,
    "start_time": "2022-03-13T11:15:57.319Z"
   },
   {
    "duration": -458,
    "start_time": "2022-03-13T11:15:57.322Z"
   },
   {
    "duration": -459,
    "start_time": "2022-03-13T11:15:57.324Z"
   },
   {
    "duration": -463,
    "start_time": "2022-03-13T11:15:57.330Z"
   },
   {
    "duration": -464,
    "start_time": "2022-03-13T11:15:57.332Z"
   },
   {
    "duration": -465,
    "start_time": "2022-03-13T11:15:57.335Z"
   },
   {
    "duration": -466,
    "start_time": "2022-03-13T11:15:57.337Z"
   },
   {
    "duration": -467,
    "start_time": "2022-03-13T11:15:57.339Z"
   },
   {
    "duration": -467,
    "start_time": "2022-03-13T11:15:57.341Z"
   },
   {
    "duration": 62,
    "start_time": "2022-03-13T11:15:59.737Z"
   },
   {
    "duration": 10,
    "start_time": "2022-03-13T11:15:59.801Z"
   },
   {
    "duration": 9,
    "start_time": "2022-03-13T11:15:59.839Z"
   },
   {
    "duration": 12,
    "start_time": "2022-03-13T11:15:59.851Z"
   },
   {
    "duration": 8,
    "start_time": "2022-03-13T11:15:59.864Z"
   },
   {
    "duration": 5,
    "start_time": "2022-03-13T11:15:59.874Z"
   },
   {
    "duration": 8,
    "start_time": "2022-03-13T11:15:59.881Z"
   },
   {
    "duration": 12,
    "start_time": "2022-03-13T11:15:59.892Z"
   },
   {
    "duration": 41,
    "start_time": "2022-03-13T11:15:59.906Z"
   },
   {
    "duration": 24,
    "start_time": "2022-03-13T11:15:59.949Z"
   },
   {
    "duration": 15,
    "start_time": "2022-03-13T11:15:59.975Z"
   },
   {
    "duration": 27,
    "start_time": "2022-03-13T11:15:59.992Z"
   },
   {
    "duration": 15,
    "start_time": "2022-03-13T11:16:00.021Z"
   },
   {
    "duration": 20,
    "start_time": "2022-03-13T11:16:00.038Z"
   },
   {
    "duration": 14,
    "start_time": "2022-03-13T11:16:00.061Z"
   },
   {
    "duration": 12,
    "start_time": "2022-03-13T11:16:00.077Z"
   },
   {
    "duration": 30,
    "start_time": "2022-03-13T11:16:00.091Z"
   },
   {
    "duration": 57,
    "start_time": "2022-03-13T11:16:00.123Z"
   },
   {
    "duration": 35,
    "start_time": "2022-03-13T11:16:00.182Z"
   },
   {
    "duration": 38,
    "start_time": "2022-03-13T11:16:00.219Z"
   },
   {
    "duration": 36,
    "start_time": "2022-03-13T11:16:00.259Z"
   },
   {
    "duration": 7,
    "start_time": "2022-03-13T11:16:00.297Z"
   },
   {
    "duration": 38,
    "start_time": "2022-03-13T11:16:00.307Z"
   },
   {
    "duration": 7,
    "start_time": "2022-03-13T11:16:00.347Z"
   },
   {
    "duration": 17,
    "start_time": "2022-03-13T11:16:00.356Z"
   },
   {
    "duration": 11,
    "start_time": "2022-03-13T11:16:00.375Z"
   },
   {
    "duration": 12,
    "start_time": "2022-03-13T11:16:00.388Z"
   },
   {
    "duration": 52,
    "start_time": "2022-03-13T11:16:00.401Z"
   },
   {
    "duration": 4,
    "start_time": "2022-03-13T11:16:00.455Z"
   },
   {
    "duration": -419,
    "start_time": "2022-03-13T11:16:00.880Z"
   },
   {
    "duration": 66,
    "start_time": "2022-03-13T11:35:47.680Z"
   },
   {
    "duration": 3,
    "start_time": "2022-03-13T11:36:21.194Z"
   },
   {
    "duration": 61,
    "start_time": "2022-03-13T11:36:30.188Z"
   },
   {
    "duration": 12,
    "start_time": "2022-03-13T11:36:30.252Z"
   },
   {
    "duration": 11,
    "start_time": "2022-03-13T11:36:30.267Z"
   },
   {
    "duration": 6,
    "start_time": "2022-03-13T11:36:30.281Z"
   },
   {
    "duration": 9,
    "start_time": "2022-03-13T11:36:30.289Z"
   },
   {
    "duration": 16,
    "start_time": "2022-03-13T11:36:30.299Z"
   },
   {
    "duration": 9,
    "start_time": "2022-03-13T11:36:30.338Z"
   },
   {
    "duration": 15,
    "start_time": "2022-03-13T11:36:30.349Z"
   },
   {
    "duration": 17,
    "start_time": "2022-03-13T11:36:30.366Z"
   },
   {
    "duration": 29,
    "start_time": "2022-03-13T11:36:30.385Z"
   },
   {
    "duration": 12,
    "start_time": "2022-03-13T11:36:30.416Z"
   },
   {
    "duration": 22,
    "start_time": "2022-03-13T11:36:30.430Z"
   },
   {
    "duration": 7,
    "start_time": "2022-03-13T11:36:30.454Z"
   },
   {
    "duration": 35,
    "start_time": "2022-03-13T11:36:30.463Z"
   },
   {
    "duration": 15,
    "start_time": "2022-03-13T11:36:30.500Z"
   },
   {
    "duration": 10,
    "start_time": "2022-03-13T11:36:30.517Z"
   },
   {
    "duration": 11,
    "start_time": "2022-03-13T11:36:30.529Z"
   },
   {
    "duration": 23,
    "start_time": "2022-03-13T11:36:30.541Z"
   },
   {
    "duration": 41,
    "start_time": "2022-03-13T11:36:30.566Z"
   },
   {
    "duration": 38,
    "start_time": "2022-03-13T11:36:30.609Z"
   },
   {
    "duration": 29,
    "start_time": "2022-03-13T11:36:30.649Z"
   },
   {
    "duration": 8,
    "start_time": "2022-03-13T11:36:30.679Z"
   },
   {
    "duration": 17,
    "start_time": "2022-03-13T11:36:30.690Z"
   },
   {
    "duration": 14,
    "start_time": "2022-03-13T11:36:30.709Z"
   },
   {
    "duration": 11,
    "start_time": "2022-03-13T11:36:30.738Z"
   },
   {
    "duration": 13,
    "start_time": "2022-03-13T11:36:30.751Z"
   },
   {
    "duration": 22,
    "start_time": "2022-03-13T11:36:30.766Z"
   },
   {
    "duration": 21,
    "start_time": "2022-03-13T11:36:30.790Z"
   },
   {
    "duration": 29,
    "start_time": "2022-03-13T11:36:30.813Z"
   },
   {
    "duration": -414,
    "start_time": "2022-03-13T11:36:31.257Z"
   },
   {
    "duration": 175,
    "start_time": "2022-03-13T11:37:48.342Z"
   },
   {
    "duration": 192,
    "start_time": "2022-03-13T11:38:09.029Z"
   },
   {
    "duration": 3,
    "start_time": "2022-03-13T11:38:20.745Z"
   },
   {
    "duration": 3,
    "start_time": "2022-03-13T11:44:01.354Z"
   },
   {
    "duration": 4,
    "start_time": "2022-03-13T11:44:04.959Z"
   },
   {
    "duration": 5,
    "start_time": "2022-03-13T11:44:21.280Z"
   },
   {
    "duration": 5,
    "start_time": "2022-03-13T11:45:27.686Z"
   },
   {
    "duration": 289,
    "start_time": "2022-03-13T11:46:08.933Z"
   },
   {
    "duration": 65,
    "start_time": "2022-03-13T11:46:12.747Z"
   },
   {
    "duration": 23,
    "start_time": "2022-03-13T11:46:12.814Z"
   },
   {
    "duration": 10,
    "start_time": "2022-03-13T11:46:12.840Z"
   },
   {
    "duration": 8,
    "start_time": "2022-03-13T11:46:12.852Z"
   },
   {
    "duration": 6,
    "start_time": "2022-03-13T11:46:12.861Z"
   },
   {
    "duration": 5,
    "start_time": "2022-03-13T11:46:12.869Z"
   },
   {
    "duration": 6,
    "start_time": "2022-03-13T11:46:12.876Z"
   },
   {
    "duration": 15,
    "start_time": "2022-03-13T11:46:12.884Z"
   },
   {
    "duration": 43,
    "start_time": "2022-03-13T11:46:12.900Z"
   },
   {
    "duration": 11,
    "start_time": "2022-03-13T11:46:12.945Z"
   },
   {
    "duration": 15,
    "start_time": "2022-03-13T11:46:12.958Z"
   },
   {
    "duration": 26,
    "start_time": "2022-03-13T11:46:12.976Z"
   },
   {
    "duration": 8,
    "start_time": "2022-03-13T11:46:13.004Z"
   },
   {
    "duration": 27,
    "start_time": "2022-03-13T11:46:13.014Z"
   },
   {
    "duration": 10,
    "start_time": "2022-03-13T11:46:13.043Z"
   },
   {
    "duration": 16,
    "start_time": "2022-03-13T11:46:13.055Z"
   },
   {
    "duration": 15,
    "start_time": "2022-03-13T11:46:13.072Z"
   },
   {
    "duration": 26,
    "start_time": "2022-03-13T11:46:13.089Z"
   },
   {
    "duration": 48,
    "start_time": "2022-03-13T11:46:13.116Z"
   },
   {
    "duration": 27,
    "start_time": "2022-03-13T11:46:13.165Z"
   },
   {
    "duration": 49,
    "start_time": "2022-03-13T11:46:13.194Z"
   },
   {
    "duration": 7,
    "start_time": "2022-03-13T11:46:13.245Z"
   },
   {
    "duration": 10,
    "start_time": "2022-03-13T11:46:13.256Z"
   },
   {
    "duration": 8,
    "start_time": "2022-03-13T11:46:13.268Z"
   },
   {
    "duration": 12,
    "start_time": "2022-03-13T11:46:13.278Z"
   },
   {
    "duration": 10,
    "start_time": "2022-03-13T11:46:13.292Z"
   },
   {
    "duration": 44,
    "start_time": "2022-03-13T11:46:13.304Z"
   },
   {
    "duration": 292,
    "start_time": "2022-03-13T11:46:13.351Z"
   },
   {
    "duration": -411,
    "start_time": "2022-03-13T11:46:14.057Z"
   },
   {
    "duration": -412,
    "start_time": "2022-03-13T11:46:14.059Z"
   },
   {
    "duration": 284,
    "start_time": "2022-03-13T11:46:24.153Z"
   },
   {
    "duration": 5,
    "start_time": "2022-03-13T11:46:50.759Z"
   },
   {
    "duration": 5,
    "start_time": "2022-03-13T11:46:57.628Z"
   },
   {
    "duration": 13,
    "start_time": "2022-03-13T11:47:38.400Z"
   },
   {
    "duration": 13,
    "start_time": "2022-03-13T11:50:37.717Z"
   },
   {
    "duration": 707,
    "start_time": "2022-03-13T11:51:11.694Z"
   },
   {
    "duration": 3,
    "start_time": "2022-03-13T11:51:30.993Z"
   },
   {
    "duration": 4,
    "start_time": "2022-03-13T11:51:35.045Z"
   },
   {
    "duration": 198,
    "start_time": "2022-03-13T11:57:11.077Z"
   },
   {
    "duration": 703,
    "start_time": "2022-03-13T12:04:32.152Z"
   },
   {
    "duration": 56,
    "start_time": "2022-03-13T12:36:28.677Z"
   },
   {
    "duration": 4,
    "start_time": "2022-03-13T12:36:41.094Z"
   },
   {
    "duration": 668,
    "start_time": "2022-03-13T12:49:25.500Z"
   },
   {
    "duration": 768,
    "start_time": "2022-03-13T12:52:15.023Z"
   },
   {
    "duration": 1237,
    "start_time": "2022-03-13T13:03:39.618Z"
   },
   {
    "duration": 764,
    "start_time": "2022-03-13T13:03:42.464Z"
   },
   {
    "duration": 62,
    "start_time": "2022-03-13T13:03:45.592Z"
   },
   {
    "duration": 10,
    "start_time": "2022-03-13T13:03:45.655Z"
   },
   {
    "duration": 13,
    "start_time": "2022-03-13T13:03:45.667Z"
   },
   {
    "duration": 6,
    "start_time": "2022-03-13T13:03:45.682Z"
   },
   {
    "duration": 6,
    "start_time": "2022-03-13T13:03:45.690Z"
   },
   {
    "duration": 4,
    "start_time": "2022-03-13T13:03:45.698Z"
   },
   {
    "duration": 35,
    "start_time": "2022-03-13T13:03:45.704Z"
   },
   {
    "duration": 17,
    "start_time": "2022-03-13T13:03:45.742Z"
   },
   {
    "duration": 13,
    "start_time": "2022-03-13T13:03:45.761Z"
   },
   {
    "duration": 18,
    "start_time": "2022-03-13T13:03:45.775Z"
   },
   {
    "duration": 11,
    "start_time": "2022-03-13T13:03:45.795Z"
   },
   {
    "duration": 17,
    "start_time": "2022-03-13T13:03:45.807Z"
   },
   {
    "duration": 13,
    "start_time": "2022-03-13T13:03:45.825Z"
   },
   {
    "duration": 10,
    "start_time": "2022-03-13T13:03:45.840Z"
   },
   {
    "duration": 8,
    "start_time": "2022-03-13T13:03:45.851Z"
   },
   {
    "duration": 13,
    "start_time": "2022-03-13T13:03:45.860Z"
   },
   {
    "duration": 9,
    "start_time": "2022-03-13T13:03:45.874Z"
   },
   {
    "duration": 27,
    "start_time": "2022-03-13T13:03:45.885Z"
   },
   {
    "duration": 50,
    "start_time": "2022-03-13T13:03:45.914Z"
   },
   {
    "duration": 26,
    "start_time": "2022-03-13T13:03:45.965Z"
   },
   {
    "duration": 45,
    "start_time": "2022-03-13T13:03:45.993Z"
   },
   {
    "duration": 7,
    "start_time": "2022-03-13T13:03:46.040Z"
   },
   {
    "duration": 21,
    "start_time": "2022-03-13T13:03:46.051Z"
   },
   {
    "duration": 18,
    "start_time": "2022-03-13T13:03:46.081Z"
   },
   {
    "duration": 14,
    "start_time": "2022-03-13T13:03:46.102Z"
   },
   {
    "duration": 21,
    "start_time": "2022-03-13T13:03:46.118Z"
   },
   {
    "duration": 13,
    "start_time": "2022-03-13T13:03:46.141Z"
   },
   {
    "duration": 5,
    "start_time": "2022-03-13T13:03:46.156Z"
   },
   {
    "duration": 28,
    "start_time": "2022-03-13T13:03:46.163Z"
   },
   {
    "duration": 4,
    "start_time": "2022-03-13T13:03:46.193Z"
   },
   {
    "duration": 19,
    "start_time": "2022-03-13T13:06:14.685Z"
   },
   {
    "duration": 69,
    "start_time": "2022-03-13T19:31:02.867Z"
   },
   {
    "duration": 233,
    "start_time": "2022-03-13T19:31:14.612Z"
   },
   {
    "duration": 663,
    "start_time": "2022-03-13T19:32:10.826Z"
   },
   {
    "duration": 10,
    "start_time": "2022-03-13T19:32:11.491Z"
   },
   {
    "duration": 14,
    "start_time": "2022-03-13T19:32:11.503Z"
   },
   {
    "duration": 14,
    "start_time": "2022-03-13T19:32:11.519Z"
   },
   {
    "duration": 4,
    "start_time": "2022-03-13T19:32:11.535Z"
   },
   {
    "duration": 7,
    "start_time": "2022-03-13T19:32:11.540Z"
   },
   {
    "duration": 6,
    "start_time": "2022-03-13T19:32:11.548Z"
   },
   {
    "duration": 15,
    "start_time": "2022-03-13T19:32:11.556Z"
   },
   {
    "duration": 13,
    "start_time": "2022-03-13T19:32:11.574Z"
   },
   {
    "duration": 12,
    "start_time": "2022-03-13T19:32:11.589Z"
   },
   {
    "duration": 33,
    "start_time": "2022-03-13T19:32:11.603Z"
   },
   {
    "duration": 13,
    "start_time": "2022-03-13T19:32:11.638Z"
   },
   {
    "duration": 6,
    "start_time": "2022-03-13T19:32:11.653Z"
   },
   {
    "duration": 8,
    "start_time": "2022-03-13T19:32:11.661Z"
   },
   {
    "duration": 16,
    "start_time": "2022-03-13T19:32:11.671Z"
   },
   {
    "duration": 10,
    "start_time": "2022-03-13T19:32:11.689Z"
   },
   {
    "duration": 10,
    "start_time": "2022-03-13T19:32:11.700Z"
   },
   {
    "duration": 37,
    "start_time": "2022-03-13T19:32:11.712Z"
   },
   {
    "duration": 32,
    "start_time": "2022-03-13T19:32:11.751Z"
   },
   {
    "duration": 26,
    "start_time": "2022-03-13T19:32:11.785Z"
   },
   {
    "duration": 25,
    "start_time": "2022-03-13T19:32:11.833Z"
   },
   {
    "duration": 7,
    "start_time": "2022-03-13T19:32:11.859Z"
   },
   {
    "duration": 14,
    "start_time": "2022-03-13T19:32:11.867Z"
   },
   {
    "duration": 10,
    "start_time": "2022-03-13T19:32:11.882Z"
   },
   {
    "duration": 13,
    "start_time": "2022-03-13T19:32:11.893Z"
   },
   {
    "duration": 28,
    "start_time": "2022-03-13T19:32:11.908Z"
   },
   {
    "duration": 11,
    "start_time": "2022-03-13T19:32:11.938Z"
   },
   {
    "duration": 8,
    "start_time": "2022-03-13T19:32:11.951Z"
   },
   {
    "duration": 21,
    "start_time": "2022-03-13T19:32:11.961Z"
   },
   {
    "duration": 2,
    "start_time": "2022-03-13T19:32:11.984Z"
   },
   {
    "duration": 21,
    "start_time": "2022-03-13T19:32:11.988Z"
   },
   {
    "duration": 35,
    "start_time": "2022-03-13T19:32:12.011Z"
   },
   {
    "duration": 62,
    "start_time": "2022-03-13T19:32:18.658Z"
   },
   {
    "duration": 12,
    "start_time": "2022-03-13T19:32:18.722Z"
   },
   {
    "duration": 14,
    "start_time": "2022-03-13T19:32:18.736Z"
   },
   {
    "duration": 5,
    "start_time": "2022-03-13T19:32:18.752Z"
   },
   {
    "duration": 5,
    "start_time": "2022-03-13T19:32:18.759Z"
   },
   {
    "duration": 5,
    "start_time": "2022-03-13T19:32:18.766Z"
   },
   {
    "duration": 6,
    "start_time": "2022-03-13T19:32:18.773Z"
   },
   {
    "duration": 54,
    "start_time": "2022-03-13T19:32:18.782Z"
   },
   {
    "duration": 19,
    "start_time": "2022-03-13T19:32:18.838Z"
   },
   {
    "duration": 16,
    "start_time": "2022-03-13T19:32:18.859Z"
   },
   {
    "duration": 12,
    "start_time": "2022-03-13T19:32:18.877Z"
   },
   {
    "duration": 13,
    "start_time": "2022-03-13T19:32:18.891Z"
   },
   {
    "duration": 29,
    "start_time": "2022-03-13T19:32:18.905Z"
   },
   {
    "duration": 9,
    "start_time": "2022-03-13T19:32:18.936Z"
   },
   {
    "duration": 8,
    "start_time": "2022-03-13T19:32:18.947Z"
   },
   {
    "duration": 8,
    "start_time": "2022-03-13T19:32:18.956Z"
   },
   {
    "duration": 7,
    "start_time": "2022-03-13T19:32:18.966Z"
   },
   {
    "duration": 59,
    "start_time": "2022-03-13T19:32:18.975Z"
   },
   {
    "duration": 34,
    "start_time": "2022-03-13T19:32:19.036Z"
   },
   {
    "duration": 27,
    "start_time": "2022-03-13T19:32:19.072Z"
   },
   {
    "duration": 57,
    "start_time": "2022-03-13T19:32:19.100Z"
   },
   {
    "duration": 7,
    "start_time": "2022-03-13T19:32:19.159Z"
   },
   {
    "duration": 11,
    "start_time": "2022-03-13T19:32:19.169Z"
   },
   {
    "duration": 6,
    "start_time": "2022-03-13T19:32:19.181Z"
   },
   {
    "duration": 9,
    "start_time": "2022-03-13T19:32:19.189Z"
   },
   {
    "duration": 33,
    "start_time": "2022-03-13T19:32:19.200Z"
   },
   {
    "duration": 12,
    "start_time": "2022-03-13T19:32:19.235Z"
   },
   {
    "duration": 4,
    "start_time": "2022-03-13T19:32:19.248Z"
   },
   {
    "duration": 20,
    "start_time": "2022-03-13T19:32:19.253Z"
   },
   {
    "duration": 3,
    "start_time": "2022-03-13T19:32:19.275Z"
   },
   {
    "duration": 19,
    "start_time": "2022-03-13T19:32:19.279Z"
   },
   {
    "duration": 17,
    "start_time": "2022-03-13T19:32:19.332Z"
   },
   {
    "duration": 26,
    "start_time": "2022-03-13T19:32:30.406Z"
   },
   {
    "duration": 18,
    "start_time": "2022-03-13T19:32:42.759Z"
   },
   {
    "duration": 5,
    "start_time": "2022-03-13T19:33:42.893Z"
   },
   {
    "duration": 10,
    "start_time": "2022-03-13T19:38:36.799Z"
   },
   {
    "duration": 10,
    "start_time": "2022-03-13T19:41:32.945Z"
   },
   {
    "duration": 9,
    "start_time": "2022-03-13T19:41:47.664Z"
   },
   {
    "duration": 10,
    "start_time": "2022-03-13T19:53:05.040Z"
   },
   {
    "duration": 65,
    "start_time": "2022-03-13T19:53:24.359Z"
   },
   {
    "duration": 10,
    "start_time": "2022-03-13T19:53:24.425Z"
   },
   {
    "duration": 9,
    "start_time": "2022-03-13T19:53:24.437Z"
   },
   {
    "duration": 5,
    "start_time": "2022-03-13T19:53:24.448Z"
   },
   {
    "duration": 5,
    "start_time": "2022-03-13T19:53:24.455Z"
   },
   {
    "duration": 4,
    "start_time": "2022-03-13T19:53:24.461Z"
   },
   {
    "duration": 5,
    "start_time": "2022-03-13T19:53:24.466Z"
   },
   {
    "duration": 14,
    "start_time": "2022-03-13T19:53:24.474Z"
   },
   {
    "duration": 59,
    "start_time": "2022-03-13T19:53:24.490Z"
   },
   {
    "duration": 17,
    "start_time": "2022-03-13T19:53:24.551Z"
   },
   {
    "duration": 19,
    "start_time": "2022-03-13T19:53:24.570Z"
   },
   {
    "duration": 20,
    "start_time": "2022-03-13T19:53:24.591Z"
   },
   {
    "duration": 26,
    "start_time": "2022-03-13T19:53:24.613Z"
   },
   {
    "duration": 10,
    "start_time": "2022-03-13T19:53:24.641Z"
   },
   {
    "duration": 8,
    "start_time": "2022-03-13T19:53:24.653Z"
   },
   {
    "duration": 7,
    "start_time": "2022-03-13T19:53:24.663Z"
   },
   {
    "duration": 6,
    "start_time": "2022-03-13T19:53:24.672Z"
   },
   {
    "duration": 55,
    "start_time": "2022-03-13T19:53:24.679Z"
   },
   {
    "duration": 33,
    "start_time": "2022-03-13T19:53:24.736Z"
   },
   {
    "duration": 25,
    "start_time": "2022-03-13T19:53:24.771Z"
   },
   {
    "duration": 50,
    "start_time": "2022-03-13T19:53:24.798Z"
   },
   {
    "duration": 7,
    "start_time": "2022-03-13T19:53:24.850Z"
   },
   {
    "duration": 10,
    "start_time": "2022-03-13T19:53:24.860Z"
   },
   {
    "duration": 7,
    "start_time": "2022-03-13T19:53:24.872Z"
   },
   {
    "duration": 12,
    "start_time": "2022-03-13T19:53:24.881Z"
   },
   {
    "duration": 40,
    "start_time": "2022-03-13T19:53:24.895Z"
   },
   {
    "duration": 12,
    "start_time": "2022-03-13T19:53:24.937Z"
   },
   {
    "duration": 8,
    "start_time": "2022-03-13T19:53:24.951Z"
   },
   {
    "duration": 20,
    "start_time": "2022-03-13T19:53:24.961Z"
   },
   {
    "duration": 4,
    "start_time": "2022-03-13T19:53:24.983Z"
   },
   {
    "duration": 46,
    "start_time": "2022-03-13T19:53:24.988Z"
   },
   {
    "duration": 4,
    "start_time": "2022-03-13T19:53:25.036Z"
   },
   {
    "duration": 11,
    "start_time": "2022-03-13T19:53:25.042Z"
   },
   {
    "duration": 4,
    "start_time": "2022-03-13T19:53:25.055Z"
   },
   {
    "duration": 24,
    "start_time": "2022-03-13T19:53:25.061Z"
   },
   {
    "duration": 8,
    "start_time": "2022-03-13T19:53:25.087Z"
   },
   {
    "duration": 37,
    "start_time": "2022-03-13T19:53:25.097Z"
   },
   {
    "duration": 6,
    "start_time": "2022-03-13T20:05:32.269Z"
   },
   {
    "duration": 18,
    "start_time": "2022-03-13T20:06:55.880Z"
   },
   {
    "duration": 8,
    "start_time": "2022-03-13T20:07:25.613Z"
   },
   {
    "duration": 9,
    "start_time": "2022-03-13T20:07:59.242Z"
   },
   {
    "duration": 350,
    "start_time": "2022-03-14T09:49:08.072Z"
   },
   {
    "duration": 313,
    "start_time": "2022-03-14T09:49:12.072Z"
   },
   {
    "duration": 333,
    "start_time": "2022-03-14T09:49:18.426Z"
   },
   {
    "duration": 634,
    "start_time": "2022-03-14T09:49:21.517Z"
   },
   {
    "duration": 10,
    "start_time": "2022-03-14T09:49:22.152Z"
   },
   {
    "duration": 11,
    "start_time": "2022-03-14T09:49:22.164Z"
   },
   {
    "duration": 10,
    "start_time": "2022-03-14T09:49:22.176Z"
   },
   {
    "duration": 18,
    "start_time": "2022-03-14T09:49:22.187Z"
   },
   {
    "duration": 3,
    "start_time": "2022-03-14T09:49:22.207Z"
   },
   {
    "duration": 7,
    "start_time": "2022-03-14T09:49:22.211Z"
   },
   {
    "duration": 11,
    "start_time": "2022-03-14T09:49:22.220Z"
   },
   {
    "duration": 13,
    "start_time": "2022-03-14T09:49:22.233Z"
   },
   {
    "duration": 12,
    "start_time": "2022-03-14T09:49:22.248Z"
   },
   {
    "duration": 13,
    "start_time": "2022-03-14T09:49:22.261Z"
   },
   {
    "duration": 322,
    "start_time": "2022-03-14T09:49:22.275Z"
   },
   {
    "duration": -52,
    "start_time": "2022-03-14T09:49:22.652Z"
   },
   {
    "duration": -54,
    "start_time": "2022-03-14T09:49:22.655Z"
   },
   {
    "duration": -55,
    "start_time": "2022-03-14T09:49:22.657Z"
   },
   {
    "duration": -57,
    "start_time": "2022-03-14T09:49:22.659Z"
   },
   {
    "duration": -58,
    "start_time": "2022-03-14T09:49:22.661Z"
   },
   {
    "duration": -59,
    "start_time": "2022-03-14T09:49:22.663Z"
   },
   {
    "duration": -63,
    "start_time": "2022-03-14T09:49:22.668Z"
   },
   {
    "duration": -64,
    "start_time": "2022-03-14T09:49:22.670Z"
   },
   {
    "duration": -66,
    "start_time": "2022-03-14T09:49:22.673Z"
   },
   {
    "duration": -67,
    "start_time": "2022-03-14T09:49:22.675Z"
   },
   {
    "duration": -68,
    "start_time": "2022-03-14T09:49:22.676Z"
   },
   {
    "duration": -69,
    "start_time": "2022-03-14T09:49:22.678Z"
   },
   {
    "duration": -71,
    "start_time": "2022-03-14T09:49:22.681Z"
   },
   {
    "duration": -72,
    "start_time": "2022-03-14T09:49:22.683Z"
   },
   {
    "duration": -73,
    "start_time": "2022-03-14T09:49:22.685Z"
   },
   {
    "duration": -74,
    "start_time": "2022-03-14T09:49:22.687Z"
   },
   {
    "duration": -75,
    "start_time": "2022-03-14T09:49:22.689Z"
   },
   {
    "duration": -77,
    "start_time": "2022-03-14T09:49:22.691Z"
   },
   {
    "duration": -78,
    "start_time": "2022-03-14T09:49:22.693Z"
   },
   {
    "duration": -79,
    "start_time": "2022-03-14T09:49:22.695Z"
   },
   {
    "duration": -79,
    "start_time": "2022-03-14T09:49:22.696Z"
   },
   {
    "duration": -81,
    "start_time": "2022-03-14T09:49:22.698Z"
   },
   {
    "duration": -82,
    "start_time": "2022-03-14T09:49:22.700Z"
   },
   {
    "duration": -81,
    "start_time": "2022-03-14T09:49:22.701Z"
   },
   {
    "duration": -83,
    "start_time": "2022-03-14T09:49:22.703Z"
   },
   {
    "duration": -84,
    "start_time": "2022-03-14T09:49:22.705Z"
   },
   {
    "duration": -84,
    "start_time": "2022-03-14T09:49:22.706Z"
   },
   {
    "duration": -85,
    "start_time": "2022-03-14T09:49:22.708Z"
   },
   {
    "duration": -86,
    "start_time": "2022-03-14T09:49:22.710Z"
   },
   {
    "duration": 330,
    "start_time": "2022-03-14T09:49:33.970Z"
   },
   {
    "duration": 68,
    "start_time": "2022-03-14T09:49:49.854Z"
   },
   {
    "duration": 9,
    "start_time": "2022-03-14T09:49:49.924Z"
   },
   {
    "duration": 9,
    "start_time": "2022-03-14T09:49:49.935Z"
   },
   {
    "duration": 6,
    "start_time": "2022-03-14T09:49:49.946Z"
   },
   {
    "duration": 5,
    "start_time": "2022-03-14T09:49:49.953Z"
   },
   {
    "duration": 3,
    "start_time": "2022-03-14T09:49:49.959Z"
   },
   {
    "duration": 42,
    "start_time": "2022-03-14T09:49:49.963Z"
   },
   {
    "duration": 17,
    "start_time": "2022-03-14T09:49:50.007Z"
   },
   {
    "duration": 14,
    "start_time": "2022-03-14T09:49:50.027Z"
   },
   {
    "duration": 13,
    "start_time": "2022-03-14T09:49:50.043Z"
   },
   {
    "duration": 19,
    "start_time": "2022-03-14T09:49:50.058Z"
   },
   {
    "duration": 290,
    "start_time": "2022-03-14T09:49:50.079Z"
   },
   {
    "duration": -21,
    "start_time": "2022-03-14T09:49:50.393Z"
   },
   {
    "duration": -27,
    "start_time": "2022-03-14T09:49:50.399Z"
   },
   {
    "duration": -57,
    "start_time": "2022-03-14T09:49:50.430Z"
   },
   {
    "duration": -63,
    "start_time": "2022-03-14T09:49:50.437Z"
   },
   {
    "duration": -69,
    "start_time": "2022-03-14T09:49:50.444Z"
   },
   {
    "duration": -70,
    "start_time": "2022-03-14T09:49:50.446Z"
   },
   {
    "duration": -71,
    "start_time": "2022-03-14T09:49:50.448Z"
   },
   {
    "duration": -72,
    "start_time": "2022-03-14T09:49:50.451Z"
   },
   {
    "duration": -73,
    "start_time": "2022-03-14T09:49:50.453Z"
   },
   {
    "duration": -79,
    "start_time": "2022-03-14T09:49:50.460Z"
   },
   {
    "duration": -80,
    "start_time": "2022-03-14T09:49:50.462Z"
   },
   {
    "duration": -81,
    "start_time": "2022-03-14T09:49:50.464Z"
   },
   {
    "duration": -83,
    "start_time": "2022-03-14T09:49:50.467Z"
   },
   {
    "duration": -83,
    "start_time": "2022-03-14T09:49:50.468Z"
   },
   {
    "duration": -86,
    "start_time": "2022-03-14T09:49:50.472Z"
   },
   {
    "duration": -88,
    "start_time": "2022-03-14T09:49:50.475Z"
   },
   {
    "duration": -90,
    "start_time": "2022-03-14T09:49:50.478Z"
   },
   {
    "duration": -90,
    "start_time": "2022-03-14T09:49:50.479Z"
   },
   {
    "duration": -91,
    "start_time": "2022-03-14T09:49:50.481Z"
   },
   {
    "duration": -92,
    "start_time": "2022-03-14T09:49:50.483Z"
   },
   {
    "duration": -93,
    "start_time": "2022-03-14T09:49:50.485Z"
   },
   {
    "duration": -94,
    "start_time": "2022-03-14T09:49:50.487Z"
   },
   {
    "duration": -95,
    "start_time": "2022-03-14T09:49:50.489Z"
   },
   {
    "duration": -96,
    "start_time": "2022-03-14T09:49:50.491Z"
   },
   {
    "duration": -96,
    "start_time": "2022-03-14T09:49:50.492Z"
   },
   {
    "duration": -97,
    "start_time": "2022-03-14T09:49:50.494Z"
   },
   {
    "duration": -99,
    "start_time": "2022-03-14T09:49:50.496Z"
   },
   {
    "duration": -100,
    "start_time": "2022-03-14T09:49:50.498Z"
   },
   {
    "duration": -101,
    "start_time": "2022-03-14T09:49:50.500Z"
   },
   {
    "duration": 290,
    "start_time": "2022-03-14T09:49:58.235Z"
   },
   {
    "duration": 61,
    "start_time": "2022-03-14T09:50:01.566Z"
   },
   {
    "duration": 9,
    "start_time": "2022-03-14T09:50:01.628Z"
   },
   {
    "duration": 14,
    "start_time": "2022-03-14T09:50:01.639Z"
   },
   {
    "duration": 10,
    "start_time": "2022-03-14T09:50:01.655Z"
   },
   {
    "duration": 22,
    "start_time": "2022-03-14T09:50:01.666Z"
   },
   {
    "duration": 14,
    "start_time": "2022-03-14T09:50:01.690Z"
   },
   {
    "duration": 16,
    "start_time": "2022-03-14T09:50:01.706Z"
   },
   {
    "duration": 15,
    "start_time": "2022-03-14T09:50:01.723Z"
   },
   {
    "duration": 23,
    "start_time": "2022-03-14T09:50:01.740Z"
   },
   {
    "duration": 20,
    "start_time": "2022-03-14T09:50:01.765Z"
   },
   {
    "duration": 33,
    "start_time": "2022-03-14T09:50:01.786Z"
   },
   {
    "duration": 439,
    "start_time": "2022-03-14T09:50:01.820Z"
   },
   {
    "duration": -46,
    "start_time": "2022-03-14T09:50:02.308Z"
   },
   {
    "duration": -50,
    "start_time": "2022-03-14T09:50:02.313Z"
   },
   {
    "duration": -53,
    "start_time": "2022-03-14T09:50:02.317Z"
   },
   {
    "duration": -57,
    "start_time": "2022-03-14T09:50:02.322Z"
   },
   {
    "duration": -61,
    "start_time": "2022-03-14T09:50:02.326Z"
   },
   {
    "duration": -64,
    "start_time": "2022-03-14T09:50:02.330Z"
   },
   {
    "duration": -67,
    "start_time": "2022-03-14T09:50:02.334Z"
   },
   {
    "duration": -69,
    "start_time": "2022-03-14T09:50:02.337Z"
   },
   {
    "duration": -73,
    "start_time": "2022-03-14T09:50:02.342Z"
   },
   {
    "duration": -80,
    "start_time": "2022-03-14T09:50:02.350Z"
   },
   {
    "duration": -82,
    "start_time": "2022-03-14T09:50:02.353Z"
   },
   {
    "duration": -84,
    "start_time": "2022-03-14T09:50:02.356Z"
   },
   {
    "duration": -87,
    "start_time": "2022-03-14T09:50:02.360Z"
   },
   {
    "duration": -90,
    "start_time": "2022-03-14T09:50:02.363Z"
   },
   {
    "duration": -92,
    "start_time": "2022-03-14T09:50:02.366Z"
   },
   {
    "duration": -93,
    "start_time": "2022-03-14T09:50:02.368Z"
   },
   {
    "duration": -96,
    "start_time": "2022-03-14T09:50:02.372Z"
   },
   {
    "duration": -98,
    "start_time": "2022-03-14T09:50:02.374Z"
   },
   {
    "duration": -100,
    "start_time": "2022-03-14T09:50:02.377Z"
   },
   {
    "duration": -102,
    "start_time": "2022-03-14T09:50:02.380Z"
   },
   {
    "duration": -103,
    "start_time": "2022-03-14T09:50:02.382Z"
   },
   {
    "duration": -105,
    "start_time": "2022-03-14T09:50:02.384Z"
   },
   {
    "duration": -107,
    "start_time": "2022-03-14T09:50:02.387Z"
   },
   {
    "duration": -109,
    "start_time": "2022-03-14T09:50:02.390Z"
   },
   {
    "duration": -111,
    "start_time": "2022-03-14T09:50:02.393Z"
   },
   {
    "duration": -111,
    "start_time": "2022-03-14T09:50:02.395Z"
   },
   {
    "duration": -113,
    "start_time": "2022-03-14T09:50:02.397Z"
   },
   {
    "duration": -113,
    "start_time": "2022-03-14T09:50:02.398Z"
   },
   {
    "duration": -114,
    "start_time": "2022-03-14T09:50:02.400Z"
   },
   {
    "duration": 334,
    "start_time": "2022-03-14T09:53:27.601Z"
   },
   {
    "duration": 12,
    "start_time": "2022-03-14T10:01:15.415Z"
   },
   {
    "duration": 78,
    "start_time": "2022-03-14T10:12:00.963Z"
   },
   {
    "duration": 10,
    "start_time": "2022-03-14T10:12:01.042Z"
   },
   {
    "duration": 23,
    "start_time": "2022-03-14T10:12:01.054Z"
   },
   {
    "duration": 18,
    "start_time": "2022-03-14T10:12:01.079Z"
   },
   {
    "duration": 13,
    "start_time": "2022-03-14T10:12:01.099Z"
   },
   {
    "duration": 19,
    "start_time": "2022-03-14T10:12:01.114Z"
   },
   {
    "duration": 14,
    "start_time": "2022-03-14T10:12:01.135Z"
   },
   {
    "duration": 30,
    "start_time": "2022-03-14T10:12:01.152Z"
   },
   {
    "duration": 15,
    "start_time": "2022-03-14T10:12:01.184Z"
   },
   {
    "duration": 24,
    "start_time": "2022-03-14T10:12:01.201Z"
   },
   {
    "duration": 36,
    "start_time": "2022-03-14T10:12:01.227Z"
   },
   {
    "duration": 15,
    "start_time": "2022-03-14T10:12:01.265Z"
   },
   {
    "duration": 17,
    "start_time": "2022-03-14T10:12:01.282Z"
   },
   {
    "duration": 16,
    "start_time": "2022-03-14T10:12:01.301Z"
   },
   {
    "duration": 19,
    "start_time": "2022-03-14T10:12:01.319Z"
   },
   {
    "duration": 10,
    "start_time": "2022-03-14T10:12:01.340Z"
   },
   {
    "duration": 10,
    "start_time": "2022-03-14T10:12:01.351Z"
   },
   {
    "duration": 13,
    "start_time": "2022-03-14T10:12:01.362Z"
   },
   {
    "duration": 24,
    "start_time": "2022-03-14T10:12:01.376Z"
   },
   {
    "duration": 30,
    "start_time": "2022-03-14T10:12:01.402Z"
   },
   {
    "duration": 26,
    "start_time": "2022-03-14T10:12:01.433Z"
   },
   {
    "duration": 24,
    "start_time": "2022-03-14T10:12:01.461Z"
   },
   {
    "duration": 23,
    "start_time": "2022-03-14T10:12:01.488Z"
   },
   {
    "duration": 17,
    "start_time": "2022-03-14T10:12:01.513Z"
   },
   {
    "duration": 16,
    "start_time": "2022-03-14T10:12:01.531Z"
   },
   {
    "duration": 25,
    "start_time": "2022-03-14T10:12:01.549Z"
   },
   {
    "duration": 21,
    "start_time": "2022-03-14T10:12:01.576Z"
   },
   {
    "duration": 18,
    "start_time": "2022-03-14T10:12:01.599Z"
   },
   {
    "duration": 23,
    "start_time": "2022-03-14T10:12:01.619Z"
   },
   {
    "duration": 33,
    "start_time": "2022-03-14T10:12:01.643Z"
   },
   {
    "duration": 13,
    "start_time": "2022-03-14T10:12:01.678Z"
   },
   {
    "duration": 37,
    "start_time": "2022-03-14T10:12:01.693Z"
   },
   {
    "duration": 12,
    "start_time": "2022-03-14T10:12:01.731Z"
   },
   {
    "duration": 21,
    "start_time": "2022-03-14T10:12:01.745Z"
   },
   {
    "duration": 24,
    "start_time": "2022-03-14T10:12:01.768Z"
   },
   {
    "duration": 14,
    "start_time": "2022-03-14T10:12:01.794Z"
   },
   {
    "duration": 15,
    "start_time": "2022-03-14T10:12:01.809Z"
   },
   {
    "duration": 39,
    "start_time": "2022-03-14T10:12:01.825Z"
   },
   {
    "duration": 44,
    "start_time": "2022-03-14T10:12:01.865Z"
   },
   {
    "duration": 10,
    "start_time": "2022-03-14T10:12:01.911Z"
   },
   {
    "duration": 28,
    "start_time": "2022-03-14T10:12:01.923Z"
   },
   {
    "duration": 10,
    "start_time": "2022-03-14T10:50:05.889Z"
   },
   {
    "duration": 4,
    "start_time": "2022-03-14T10:51:16.573Z"
   },
   {
    "duration": 3,
    "start_time": "2022-03-14T10:55:51.675Z"
   },
   {
    "duration": 282,
    "start_time": "2022-03-14T10:56:06.828Z"
   },
   {
    "duration": 311,
    "start_time": "2022-03-14T11:28:33.832Z"
   },
   {
    "duration": 65,
    "start_time": "2022-03-14T11:28:44.614Z"
   },
   {
    "duration": 10,
    "start_time": "2022-03-14T11:28:44.680Z"
   },
   {
    "duration": 8,
    "start_time": "2022-03-14T11:28:44.692Z"
   },
   {
    "duration": 5,
    "start_time": "2022-03-14T11:28:44.701Z"
   },
   {
    "duration": 5,
    "start_time": "2022-03-14T11:28:44.707Z"
   },
   {
    "duration": 10,
    "start_time": "2022-03-14T11:28:44.713Z"
   },
   {
    "duration": 8,
    "start_time": "2022-03-14T11:28:44.724Z"
   },
   {
    "duration": 15,
    "start_time": "2022-03-14T11:28:44.734Z"
   },
   {
    "duration": 30,
    "start_time": "2022-03-14T11:28:44.751Z"
   },
   {
    "duration": 10,
    "start_time": "2022-03-14T11:28:44.783Z"
   },
   {
    "duration": 10,
    "start_time": "2022-03-14T11:28:44.795Z"
   },
   {
    "duration": 15,
    "start_time": "2022-03-14T11:28:44.806Z"
   },
   {
    "duration": 12,
    "start_time": "2022-03-14T11:28:44.822Z"
   },
   {
    "duration": 7,
    "start_time": "2022-03-14T11:28:44.835Z"
   },
   {
    "duration": 11,
    "start_time": "2022-03-14T11:28:44.843Z"
   },
   {
    "duration": 28,
    "start_time": "2022-03-14T11:28:44.855Z"
   },
   {
    "duration": 7,
    "start_time": "2022-03-14T11:28:44.884Z"
   },
   {
    "duration": 8,
    "start_time": "2022-03-14T11:28:44.893Z"
   },
   {
    "duration": 22,
    "start_time": "2022-03-14T11:28:44.903Z"
   },
   {
    "duration": 56,
    "start_time": "2022-03-14T11:28:44.926Z"
   },
   {
    "duration": 23,
    "start_time": "2022-03-14T11:28:44.983Z"
   },
   {
    "duration": 32,
    "start_time": "2022-03-14T11:28:45.007Z"
   },
   {
    "duration": 10,
    "start_time": "2022-03-14T11:28:45.041Z"
   },
   {
    "duration": 20,
    "start_time": "2022-03-14T11:28:45.052Z"
   },
   {
    "duration": 25,
    "start_time": "2022-03-14T11:28:45.074Z"
   },
   {
    "duration": 30,
    "start_time": "2022-03-14T11:28:45.101Z"
   },
   {
    "duration": 19,
    "start_time": "2022-03-14T11:28:45.135Z"
   },
   {
    "duration": 26,
    "start_time": "2022-03-14T11:28:45.156Z"
   },
   {
    "duration": 6,
    "start_time": "2022-03-14T11:28:45.184Z"
   },
   {
    "duration": 24,
    "start_time": "2022-03-14T11:28:45.192Z"
   },
   {
    "duration": 19,
    "start_time": "2022-03-14T11:28:45.218Z"
   },
   {
    "duration": 22,
    "start_time": "2022-03-14T11:28:45.238Z"
   },
   {
    "duration": 9,
    "start_time": "2022-03-14T11:28:45.262Z"
   },
   {
    "duration": 8,
    "start_time": "2022-03-14T11:28:45.272Z"
   },
   {
    "duration": 19,
    "start_time": "2022-03-14T11:28:45.281Z"
   },
   {
    "duration": 32,
    "start_time": "2022-03-14T11:28:45.301Z"
   },
   {
    "duration": 12,
    "start_time": "2022-03-14T11:28:45.334Z"
   },
   {
    "duration": 22,
    "start_time": "2022-03-14T11:28:45.347Z"
   },
   {
    "duration": 13,
    "start_time": "2022-03-14T11:28:45.370Z"
   },
   {
    "duration": 36,
    "start_time": "2022-03-14T11:28:45.385Z"
   },
   {
    "duration": 8,
    "start_time": "2022-03-14T11:28:45.423Z"
   },
   {
    "duration": 14,
    "start_time": "2022-03-14T11:28:45.432Z"
   },
   {
    "duration": 3,
    "start_time": "2022-03-14T11:28:52.770Z"
   },
   {
    "duration": 3,
    "start_time": "2022-03-14T11:30:33.653Z"
   },
   {
    "duration": 60,
    "start_time": "2022-03-14T11:30:40.502Z"
   },
   {
    "duration": 9,
    "start_time": "2022-03-14T11:30:40.563Z"
   },
   {
    "duration": 9,
    "start_time": "2022-03-14T11:30:40.573Z"
   },
   {
    "duration": 5,
    "start_time": "2022-03-14T11:30:40.583Z"
   },
   {
    "duration": 4,
    "start_time": "2022-03-14T11:30:40.589Z"
   },
   {
    "duration": 4,
    "start_time": "2022-03-14T11:30:40.594Z"
   },
   {
    "duration": 6,
    "start_time": "2022-03-14T11:30:40.599Z"
   },
   {
    "duration": 8,
    "start_time": "2022-03-14T11:30:40.607Z"
   },
   {
    "duration": 13,
    "start_time": "2022-03-14T11:30:40.616Z"
   },
   {
    "duration": 12,
    "start_time": "2022-03-14T11:30:40.630Z"
   },
   {
    "duration": 11,
    "start_time": "2022-03-14T11:30:40.643Z"
   },
   {
    "duration": 31,
    "start_time": "2022-03-14T11:30:40.655Z"
   },
   {
    "duration": 10,
    "start_time": "2022-03-14T11:30:40.687Z"
   },
   {
    "duration": 7,
    "start_time": "2022-03-14T11:30:40.698Z"
   },
   {
    "duration": 7,
    "start_time": "2022-03-14T11:30:40.706Z"
   },
   {
    "duration": 12,
    "start_time": "2022-03-14T11:30:40.714Z"
   },
   {
    "duration": 8,
    "start_time": "2022-03-14T11:30:40.727Z"
   },
   {
    "duration": 11,
    "start_time": "2022-03-14T11:30:40.736Z"
   },
   {
    "duration": 42,
    "start_time": "2022-03-14T11:30:40.748Z"
   },
   {
    "duration": 27,
    "start_time": "2022-03-14T11:30:40.792Z"
   },
   {
    "duration": 23,
    "start_time": "2022-03-14T11:30:40.821Z"
   },
   {
    "duration": 48,
    "start_time": "2022-03-14T11:30:40.845Z"
   },
   {
    "duration": 7,
    "start_time": "2022-03-14T11:30:40.896Z"
   },
   {
    "duration": 8,
    "start_time": "2022-03-14T11:30:40.904Z"
   },
   {
    "duration": 6,
    "start_time": "2022-03-14T11:30:40.913Z"
   },
   {
    "duration": 11,
    "start_time": "2022-03-14T11:30:40.920Z"
   },
   {
    "duration": 7,
    "start_time": "2022-03-14T11:30:40.932Z"
   },
   {
    "duration": 9,
    "start_time": "2022-03-14T11:30:40.940Z"
   },
   {
    "duration": 30,
    "start_time": "2022-03-14T11:30:40.951Z"
   },
   {
    "duration": 19,
    "start_time": "2022-03-14T11:30:40.982Z"
   },
   {
    "duration": 2,
    "start_time": "2022-03-14T11:30:41.003Z"
   },
   {
    "duration": 16,
    "start_time": "2022-03-14T11:30:41.007Z"
   },
   {
    "duration": 4,
    "start_time": "2022-03-14T11:30:41.024Z"
   },
   {
    "duration": 6,
    "start_time": "2022-03-14T11:30:41.029Z"
   },
   {
    "duration": 6,
    "start_time": "2022-03-14T11:30:41.036Z"
   },
   {
    "duration": 4,
    "start_time": "2022-03-14T11:31:05.541Z"
   },
   {
    "duration": 62,
    "start_time": "2022-03-14T11:31:13.575Z"
   },
   {
    "duration": 8,
    "start_time": "2022-03-14T11:31:13.639Z"
   },
   {
    "duration": 9,
    "start_time": "2022-03-14T11:31:13.649Z"
   },
   {
    "duration": 21,
    "start_time": "2022-03-14T11:31:13.660Z"
   },
   {
    "duration": 4,
    "start_time": "2022-03-14T11:31:13.682Z"
   },
   {
    "duration": 4,
    "start_time": "2022-03-14T11:31:13.687Z"
   },
   {
    "duration": 4,
    "start_time": "2022-03-14T11:31:13.693Z"
   },
   {
    "duration": 10,
    "start_time": "2022-03-14T11:31:13.699Z"
   },
   {
    "duration": 13,
    "start_time": "2022-03-14T11:31:13.710Z"
   },
   {
    "duration": 12,
    "start_time": "2022-03-14T11:31:13.725Z"
   },
   {
    "duration": 13,
    "start_time": "2022-03-14T11:31:13.738Z"
   },
   {
    "duration": 38,
    "start_time": "2022-03-14T11:31:13.753Z"
   },
   {
    "duration": 12,
    "start_time": "2022-03-14T11:31:13.793Z"
   },
   {
    "duration": 7,
    "start_time": "2022-03-14T11:31:13.807Z"
   },
   {
    "duration": 14,
    "start_time": "2022-03-14T11:31:13.816Z"
   },
   {
    "duration": 7,
    "start_time": "2022-03-14T11:31:13.832Z"
   },
   {
    "duration": 9,
    "start_time": "2022-03-14T11:31:13.841Z"
   },
   {
    "duration": 34,
    "start_time": "2022-03-14T11:31:13.851Z"
   },
   {
    "duration": 19,
    "start_time": "2022-03-14T11:31:13.886Z"
   },
   {
    "duration": 27,
    "start_time": "2022-03-14T11:31:13.907Z"
   },
   {
    "duration": 21,
    "start_time": "2022-03-14T11:31:13.935Z"
   },
   {
    "duration": 22,
    "start_time": "2022-03-14T11:31:13.981Z"
   },
   {
    "duration": 6,
    "start_time": "2022-03-14T11:31:14.006Z"
   },
   {
    "duration": 9,
    "start_time": "2022-03-14T11:31:14.013Z"
   },
   {
    "duration": 8,
    "start_time": "2022-03-14T11:31:14.023Z"
   },
   {
    "duration": 13,
    "start_time": "2022-03-14T11:31:14.032Z"
   },
   {
    "duration": 10,
    "start_time": "2022-03-14T11:31:14.046Z"
   },
   {
    "duration": 26,
    "start_time": "2022-03-14T11:31:14.057Z"
   },
   {
    "duration": 3,
    "start_time": "2022-03-14T11:31:14.084Z"
   },
   {
    "duration": 21,
    "start_time": "2022-03-14T11:31:14.088Z"
   },
   {
    "duration": 2,
    "start_time": "2022-03-14T11:31:14.110Z"
   },
   {
    "duration": 18,
    "start_time": "2022-03-14T11:31:14.113Z"
   },
   {
    "duration": 3,
    "start_time": "2022-03-14T11:31:14.132Z"
   },
   {
    "duration": 4,
    "start_time": "2022-03-14T11:31:14.137Z"
   },
   {
    "duration": 5,
    "start_time": "2022-03-14T11:31:14.142Z"
   },
   {
    "duration": 42,
    "start_time": "2022-03-14T11:31:14.148Z"
   },
   {
    "duration": 8,
    "start_time": "2022-03-14T11:31:14.191Z"
   },
   {
    "duration": 12,
    "start_time": "2022-03-14T11:31:14.200Z"
   },
   {
    "duration": 6,
    "start_time": "2022-03-14T11:31:14.213Z"
   },
   {
    "duration": 18,
    "start_time": "2022-03-14T11:31:14.220Z"
   },
   {
    "duration": 7,
    "start_time": "2022-03-14T11:31:14.239Z"
   },
   {
    "duration": 35,
    "start_time": "2022-03-14T11:31:14.247Z"
   },
   {
    "duration": 58,
    "start_time": "2022-03-14T11:33:45.357Z"
   },
   {
    "duration": 8,
    "start_time": "2022-03-14T11:33:45.417Z"
   },
   {
    "duration": 14,
    "start_time": "2022-03-14T11:33:45.427Z"
   },
   {
    "duration": 7,
    "start_time": "2022-03-14T11:33:45.442Z"
   },
   {
    "duration": 33,
    "start_time": "2022-03-14T11:33:45.450Z"
   },
   {
    "duration": 3,
    "start_time": "2022-03-14T11:33:45.485Z"
   },
   {
    "duration": 5,
    "start_time": "2022-03-14T11:33:45.489Z"
   },
   {
    "duration": 10,
    "start_time": "2022-03-14T11:33:45.496Z"
   },
   {
    "duration": 12,
    "start_time": "2022-03-14T11:33:45.508Z"
   },
   {
    "duration": 15,
    "start_time": "2022-03-14T11:33:45.521Z"
   },
   {
    "duration": 11,
    "start_time": "2022-03-14T11:33:45.538Z"
   },
   {
    "duration": 31,
    "start_time": "2022-03-14T11:33:45.550Z"
   },
   {
    "duration": 10,
    "start_time": "2022-03-14T11:33:45.582Z"
   },
   {
    "duration": 5,
    "start_time": "2022-03-14T11:33:45.594Z"
   },
   {
    "duration": 9,
    "start_time": "2022-03-14T11:33:45.601Z"
   },
   {
    "duration": 7,
    "start_time": "2022-03-14T11:33:45.611Z"
   },
   {
    "duration": 8,
    "start_time": "2022-03-14T11:33:45.620Z"
   },
   {
    "duration": 7,
    "start_time": "2022-03-14T11:33:45.629Z"
   },
   {
    "duration": 47,
    "start_time": "2022-03-14T11:33:45.637Z"
   },
   {
    "duration": 29,
    "start_time": "2022-03-14T11:33:45.686Z"
   },
   {
    "duration": 23,
    "start_time": "2022-03-14T11:33:45.717Z"
   },
   {
    "duration": 43,
    "start_time": "2022-03-14T11:33:45.741Z"
   },
   {
    "duration": 6,
    "start_time": "2022-03-14T11:33:45.787Z"
   },
   {
    "duration": 9,
    "start_time": "2022-03-14T11:33:45.795Z"
   },
   {
    "duration": 6,
    "start_time": "2022-03-14T11:33:45.806Z"
   },
   {
    "duration": 9,
    "start_time": "2022-03-14T11:33:45.814Z"
   },
   {
    "duration": 8,
    "start_time": "2022-03-14T11:33:45.824Z"
   },
   {
    "duration": 9,
    "start_time": "2022-03-14T11:33:45.834Z"
   },
   {
    "duration": 3,
    "start_time": "2022-03-14T11:33:45.845Z"
   },
   {
    "duration": 17,
    "start_time": "2022-03-14T11:33:45.881Z"
   },
   {
    "duration": 4,
    "start_time": "2022-03-14T11:33:45.899Z"
   },
   {
    "duration": 16,
    "start_time": "2022-03-14T11:33:45.904Z"
   },
   {
    "duration": 4,
    "start_time": "2022-03-14T11:33:45.921Z"
   },
   {
    "duration": 5,
    "start_time": "2022-03-14T11:33:45.926Z"
   },
   {
    "duration": 120,
    "start_time": "2022-03-14T11:33:45.932Z"
   },
   {
    "duration": 19,
    "start_time": "2022-03-14T11:33:46.034Z"
   },
   {
    "duration": 8,
    "start_time": "2022-03-14T11:33:46.046Z"
   },
   {
    "duration": 6,
    "start_time": "2022-03-14T11:33:46.049Z"
   },
   {
    "duration": 4,
    "start_time": "2022-03-14T11:33:46.052Z"
   },
   {
    "duration": 3,
    "start_time": "2022-03-14T11:33:46.053Z"
   },
   {
    "duration": 0,
    "start_time": "2022-03-14T11:33:46.057Z"
   },
   {
    "duration": -1,
    "start_time": "2022-03-14T11:33:46.059Z"
   },
   {
    "duration": 9,
    "start_time": "2022-03-14T11:33:58.737Z"
   },
   {
    "duration": 64,
    "start_time": "2022-03-14T11:34:02.495Z"
   },
   {
    "duration": 9,
    "start_time": "2022-03-14T11:34:02.561Z"
   },
   {
    "duration": 13,
    "start_time": "2022-03-14T11:34:02.572Z"
   },
   {
    "duration": 9,
    "start_time": "2022-03-14T11:34:02.587Z"
   },
   {
    "duration": 12,
    "start_time": "2022-03-14T11:34:02.597Z"
   },
   {
    "duration": 5,
    "start_time": "2022-03-14T11:34:02.610Z"
   },
   {
    "duration": 7,
    "start_time": "2022-03-14T11:34:02.616Z"
   },
   {
    "duration": 10,
    "start_time": "2022-03-14T11:34:02.626Z"
   },
   {
    "duration": 12,
    "start_time": "2022-03-14T11:34:02.639Z"
   },
   {
    "duration": 33,
    "start_time": "2022-03-14T11:34:02.653Z"
   },
   {
    "duration": 8,
    "start_time": "2022-03-14T11:34:02.688Z"
   },
   {
    "duration": 19,
    "start_time": "2022-03-14T11:34:02.698Z"
   },
   {
    "duration": 11,
    "start_time": "2022-03-14T11:34:02.719Z"
   },
   {
    "duration": 8,
    "start_time": "2022-03-14T11:34:02.731Z"
   },
   {
    "duration": 8,
    "start_time": "2022-03-14T11:34:02.740Z"
   },
   {
    "duration": 35,
    "start_time": "2022-03-14T11:34:02.750Z"
   },
   {
    "duration": 6,
    "start_time": "2022-03-14T11:34:02.787Z"
   },
   {
    "duration": 7,
    "start_time": "2022-03-14T11:34:02.795Z"
   },
   {
    "duration": 17,
    "start_time": "2022-03-14T11:34:02.804Z"
   },
   {
    "duration": 31,
    "start_time": "2022-03-14T11:34:02.823Z"
   },
   {
    "duration": 47,
    "start_time": "2022-03-14T11:34:02.855Z"
   },
   {
    "duration": 24,
    "start_time": "2022-03-14T11:34:02.904Z"
   },
   {
    "duration": 6,
    "start_time": "2022-03-14T11:34:02.931Z"
   },
   {
    "duration": 9,
    "start_time": "2022-03-14T11:34:02.939Z"
   },
   {
    "duration": 31,
    "start_time": "2022-03-14T11:34:02.950Z"
   },
   {
    "duration": 12,
    "start_time": "2022-03-14T11:34:02.983Z"
   },
   {
    "duration": 8,
    "start_time": "2022-03-14T11:34:02.996Z"
   },
   {
    "duration": 13,
    "start_time": "2022-03-14T11:34:03.005Z"
   },
   {
    "duration": 4,
    "start_time": "2022-03-14T11:34:03.020Z"
   },
   {
    "duration": 17,
    "start_time": "2022-03-14T11:34:03.025Z"
   },
   {
    "duration": 5,
    "start_time": "2022-03-14T11:34:03.043Z"
   },
   {
    "duration": 32,
    "start_time": "2022-03-14T11:34:03.049Z"
   },
   {
    "duration": 4,
    "start_time": "2022-03-14T11:34:03.083Z"
   },
   {
    "duration": 5,
    "start_time": "2022-03-14T11:34:03.088Z"
   },
   {
    "duration": 12,
    "start_time": "2022-03-14T11:34:03.094Z"
   },
   {
    "duration": 17,
    "start_time": "2022-03-14T11:34:03.107Z"
   },
   {
    "duration": 7,
    "start_time": "2022-03-14T11:34:03.126Z"
   },
   {
    "duration": 10,
    "start_time": "2022-03-14T11:34:03.134Z"
   },
   {
    "duration": 36,
    "start_time": "2022-03-14T11:34:03.145Z"
   },
   {
    "duration": 16,
    "start_time": "2022-03-14T11:34:03.183Z"
   },
   {
    "duration": 6,
    "start_time": "2022-03-14T11:34:03.201Z"
   },
   {
    "duration": 9,
    "start_time": "2022-03-14T11:34:03.208Z"
   },
   {
    "duration": 238,
    "start_time": "2022-03-14T15:08:52.807Z"
   },
   {
    "duration": 655,
    "start_time": "2022-03-14T15:09:49.680Z"
   },
   {
    "duration": 12,
    "start_time": "2022-03-14T15:09:50.337Z"
   },
   {
    "duration": 11,
    "start_time": "2022-03-14T15:09:50.352Z"
   },
   {
    "duration": 6,
    "start_time": "2022-03-14T15:09:50.365Z"
   },
   {
    "duration": 5,
    "start_time": "2022-03-14T15:09:50.373Z"
   },
   {
    "duration": 5,
    "start_time": "2022-03-14T15:09:50.380Z"
   },
   {
    "duration": 4,
    "start_time": "2022-03-14T15:09:50.386Z"
   },
   {
    "duration": 11,
    "start_time": "2022-03-14T15:09:50.392Z"
   },
   {
    "duration": 59,
    "start_time": "2022-03-14T15:09:50.405Z"
   },
   {
    "duration": 12,
    "start_time": "2022-03-14T15:09:50.466Z"
   },
   {
    "duration": 12,
    "start_time": "2022-03-14T15:09:50.480Z"
   },
   {
    "duration": 21,
    "start_time": "2022-03-14T15:09:50.493Z"
   },
   {
    "duration": 13,
    "start_time": "2022-03-14T15:09:50.516Z"
   },
   {
    "duration": 29,
    "start_time": "2022-03-14T15:09:50.531Z"
   },
   {
    "duration": 10,
    "start_time": "2022-03-14T15:09:50.562Z"
   },
   {
    "duration": 8,
    "start_time": "2022-03-14T15:09:50.574Z"
   },
   {
    "duration": 10,
    "start_time": "2022-03-14T15:09:50.584Z"
   },
   {
    "duration": 12,
    "start_time": "2022-03-14T15:09:50.595Z"
   },
   {
    "duration": 25,
    "start_time": "2022-03-14T15:09:50.609Z"
   },
   {
    "duration": 55,
    "start_time": "2022-03-14T15:09:50.635Z"
   },
   {
    "duration": 28,
    "start_time": "2022-03-14T15:09:50.691Z"
   },
   {
    "duration": 48,
    "start_time": "2022-03-14T15:09:50.721Z"
   },
   {
    "duration": 7,
    "start_time": "2022-03-14T15:09:50.771Z"
   },
   {
    "duration": 12,
    "start_time": "2022-03-14T15:09:50.779Z"
   },
   {
    "duration": 7,
    "start_time": "2022-03-14T15:09:50.792Z"
   },
   {
    "duration": 12,
    "start_time": "2022-03-14T15:09:50.801Z"
   },
   {
    "duration": 12,
    "start_time": "2022-03-14T15:09:50.816Z"
   },
   {
    "duration": 37,
    "start_time": "2022-03-14T15:09:50.830Z"
   },
   {
    "duration": 4,
    "start_time": "2022-03-14T15:09:50.869Z"
   },
   {
    "duration": 24,
    "start_time": "2022-03-14T15:09:50.875Z"
   },
   {
    "duration": 6,
    "start_time": "2022-03-14T15:09:50.900Z"
   },
   {
    "duration": 30,
    "start_time": "2022-03-14T15:09:50.908Z"
   },
   {
    "duration": 22,
    "start_time": "2022-03-14T15:09:50.940Z"
   },
   {
    "duration": 5,
    "start_time": "2022-03-14T15:09:50.964Z"
   },
   {
    "duration": 24,
    "start_time": "2022-03-14T15:09:50.970Z"
   },
   {
    "duration": 10,
    "start_time": "2022-03-14T15:09:50.996Z"
   },
   {
    "duration": 9,
    "start_time": "2022-03-14T15:09:51.008Z"
   },
   {
    "duration": 6,
    "start_time": "2022-03-14T15:09:51.019Z"
   },
   {
    "duration": 50,
    "start_time": "2022-03-14T15:09:51.027Z"
   },
   {
    "duration": 9,
    "start_time": "2022-03-14T15:09:51.079Z"
   },
   {
    "duration": 11,
    "start_time": "2022-03-14T15:09:51.090Z"
   },
   {
    "duration": 23,
    "start_time": "2022-03-14T15:09:51.103Z"
   },
   {
    "duration": 18,
    "start_time": "2022-03-14T15:10:50.204Z"
   },
   {
    "duration": 8,
    "start_time": "2022-03-14T15:10:53.657Z"
   },
   {
    "duration": 9,
    "start_time": "2022-03-14T15:10:56.288Z"
   },
   {
    "duration": 20,
    "start_time": "2022-03-14T15:11:00.227Z"
   },
   {
    "duration": 19,
    "start_time": "2022-03-14T15:11:33.226Z"
   },
   {
    "duration": 7,
    "start_time": "2022-03-14T15:14:54.188Z"
   },
   {
    "duration": 9,
    "start_time": "2022-03-14T15:15:10.016Z"
   },
   {
    "duration": 21,
    "start_time": "2022-03-14T15:17:16.182Z"
   },
   {
    "duration": 3601,
    "start_time": "2022-03-14T15:18:28.710Z"
   },
   {
    "duration": 8,
    "start_time": "2022-03-14T15:18:34.330Z"
   },
   {
    "duration": 66,
    "start_time": "2022-03-14T15:18:50.613Z"
   },
   {
    "duration": 10,
    "start_time": "2022-03-14T15:18:50.681Z"
   },
   {
    "duration": 17,
    "start_time": "2022-03-14T15:18:50.693Z"
   },
   {
    "duration": 5,
    "start_time": "2022-03-14T15:18:50.712Z"
   },
   {
    "duration": 8,
    "start_time": "2022-03-14T15:18:50.719Z"
   },
   {
    "duration": 31,
    "start_time": "2022-03-14T15:18:50.729Z"
   },
   {
    "duration": 3,
    "start_time": "2022-03-14T15:18:50.762Z"
   },
   {
    "duration": 15,
    "start_time": "2022-03-14T15:18:50.767Z"
   },
   {
    "duration": 13,
    "start_time": "2022-03-14T15:18:50.786Z"
   },
   {
    "duration": 19,
    "start_time": "2022-03-14T15:18:50.801Z"
   },
   {
    "duration": 36,
    "start_time": "2022-03-14T15:18:50.822Z"
   },
   {
    "duration": 19,
    "start_time": "2022-03-14T15:18:50.860Z"
   },
   {
    "duration": 16,
    "start_time": "2022-03-14T15:18:50.881Z"
   },
   {
    "duration": 7,
    "start_time": "2022-03-14T15:18:50.899Z"
   },
   {
    "duration": 20,
    "start_time": "2022-03-14T15:18:50.907Z"
   },
   {
    "duration": 19,
    "start_time": "2022-03-14T15:18:50.928Z"
   },
   {
    "duration": 10,
    "start_time": "2022-03-14T15:18:50.949Z"
   },
   {
    "duration": 12,
    "start_time": "2022-03-14T15:18:50.961Z"
   },
   {
    "duration": 28,
    "start_time": "2022-03-14T15:18:50.975Z"
   },
   {
    "duration": 32,
    "start_time": "2022-03-14T15:18:51.004Z"
   },
   {
    "duration": 38,
    "start_time": "2022-03-14T15:18:51.037Z"
   },
   {
    "duration": 28,
    "start_time": "2022-03-14T15:18:51.077Z"
   },
   {
    "duration": 8,
    "start_time": "2022-03-14T15:18:51.107Z"
   },
   {
    "duration": 9,
    "start_time": "2022-03-14T15:18:51.116Z"
   },
   {
    "duration": 36,
    "start_time": "2022-03-14T15:18:51.127Z"
   },
   {
    "duration": 14,
    "start_time": "2022-03-14T15:18:51.165Z"
   },
   {
    "duration": 8,
    "start_time": "2022-03-14T15:18:51.183Z"
   },
   {
    "duration": 11,
    "start_time": "2022-03-14T15:18:51.193Z"
   },
   {
    "duration": 4,
    "start_time": "2022-03-14T15:18:51.206Z"
   },
   {
    "duration": 49,
    "start_time": "2022-03-14T15:18:51.212Z"
   },
   {
    "duration": 3,
    "start_time": "2022-03-14T15:18:51.263Z"
   },
   {
    "duration": 22,
    "start_time": "2022-03-14T15:18:51.267Z"
   },
   {
    "duration": 8,
    "start_time": "2022-03-14T15:18:51.290Z"
   },
   {
    "duration": 5,
    "start_time": "2022-03-14T15:18:51.300Z"
   },
   {
    "duration": 23,
    "start_time": "2022-03-14T15:18:51.307Z"
   },
   {
    "duration": 34,
    "start_time": "2022-03-14T15:18:51.331Z"
   },
   {
    "duration": 13,
    "start_time": "2022-03-14T15:18:51.366Z"
   },
   {
    "duration": 6,
    "start_time": "2022-03-14T15:18:51.380Z"
   },
   {
    "duration": 18,
    "start_time": "2022-03-14T15:18:51.388Z"
   },
   {
    "duration": 8,
    "start_time": "2022-03-14T15:18:51.407Z"
   },
   {
    "duration": 11,
    "start_time": "2022-03-14T15:18:51.416Z"
   },
   {
    "duration": 48,
    "start_time": "2022-03-14T15:18:51.428Z"
   },
   {
    "duration": 8,
    "start_time": "2022-03-14T15:18:51.477Z"
   },
   {
    "duration": 10,
    "start_time": "2022-03-14T15:18:51.486Z"
   },
   {
    "duration": 23,
    "start_time": "2022-03-14T15:18:51.497Z"
   },
   {
    "duration": 7,
    "start_time": "2022-03-14T15:18:51.522Z"
   },
   {
    "duration": 38,
    "start_time": "2022-03-14T15:18:51.530Z"
   },
   {
    "duration": 60,
    "start_time": "2022-03-14T15:29:52.226Z"
   },
   {
    "duration": 11,
    "start_time": "2022-03-14T15:29:52.287Z"
   },
   {
    "duration": 9,
    "start_time": "2022-03-14T15:29:52.300Z"
   },
   {
    "duration": 4,
    "start_time": "2022-03-14T15:29:52.311Z"
   },
   {
    "duration": 4,
    "start_time": "2022-03-14T15:29:52.317Z"
   },
   {
    "duration": 36,
    "start_time": "2022-03-14T15:29:52.323Z"
   },
   {
    "duration": 6,
    "start_time": "2022-03-14T15:29:52.361Z"
   },
   {
    "duration": 12,
    "start_time": "2022-03-14T15:29:52.370Z"
   },
   {
    "duration": 13,
    "start_time": "2022-03-14T15:29:52.384Z"
   },
   {
    "duration": 12,
    "start_time": "2022-03-14T15:29:52.399Z"
   },
   {
    "duration": 13,
    "start_time": "2022-03-14T15:29:52.412Z"
   },
   {
    "duration": 41,
    "start_time": "2022-03-14T15:29:52.427Z"
   },
   {
    "duration": 12,
    "start_time": "2022-03-14T15:29:52.469Z"
   },
   {
    "duration": 7,
    "start_time": "2022-03-14T15:29:52.483Z"
   },
   {
    "duration": 12,
    "start_time": "2022-03-14T15:29:52.492Z"
   },
   {
    "duration": 8,
    "start_time": "2022-03-14T15:29:52.506Z"
   },
   {
    "duration": 9,
    "start_time": "2022-03-14T15:29:52.515Z"
   },
   {
    "duration": 36,
    "start_time": "2022-03-14T15:29:52.526Z"
   },
   {
    "duration": 21,
    "start_time": "2022-03-14T15:29:52.563Z"
   },
   {
    "duration": 34,
    "start_time": "2022-03-14T15:29:52.586Z"
   },
   {
    "duration": 56,
    "start_time": "2022-03-14T15:29:52.621Z"
   },
   {
    "duration": 27,
    "start_time": "2022-03-14T15:29:52.679Z"
   },
   {
    "duration": 8,
    "start_time": "2022-03-14T15:29:52.709Z"
   },
   {
    "duration": 10,
    "start_time": "2022-03-14T15:29:52.719Z"
   },
   {
    "duration": 33,
    "start_time": "2022-03-14T15:29:52.731Z"
   },
   {
    "duration": 10,
    "start_time": "2022-03-14T15:29:52.765Z"
   },
   {
    "duration": 7,
    "start_time": "2022-03-14T15:29:52.777Z"
   },
   {
    "duration": 11,
    "start_time": "2022-03-14T15:29:52.787Z"
   },
   {
    "duration": 4,
    "start_time": "2022-03-14T15:29:52.799Z"
   },
   {
    "duration": 19,
    "start_time": "2022-03-14T15:29:52.804Z"
   },
   {
    "duration": 3,
    "start_time": "2022-03-14T15:29:52.859Z"
   },
   {
    "duration": 29,
    "start_time": "2022-03-14T15:29:52.864Z"
   },
   {
    "duration": 9,
    "start_time": "2022-03-14T15:29:52.895Z"
   },
   {
    "duration": 3,
    "start_time": "2022-03-14T15:29:52.906Z"
   },
   {
    "duration": 24,
    "start_time": "2022-03-14T15:29:52.911Z"
   },
   {
    "duration": 30,
    "start_time": "2022-03-14T15:29:52.937Z"
   },
   {
    "duration": 11,
    "start_time": "2022-03-14T15:29:52.969Z"
   },
   {
    "duration": 6,
    "start_time": "2022-03-14T15:29:52.982Z"
   },
   {
    "duration": 28,
    "start_time": "2022-03-14T15:29:52.989Z"
   },
   {
    "duration": 8,
    "start_time": "2022-03-14T15:29:53.019Z"
   },
   {
    "duration": 35,
    "start_time": "2022-03-14T15:29:53.028Z"
   },
   {
    "duration": 20,
    "start_time": "2022-03-14T15:29:53.064Z"
   },
   {
    "duration": 6,
    "start_time": "2022-03-14T15:29:53.086Z"
   },
   {
    "duration": 8,
    "start_time": "2022-03-14T15:29:53.094Z"
   },
   {
    "duration": 23,
    "start_time": "2022-03-14T15:29:53.105Z"
   },
   {
    "duration": 33,
    "start_time": "2022-03-14T15:29:53.130Z"
   },
   {
    "duration": 9,
    "start_time": "2022-03-14T15:29:53.165Z"
   },
   {
    "duration": 72,
    "start_time": "2022-03-14T15:43:06.514Z"
   },
   {
    "duration": 199,
    "start_time": "2022-03-14T15:43:23.073Z"
   },
   {
    "duration": 611,
    "start_time": "2022-03-14T15:46:56.377Z"
   },
   {
    "duration": 61,
    "start_time": "2022-03-14T15:47:03.168Z"
   },
   {
    "duration": 9,
    "start_time": "2022-03-14T15:47:03.231Z"
   },
   {
    "duration": 23,
    "start_time": "2022-03-14T15:47:03.243Z"
   },
   {
    "duration": 5,
    "start_time": "2022-03-14T15:47:03.268Z"
   },
   {
    "duration": 5,
    "start_time": "2022-03-14T15:47:03.274Z"
   },
   {
    "duration": 4,
    "start_time": "2022-03-14T15:47:03.280Z"
   },
   {
    "duration": 9,
    "start_time": "2022-03-14T15:47:03.285Z"
   },
   {
    "duration": 10,
    "start_time": "2022-03-14T15:47:03.296Z"
   },
   {
    "duration": 53,
    "start_time": "2022-03-14T15:47:03.308Z"
   },
   {
    "duration": 13,
    "start_time": "2022-03-14T15:47:03.363Z"
   },
   {
    "duration": 10,
    "start_time": "2022-03-14T15:47:03.378Z"
   },
   {
    "duration": 14,
    "start_time": "2022-03-14T15:47:03.390Z"
   },
   {
    "duration": 13,
    "start_time": "2022-03-14T15:47:03.406Z"
   },
   {
    "duration": 6,
    "start_time": "2022-03-14T15:47:03.420Z"
   },
   {
    "duration": 34,
    "start_time": "2022-03-14T15:47:03.428Z"
   },
   {
    "duration": 8,
    "start_time": "2022-03-14T15:47:03.464Z"
   },
   {
    "duration": 8,
    "start_time": "2022-03-14T15:47:03.473Z"
   },
   {
    "duration": 7,
    "start_time": "2022-03-14T15:47:03.483Z"
   },
   {
    "duration": 23,
    "start_time": "2022-03-14T15:47:03.492Z"
   },
   {
    "duration": 69,
    "start_time": "2022-03-14T15:47:03.517Z"
   },
   {
    "duration": 27,
    "start_time": "2022-03-14T15:47:03.588Z"
   },
   {
    "duration": 48,
    "start_time": "2022-03-14T15:47:03.617Z"
   },
   {
    "duration": 7,
    "start_time": "2022-03-14T15:47:03.670Z"
   },
   {
    "duration": 8,
    "start_time": "2022-03-14T15:47:03.679Z"
   },
   {
    "duration": 7,
    "start_time": "2022-03-14T15:47:03.689Z"
   },
   {
    "duration": 11,
    "start_time": "2022-03-14T15:47:03.698Z"
   },
   {
    "duration": 48,
    "start_time": "2022-03-14T15:47:03.711Z"
   },
   {
    "duration": 13,
    "start_time": "2022-03-14T15:47:03.761Z"
   },
   {
    "duration": 4,
    "start_time": "2022-03-14T15:47:03.776Z"
   },
   {
    "duration": 19,
    "start_time": "2022-03-14T15:47:03.782Z"
   },
   {
    "duration": 3,
    "start_time": "2022-03-14T15:47:03.803Z"
   },
   {
    "duration": 20,
    "start_time": "2022-03-14T15:47:03.808Z"
   },
   {
    "duration": 5,
    "start_time": "2022-03-14T15:47:03.859Z"
   },
   {
    "duration": 4,
    "start_time": "2022-03-14T15:47:03.866Z"
   },
   {
    "duration": 24,
    "start_time": "2022-03-14T15:47:03.872Z"
   },
   {
    "duration": 9,
    "start_time": "2022-03-14T15:47:03.898Z"
   },
   {
    "duration": 9,
    "start_time": "2022-03-14T15:47:03.909Z"
   },
   {
    "duration": 6,
    "start_time": "2022-03-14T15:47:03.920Z"
   },
   {
    "duration": 19,
    "start_time": "2022-03-14T15:47:03.959Z"
   },
   {
    "duration": 209,
    "start_time": "2022-03-14T15:47:03.979Z"
   },
   {
    "duration": -1267,
    "start_time": "2022-03-14T15:47:05.457Z"
   },
   {
    "duration": -1270,
    "start_time": "2022-03-14T15:47:05.461Z"
   },
   {
    "duration": -1272,
    "start_time": "2022-03-14T15:47:05.464Z"
   },
   {
    "duration": -1276,
    "start_time": "2022-03-14T15:47:05.469Z"
   },
   {
    "duration": -1281,
    "start_time": "2022-03-14T15:47:05.475Z"
   },
   {
    "duration": -1295,
    "start_time": "2022-03-14T15:47:05.490Z"
   },
   {
    "duration": -1333,
    "start_time": "2022-03-14T15:47:05.529Z"
   },
   {
    "duration": -1347,
    "start_time": "2022-03-14T15:47:05.544Z"
   },
   {
    "duration": 60,
    "start_time": "2022-03-14T16:22:38.905Z"
   },
   {
    "duration": 10,
    "start_time": "2022-03-14T16:22:38.967Z"
   },
   {
    "duration": 9,
    "start_time": "2022-03-14T16:22:38.979Z"
   },
   {
    "duration": 4,
    "start_time": "2022-03-14T16:22:38.990Z"
   },
   {
    "duration": 5,
    "start_time": "2022-03-14T16:22:38.996Z"
   },
   {
    "duration": 7,
    "start_time": "2022-03-14T16:22:39.002Z"
   },
   {
    "duration": 4,
    "start_time": "2022-03-14T16:22:39.011Z"
   },
   {
    "duration": 45,
    "start_time": "2022-03-14T16:22:39.017Z"
   },
   {
    "duration": 14,
    "start_time": "2022-03-14T16:22:39.064Z"
   },
   {
    "duration": 12,
    "start_time": "2022-03-14T16:22:39.080Z"
   },
   {
    "duration": 11,
    "start_time": "2022-03-14T16:22:39.093Z"
   },
   {
    "duration": 16,
    "start_time": "2022-03-14T16:22:39.106Z"
   },
   {
    "duration": 41,
    "start_time": "2022-03-14T16:22:39.124Z"
   },
   {
    "duration": 7,
    "start_time": "2022-03-14T16:22:39.167Z"
   },
   {
    "duration": 11,
    "start_time": "2022-03-14T16:22:39.176Z"
   },
   {
    "duration": 9,
    "start_time": "2022-03-14T16:22:39.188Z"
   },
   {
    "duration": 7,
    "start_time": "2022-03-14T16:22:39.199Z"
   },
   {
    "duration": 7,
    "start_time": "2022-03-14T16:22:39.208Z"
   },
   {
    "duration": 54,
    "start_time": "2022-03-14T16:22:39.217Z"
   },
   {
    "duration": 42,
    "start_time": "2022-03-14T16:22:39.273Z"
   },
   {
    "duration": 26,
    "start_time": "2022-03-14T16:22:39.317Z"
   },
   {
    "duration": 28,
    "start_time": "2022-03-14T16:22:39.359Z"
   },
   {
    "duration": 6,
    "start_time": "2022-03-14T16:22:39.389Z"
   },
   {
    "duration": 10,
    "start_time": "2022-03-14T16:22:39.397Z"
   },
   {
    "duration": 8,
    "start_time": "2022-03-14T16:22:39.409Z"
   },
   {
    "duration": 11,
    "start_time": "2022-03-14T16:22:39.419Z"
   },
   {
    "duration": 10,
    "start_time": "2022-03-14T16:22:39.460Z"
   },
   {
    "duration": 12,
    "start_time": "2022-03-14T16:22:39.472Z"
   },
   {
    "duration": 5,
    "start_time": "2022-03-14T16:22:39.495Z"
   },
   {
    "duration": 25,
    "start_time": "2022-03-14T16:22:39.501Z"
   },
   {
    "duration": 3,
    "start_time": "2022-03-14T16:22:39.528Z"
   },
   {
    "duration": 36,
    "start_time": "2022-03-14T16:22:39.532Z"
   },
   {
    "duration": 4,
    "start_time": "2022-03-14T16:22:39.569Z"
   },
   {
    "duration": 5,
    "start_time": "2022-03-14T16:22:39.575Z"
   },
   {
    "duration": 23,
    "start_time": "2022-03-14T16:22:39.582Z"
   },
   {
    "duration": 8,
    "start_time": "2022-03-14T16:22:39.607Z"
   },
   {
    "duration": 9,
    "start_time": "2022-03-14T16:22:39.617Z"
   },
   {
    "duration": 32,
    "start_time": "2022-03-14T16:22:39.628Z"
   },
   {
    "duration": 19,
    "start_time": "2022-03-14T16:22:39.661Z"
   },
   {
    "duration": 10,
    "start_time": "2022-03-14T16:22:39.682Z"
   },
   {
    "duration": 11,
    "start_time": "2022-03-14T16:22:39.694Z"
   },
   {
    "duration": 19,
    "start_time": "2022-03-14T16:22:39.706Z"
   },
   {
    "duration": 37,
    "start_time": "2022-03-14T16:22:39.726Z"
   },
   {
    "duration": 9,
    "start_time": "2022-03-14T16:22:39.765Z"
   },
   {
    "duration": 20,
    "start_time": "2022-03-14T16:22:39.775Z"
   },
   {
    "duration": 7,
    "start_time": "2022-03-14T16:22:39.797Z"
   },
   {
    "duration": 9,
    "start_time": "2022-03-14T16:22:39.805Z"
   },
   {
    "duration": 48,
    "start_time": "2022-03-28T15:54:21.806Z"
   },
   {
    "duration": 7,
    "start_time": "2022-03-28T15:56:07.075Z"
   },
   {
    "duration": 430,
    "start_time": "2022-03-28T16:00:07.153Z"
   },
   {
    "duration": 20,
    "start_time": "2022-03-28T16:00:07.585Z"
   },
   {
    "duration": 12,
    "start_time": "2022-03-28T16:00:07.606Z"
   },
   {
    "duration": 19,
    "start_time": "2022-03-28T16:00:07.619Z"
   },
   {
    "duration": 7,
    "start_time": "2022-03-28T16:00:07.640Z"
   },
   {
    "duration": 8,
    "start_time": "2022-03-28T16:00:07.648Z"
   },
   {
    "duration": 22,
    "start_time": "2022-03-28T16:00:07.657Z"
   },
   {
    "duration": 18,
    "start_time": "2022-03-28T16:00:07.680Z"
   },
   {
    "duration": 24,
    "start_time": "2022-03-28T16:00:07.699Z"
   },
   {
    "duration": 18,
    "start_time": "2022-03-28T16:00:07.724Z"
   },
   {
    "duration": 10,
    "start_time": "2022-03-28T16:00:07.743Z"
   },
   {
    "duration": 22,
    "start_time": "2022-03-28T16:00:07.754Z"
   },
   {
    "duration": 29,
    "start_time": "2022-03-28T16:00:07.778Z"
   },
   {
    "duration": 6,
    "start_time": "2022-03-28T16:00:07.810Z"
   },
   {
    "duration": 20,
    "start_time": "2022-03-28T16:00:07.818Z"
   },
   {
    "duration": 17,
    "start_time": "2022-03-28T16:00:07.840Z"
   },
   {
    "duration": 16,
    "start_time": "2022-03-28T16:00:07.858Z"
   },
   {
    "duration": 21,
    "start_time": "2022-03-28T16:00:07.876Z"
   },
   {
    "duration": 13,
    "start_time": "2022-03-28T16:00:07.898Z"
   },
   {
    "duration": 13,
    "start_time": "2022-03-28T16:00:07.912Z"
   },
   {
    "duration": 20,
    "start_time": "2022-03-28T16:00:07.927Z"
   },
   {
    "duration": 25,
    "start_time": "2022-03-28T16:00:07.949Z"
   },
   {
    "duration": 15,
    "start_time": "2022-03-28T16:00:07.975Z"
   },
   {
    "duration": 43,
    "start_time": "2022-03-28T16:00:07.992Z"
   },
   {
    "duration": 0,
    "start_time": "2022-03-28T16:00:08.036Z"
   },
   {
    "duration": 0,
    "start_time": "2022-03-28T16:00:08.037Z"
   },
   {
    "duration": 0,
    "start_time": "2022-03-28T16:00:08.038Z"
   },
   {
    "duration": 0,
    "start_time": "2022-03-28T16:00:08.039Z"
   },
   {
    "duration": 0,
    "start_time": "2022-03-28T16:00:08.040Z"
   },
   {
    "duration": 0,
    "start_time": "2022-03-28T16:00:08.041Z"
   },
   {
    "duration": 0,
    "start_time": "2022-03-28T16:00:08.042Z"
   },
   {
    "duration": 0,
    "start_time": "2022-03-28T16:00:08.042Z"
   },
   {
    "duration": 0,
    "start_time": "2022-03-28T16:00:08.043Z"
   },
   {
    "duration": 0,
    "start_time": "2022-03-28T16:00:08.044Z"
   },
   {
    "duration": 0,
    "start_time": "2022-03-28T16:00:08.045Z"
   },
   {
    "duration": 0,
    "start_time": "2022-03-28T16:00:08.046Z"
   },
   {
    "duration": 0,
    "start_time": "2022-03-28T16:00:08.047Z"
   },
   {
    "duration": 0,
    "start_time": "2022-03-28T16:00:08.048Z"
   },
   {
    "duration": 0,
    "start_time": "2022-03-28T16:00:08.049Z"
   },
   {
    "duration": 0,
    "start_time": "2022-03-28T16:00:08.050Z"
   },
   {
    "duration": 0,
    "start_time": "2022-03-28T16:00:08.051Z"
   },
   {
    "duration": 0,
    "start_time": "2022-03-28T16:00:08.051Z"
   },
   {
    "duration": 0,
    "start_time": "2022-03-28T16:00:08.053Z"
   },
   {
    "duration": 0,
    "start_time": "2022-03-28T16:00:08.054Z"
   },
   {
    "duration": 0,
    "start_time": "2022-03-28T16:00:08.055Z"
   },
   {
    "duration": 0,
    "start_time": "2022-03-28T16:00:08.056Z"
   },
   {
    "duration": 0,
    "start_time": "2022-03-28T16:00:08.057Z"
   },
   {
    "duration": 0,
    "start_time": "2022-03-28T16:00:08.058Z"
   },
   {
    "duration": 78,
    "start_time": "2022-03-28T16:00:18.404Z"
   },
   {
    "duration": 19,
    "start_time": "2022-03-28T16:00:18.483Z"
   },
   {
    "duration": 12,
    "start_time": "2022-03-28T16:00:18.504Z"
   },
   {
    "duration": 5,
    "start_time": "2022-03-28T16:00:18.518Z"
   },
   {
    "duration": 4,
    "start_time": "2022-03-28T16:00:18.526Z"
   },
   {
    "duration": 3,
    "start_time": "2022-03-28T16:00:18.532Z"
   },
   {
    "duration": 4,
    "start_time": "2022-03-28T16:00:18.537Z"
   },
   {
    "duration": 11,
    "start_time": "2022-03-28T16:00:18.542Z"
   },
   {
    "duration": 56,
    "start_time": "2022-03-28T16:00:18.555Z"
   },
   {
    "duration": 13,
    "start_time": "2022-03-28T16:00:18.612Z"
   },
   {
    "duration": 12,
    "start_time": "2022-03-28T16:00:18.627Z"
   },
   {
    "duration": 15,
    "start_time": "2022-03-28T16:00:18.641Z"
   },
   {
    "duration": 17,
    "start_time": "2022-03-28T16:00:18.658Z"
   },
   {
    "duration": 27,
    "start_time": "2022-03-28T16:00:18.678Z"
   },
   {
    "duration": 9,
    "start_time": "2022-03-28T16:00:18.707Z"
   },
   {
    "duration": 11,
    "start_time": "2022-03-28T16:00:18.717Z"
   },
   {
    "duration": 7,
    "start_time": "2022-03-28T16:00:18.736Z"
   },
   {
    "duration": 10,
    "start_time": "2022-03-28T16:00:18.745Z"
   },
   {
    "duration": 7,
    "start_time": "2022-03-28T16:00:18.757Z"
   },
   {
    "duration": 9,
    "start_time": "2022-03-28T16:00:18.765Z"
   },
   {
    "duration": 10,
    "start_time": "2022-03-28T16:00:18.776Z"
   },
   {
    "duration": 2,
    "start_time": "2022-03-28T16:00:18.802Z"
   },
   {
    "duration": 11,
    "start_time": "2022-03-28T16:00:18.806Z"
   },
   {
    "duration": 15,
    "start_time": "2022-03-28T16:00:18.819Z"
   },
   {
    "duration": 0,
    "start_time": "2022-03-28T16:00:18.836Z"
   },
   {
    "duration": 0,
    "start_time": "2022-03-28T16:00:18.837Z"
   },
   {
    "duration": 0,
    "start_time": "2022-03-28T16:00:18.839Z"
   },
   {
    "duration": 0,
    "start_time": "2022-03-28T16:00:18.840Z"
   },
   {
    "duration": 0,
    "start_time": "2022-03-28T16:00:18.841Z"
   },
   {
    "duration": 0,
    "start_time": "2022-03-28T16:00:18.843Z"
   },
   {
    "duration": 0,
    "start_time": "2022-03-28T16:00:18.844Z"
   },
   {
    "duration": 0,
    "start_time": "2022-03-28T16:00:18.845Z"
   },
   {
    "duration": 0,
    "start_time": "2022-03-28T16:00:18.846Z"
   },
   {
    "duration": 0,
    "start_time": "2022-03-28T16:00:18.846Z"
   },
   {
    "duration": 0,
    "start_time": "2022-03-28T16:00:18.847Z"
   },
   {
    "duration": 0,
    "start_time": "2022-03-28T16:00:18.849Z"
   },
   {
    "duration": 0,
    "start_time": "2022-03-28T16:00:18.850Z"
   },
   {
    "duration": 0,
    "start_time": "2022-03-28T16:00:18.851Z"
   },
   {
    "duration": 0,
    "start_time": "2022-03-28T16:00:18.852Z"
   },
   {
    "duration": 0,
    "start_time": "2022-03-28T16:00:18.853Z"
   },
   {
    "duration": 0,
    "start_time": "2022-03-28T16:00:18.854Z"
   },
   {
    "duration": 0,
    "start_time": "2022-03-28T16:00:18.855Z"
   },
   {
    "duration": 0,
    "start_time": "2022-03-28T16:00:18.856Z"
   },
   {
    "duration": 0,
    "start_time": "2022-03-28T16:00:18.857Z"
   },
   {
    "duration": 0,
    "start_time": "2022-03-28T16:00:18.858Z"
   },
   {
    "duration": 0,
    "start_time": "2022-03-28T16:00:18.859Z"
   },
   {
    "duration": 0,
    "start_time": "2022-03-28T16:00:18.859Z"
   },
   {
    "duration": 0,
    "start_time": "2022-03-28T16:00:18.860Z"
   },
   {
    "duration": 11,
    "start_time": "2022-03-28T16:00:44.276Z"
   },
   {
    "duration": 0,
    "start_time": "2022-03-28T16:01:05.486Z"
   },
   {
    "duration": 79,
    "start_time": "2022-03-28T16:01:08.341Z"
   },
   {
    "duration": 18,
    "start_time": "2022-03-28T16:01:08.422Z"
   },
   {
    "duration": 14,
    "start_time": "2022-03-28T16:01:08.442Z"
   },
   {
    "duration": 41,
    "start_time": "2022-03-28T16:01:08.462Z"
   },
   {
    "duration": 8,
    "start_time": "2022-03-28T16:01:08.505Z"
   },
   {
    "duration": 11,
    "start_time": "2022-03-28T16:01:08.514Z"
   },
   {
    "duration": 7,
    "start_time": "2022-03-28T16:01:08.527Z"
   },
   {
    "duration": 11,
    "start_time": "2022-03-28T16:01:08.536Z"
   },
   {
    "duration": 21,
    "start_time": "2022-03-28T16:01:08.549Z"
   },
   {
    "duration": 41,
    "start_time": "2022-03-28T16:01:08.574Z"
   },
   {
    "duration": 18,
    "start_time": "2022-03-28T16:01:08.617Z"
   },
   {
    "duration": 21,
    "start_time": "2022-03-28T16:01:08.637Z"
   },
   {
    "duration": 50,
    "start_time": "2022-03-28T16:01:08.660Z"
   },
   {
    "duration": 9,
    "start_time": "2022-03-28T16:01:08.712Z"
   },
   {
    "duration": 10,
    "start_time": "2022-03-28T16:01:08.723Z"
   },
   {
    "duration": 11,
    "start_time": "2022-03-28T16:01:08.735Z"
   },
   {
    "duration": 11,
    "start_time": "2022-03-28T16:01:08.748Z"
   },
   {
    "duration": 10,
    "start_time": "2022-03-28T16:01:08.760Z"
   },
   {
    "duration": 16,
    "start_time": "2022-03-28T16:01:08.771Z"
   },
   {
    "duration": 17,
    "start_time": "2022-03-28T16:01:08.802Z"
   },
   {
    "duration": 12,
    "start_time": "2022-03-28T16:01:08.822Z"
   },
   {
    "duration": 12,
    "start_time": "2022-03-28T16:01:08.836Z"
   },
   {
    "duration": 10,
    "start_time": "2022-03-28T16:01:08.850Z"
   },
   {
    "duration": 7528,
    "start_time": "2022-03-28T16:01:08.862Z"
   },
   {
    "duration": 0,
    "start_time": "2022-03-28T16:01:16.393Z"
   },
   {
    "duration": 1,
    "start_time": "2022-03-28T16:01:16.401Z"
   },
   {
    "duration": 0,
    "start_time": "2022-03-28T16:01:16.403Z"
   },
   {
    "duration": 0,
    "start_time": "2022-03-28T16:01:16.404Z"
   },
   {
    "duration": 0,
    "start_time": "2022-03-28T16:01:16.405Z"
   },
   {
    "duration": 0,
    "start_time": "2022-03-28T16:01:16.406Z"
   },
   {
    "duration": 0,
    "start_time": "2022-03-28T16:01:16.407Z"
   },
   {
    "duration": 0,
    "start_time": "2022-03-28T16:01:16.408Z"
   },
   {
    "duration": 0,
    "start_time": "2022-03-28T16:01:16.412Z"
   },
   {
    "duration": 0,
    "start_time": "2022-03-28T16:01:16.414Z"
   },
   {
    "duration": 0,
    "start_time": "2022-03-28T16:01:16.415Z"
   },
   {
    "duration": 0,
    "start_time": "2022-03-28T16:01:16.416Z"
   },
   {
    "duration": 0,
    "start_time": "2022-03-28T16:01:16.417Z"
   },
   {
    "duration": 0,
    "start_time": "2022-03-28T16:01:16.419Z"
   },
   {
    "duration": 0,
    "start_time": "2022-03-28T16:01:16.420Z"
   },
   {
    "duration": 0,
    "start_time": "2022-03-28T16:01:16.421Z"
   },
   {
    "duration": 0,
    "start_time": "2022-03-28T16:01:16.422Z"
   },
   {
    "duration": 0,
    "start_time": "2022-03-28T16:01:16.423Z"
   },
   {
    "duration": 0,
    "start_time": "2022-03-28T16:01:16.424Z"
   },
   {
    "duration": 0,
    "start_time": "2022-03-28T16:01:16.426Z"
   },
   {
    "duration": 0,
    "start_time": "2022-03-28T16:01:16.427Z"
   },
   {
    "duration": 0,
    "start_time": "2022-03-28T16:01:16.428Z"
   },
   {
    "duration": 0,
    "start_time": "2022-03-28T16:01:16.429Z"
   },
   {
    "duration": 0,
    "start_time": "2022-03-28T16:01:16.430Z"
   },
   {
    "duration": 8,
    "start_time": "2022-03-28T16:03:02.314Z"
   },
   {
    "duration": 76,
    "start_time": "2022-03-28T16:03:05.899Z"
   },
   {
    "duration": 14,
    "start_time": "2022-03-28T16:03:05.977Z"
   },
   {
    "duration": 15,
    "start_time": "2022-03-28T16:03:05.993Z"
   },
   {
    "duration": 20,
    "start_time": "2022-03-28T16:03:06.010Z"
   },
   {
    "duration": 23,
    "start_time": "2022-03-28T16:03:06.033Z"
   },
   {
    "duration": 9,
    "start_time": "2022-03-28T16:03:06.058Z"
   },
   {
    "duration": 17,
    "start_time": "2022-03-28T16:03:06.068Z"
   },
   {
    "duration": 54,
    "start_time": "2022-03-28T16:03:06.087Z"
   },
   {
    "duration": 24,
    "start_time": "2022-03-28T16:03:06.143Z"
   },
   {
    "duration": 39,
    "start_time": "2022-03-28T16:03:06.169Z"
   },
   {
    "duration": 33,
    "start_time": "2022-03-28T16:03:06.210Z"
   },
   {
    "duration": 24,
    "start_time": "2022-03-28T16:03:06.245Z"
   },
   {
    "duration": 43,
    "start_time": "2022-03-28T16:03:06.271Z"
   },
   {
    "duration": 16,
    "start_time": "2022-03-28T16:03:06.317Z"
   },
   {
    "duration": 25,
    "start_time": "2022-03-28T16:03:06.335Z"
   },
   {
    "duration": 30,
    "start_time": "2022-03-28T16:03:06.361Z"
   },
   {
    "duration": 19,
    "start_time": "2022-03-28T16:03:06.393Z"
   },
   {
    "duration": 35,
    "start_time": "2022-03-28T16:03:06.413Z"
   },
   {
    "duration": 12,
    "start_time": "2022-03-28T16:03:06.450Z"
   },
   {
    "duration": 28,
    "start_time": "2022-03-28T16:03:06.464Z"
   },
   {
    "duration": 32,
    "start_time": "2022-03-28T16:03:06.494Z"
   },
   {
    "duration": 38,
    "start_time": "2022-03-28T16:03:06.528Z"
   },
   {
    "duration": 16,
    "start_time": "2022-03-28T16:03:06.568Z"
   },
   {
    "duration": 24,
    "start_time": "2022-03-28T16:03:06.586Z"
   },
   {
    "duration": 73,
    "start_time": "2022-03-28T16:03:09.278Z"
   },
   {
    "duration": 14,
    "start_time": "2022-03-28T16:03:09.353Z"
   },
   {
    "duration": 37,
    "start_time": "2022-03-28T16:03:09.368Z"
   },
   {
    "duration": 5,
    "start_time": "2022-03-28T16:03:09.407Z"
   },
   {
    "duration": 5,
    "start_time": "2022-03-28T16:03:09.414Z"
   },
   {
    "duration": 3,
    "start_time": "2022-03-28T16:03:09.421Z"
   },
   {
    "duration": 4,
    "start_time": "2022-03-28T16:03:09.426Z"
   },
   {
    "duration": 11,
    "start_time": "2022-03-28T16:03:09.432Z"
   },
   {
    "duration": 58,
    "start_time": "2022-03-28T16:03:09.445Z"
   },
   {
    "duration": 12,
    "start_time": "2022-03-28T16:03:09.505Z"
   },
   {
    "duration": 11,
    "start_time": "2022-03-28T16:03:09.519Z"
   },
   {
    "duration": 14,
    "start_time": "2022-03-28T16:03:09.532Z"
   },
   {
    "duration": 17,
    "start_time": "2022-03-28T16:03:09.548Z"
   },
   {
    "duration": 7,
    "start_time": "2022-03-28T16:03:09.601Z"
   },
   {
    "duration": 9,
    "start_time": "2022-03-28T16:03:09.610Z"
   },
   {
    "duration": 10,
    "start_time": "2022-03-28T16:03:09.621Z"
   },
   {
    "duration": 14,
    "start_time": "2022-03-28T16:03:09.632Z"
   },
   {
    "duration": 11,
    "start_time": "2022-03-28T16:03:09.647Z"
   },
   {
    "duration": 10,
    "start_time": "2022-03-28T16:03:09.659Z"
   },
   {
    "duration": 8,
    "start_time": "2022-03-28T16:03:09.671Z"
   },
   {
    "duration": 20,
    "start_time": "2022-03-28T16:03:09.681Z"
   },
   {
    "duration": 10,
    "start_time": "2022-03-28T16:03:09.703Z"
   },
   {
    "duration": 10,
    "start_time": "2022-03-28T16:03:09.715Z"
   },
   {
    "duration": 44,
    "start_time": "2022-03-28T16:03:09.727Z"
   },
   {
    "duration": 7,
    "start_time": "2022-03-28T16:03:09.773Z"
   },
   {
    "duration": 28,
    "start_time": "2022-03-28T16:03:09.781Z"
   },
   {
    "duration": 11,
    "start_time": "2022-03-28T16:03:09.811Z"
   },
   {
    "duration": 11,
    "start_time": "2022-03-28T16:03:09.824Z"
   },
   {
    "duration": 6,
    "start_time": "2022-03-28T16:03:09.836Z"
   },
   {
    "duration": 22,
    "start_time": "2022-03-28T16:03:09.844Z"
   },
   {
    "duration": 3,
    "start_time": "2022-03-28T16:03:09.868Z"
   },
   {
    "duration": 38,
    "start_time": "2022-03-28T16:03:09.872Z"
   },
   {
    "duration": 15,
    "start_time": "2022-03-28T16:03:09.912Z"
   },
   {
    "duration": 8,
    "start_time": "2022-03-28T16:03:09.929Z"
   },
   {
    "duration": 44,
    "start_time": "2022-03-28T16:03:09.939Z"
   },
   {
    "duration": 10,
    "start_time": "2022-03-28T16:03:09.984Z"
   },
   {
    "duration": 14,
    "start_time": "2022-03-28T16:03:09.996Z"
   },
   {
    "duration": 12,
    "start_time": "2022-03-28T16:03:10.012Z"
   },
   {
    "duration": 29,
    "start_time": "2022-03-28T16:03:10.026Z"
   },
   {
    "duration": 9,
    "start_time": "2022-03-28T16:03:10.057Z"
   },
   {
    "duration": 10,
    "start_time": "2022-03-28T16:03:10.070Z"
   },
   {
    "duration": 19,
    "start_time": "2022-03-28T16:03:10.102Z"
   },
   {
    "duration": 8,
    "start_time": "2022-03-28T16:03:10.122Z"
   },
   {
    "duration": 19,
    "start_time": "2022-03-28T16:03:10.132Z"
   },
   {
    "duration": 50,
    "start_time": "2022-03-28T16:03:10.153Z"
   },
   {
    "duration": 8,
    "start_time": "2022-03-28T16:03:10.205Z"
   },
   {
    "duration": 10,
    "start_time": "2022-03-28T16:03:10.215Z"
   },
   {
    "duration": 66,
    "start_time": "2022-03-28T17:30:46.084Z"
   },
   {
    "duration": 669,
    "start_time": "2022-03-28T17:31:14.429Z"
   },
   {
    "duration": 20,
    "start_time": "2022-03-28T17:31:15.100Z"
   },
   {
    "duration": 13,
    "start_time": "2022-03-28T17:31:15.122Z"
   },
   {
    "duration": 6,
    "start_time": "2022-03-28T17:31:15.138Z"
   },
   {
    "duration": 41,
    "start_time": "2022-03-28T17:31:15.146Z"
   },
   {
    "duration": 6,
    "start_time": "2022-03-28T17:31:15.189Z"
   },
   {
    "duration": 6,
    "start_time": "2022-03-28T17:31:15.197Z"
   },
   {
    "duration": 13,
    "start_time": "2022-03-28T17:31:15.205Z"
   },
   {
    "duration": 18,
    "start_time": "2022-03-28T17:31:15.221Z"
   },
   {
    "duration": 14,
    "start_time": "2022-03-28T17:31:15.281Z"
   },
   {
    "duration": 14,
    "start_time": "2022-03-28T17:31:15.297Z"
   },
   {
    "duration": 18,
    "start_time": "2022-03-28T17:31:15.313Z"
   },
   {
    "duration": 13,
    "start_time": "2022-03-28T17:31:15.333Z"
   },
   {
    "duration": 37,
    "start_time": "2022-03-28T17:31:15.348Z"
   },
   {
    "duration": 13,
    "start_time": "2022-03-28T17:31:15.387Z"
   },
   {
    "duration": 20,
    "start_time": "2022-03-28T17:31:15.403Z"
   },
   {
    "duration": 9,
    "start_time": "2022-03-28T17:31:15.425Z"
   },
   {
    "duration": 15,
    "start_time": "2022-03-28T17:31:15.436Z"
   },
   {
    "duration": 8,
    "start_time": "2022-03-28T17:31:15.481Z"
   },
   {
    "duration": 12,
    "start_time": "2022-03-28T17:31:15.492Z"
   },
   {
    "duration": 11,
    "start_time": "2022-03-28T17:31:15.506Z"
   },
   {
    "duration": 4,
    "start_time": "2022-03-28T17:31:15.519Z"
   },
   {
    "duration": 7,
    "start_time": "2022-03-28T17:31:15.525Z"
   },
   {
    "duration": 11,
    "start_time": "2022-03-28T17:31:15.534Z"
   },
   {
    "duration": 3,
    "start_time": "2022-03-28T17:31:15.582Z"
   },
   {
    "duration": 10,
    "start_time": "2022-03-28T17:31:15.588Z"
   },
   {
    "duration": 17,
    "start_time": "2022-03-28T17:31:15.600Z"
   },
   {
    "duration": 7,
    "start_time": "2022-03-28T17:31:15.623Z"
   },
   {
    "duration": 14,
    "start_time": "2022-03-28T17:31:15.632Z"
   },
   {
    "duration": 41,
    "start_time": "2022-03-28T17:31:15.648Z"
   },
   {
    "duration": 15,
    "start_time": "2022-03-28T17:31:15.692Z"
   },
   {
    "duration": 6,
    "start_time": "2022-03-28T17:31:15.709Z"
   },
   {
    "duration": 26,
    "start_time": "2022-03-28T17:31:15.717Z"
   },
   {
    "duration": 4,
    "start_time": "2022-03-28T17:31:15.782Z"
   },
   {
    "duration": 31,
    "start_time": "2022-03-28T17:31:15.788Z"
   },
   {
    "duration": 35,
    "start_time": "2022-03-28T17:31:15.821Z"
   },
   {
    "duration": 25,
    "start_time": "2022-03-28T17:31:15.859Z"
   },
   {
    "duration": 25,
    "start_time": "2022-03-28T17:31:15.886Z"
   },
   {
    "duration": 75,
    "start_time": "2022-03-28T17:31:15.913Z"
   },
   {
    "duration": 0,
    "start_time": "2022-03-28T17:31:15.991Z"
   },
   {
    "duration": 0,
    "start_time": "2022-03-28T17:31:15.993Z"
   },
   {
    "duration": 0,
    "start_time": "2022-03-28T17:31:15.995Z"
   },
   {
    "duration": 0,
    "start_time": "2022-03-28T17:31:15.997Z"
   },
   {
    "duration": 0,
    "start_time": "2022-03-28T17:31:16.000Z"
   },
   {
    "duration": 0,
    "start_time": "2022-03-28T17:31:16.001Z"
   },
   {
    "duration": 0,
    "start_time": "2022-03-28T17:31:16.003Z"
   },
   {
    "duration": 0,
    "start_time": "2022-03-28T17:31:16.005Z"
   },
   {
    "duration": 24,
    "start_time": "2022-03-28T17:32:13.603Z"
   },
   {
    "duration": 2038,
    "start_time": "2022-03-28T17:33:08.877Z"
   },
   {
    "duration": 16,
    "start_time": "2022-03-28T17:33:11.424Z"
   },
   {
    "duration": 10,
    "start_time": "2022-03-28T17:34:39.423Z"
   },
   {
    "duration": 96,
    "start_time": "2022-03-28T17:38:04.388Z"
   },
   {
    "duration": 20,
    "start_time": "2022-03-28T17:38:04.487Z"
   },
   {
    "duration": 13,
    "start_time": "2022-03-28T17:38:04.510Z"
   },
   {
    "duration": 7,
    "start_time": "2022-03-28T17:38:04.526Z"
   },
   {
    "duration": 18,
    "start_time": "2022-03-28T17:38:04.582Z"
   },
   {
    "duration": 11,
    "start_time": "2022-03-28T17:38:04.602Z"
   },
   {
    "duration": 6,
    "start_time": "2022-03-28T17:38:04.615Z"
   },
   {
    "duration": 17,
    "start_time": "2022-03-28T17:38:04.623Z"
   },
   {
    "duration": 47,
    "start_time": "2022-03-28T17:38:04.642Z"
   },
   {
    "duration": 22,
    "start_time": "2022-03-28T17:38:04.693Z"
   },
   {
    "duration": 12,
    "start_time": "2022-03-28T17:38:04.717Z"
   },
   {
    "duration": 22,
    "start_time": "2022-03-28T17:38:04.731Z"
   },
   {
    "duration": 30,
    "start_time": "2022-03-28T17:38:04.756Z"
   },
   {
    "duration": 8,
    "start_time": "2022-03-28T17:38:04.789Z"
   },
   {
    "duration": 14,
    "start_time": "2022-03-28T17:38:04.799Z"
   },
   {
    "duration": 25,
    "start_time": "2022-03-28T17:38:04.815Z"
   },
   {
    "duration": 9,
    "start_time": "2022-03-28T17:38:04.843Z"
   },
   {
    "duration": 37,
    "start_time": "2022-03-28T17:38:04.854Z"
   },
   {
    "duration": 20,
    "start_time": "2022-03-28T17:38:04.894Z"
   },
   {
    "duration": 13,
    "start_time": "2022-03-28T17:38:04.917Z"
   },
   {
    "duration": 10,
    "start_time": "2022-03-28T17:38:04.932Z"
   },
   {
    "duration": 37,
    "start_time": "2022-03-28T17:38:04.944Z"
   },
   {
    "duration": 11,
    "start_time": "2022-03-28T17:38:04.984Z"
   },
   {
    "duration": 15,
    "start_time": "2022-03-28T17:38:04.997Z"
   },
   {
    "duration": 12,
    "start_time": "2022-03-28T17:38:05.014Z"
   },
   {
    "duration": 11,
    "start_time": "2022-03-28T17:38:05.028Z"
   },
   {
    "duration": 23,
    "start_time": "2022-03-28T17:38:05.041Z"
   },
   {
    "duration": 17,
    "start_time": "2022-03-28T17:38:05.069Z"
   },
   {
    "duration": 14,
    "start_time": "2022-03-28T17:38:05.088Z"
   },
   {
    "duration": 14,
    "start_time": "2022-03-28T17:38:05.105Z"
   },
   {
    "duration": 17,
    "start_time": "2022-03-28T17:38:05.121Z"
   },
   {
    "duration": 42,
    "start_time": "2022-03-28T17:38:05.140Z"
   },
   {
    "duration": 29,
    "start_time": "2022-03-28T17:38:05.186Z"
   },
   {
    "duration": 4,
    "start_time": "2022-03-28T17:38:05.218Z"
   },
   {
    "duration": 32,
    "start_time": "2022-03-28T17:38:05.224Z"
   },
   {
    "duration": 47,
    "start_time": "2022-03-28T17:38:05.258Z"
   },
   {
    "duration": 13,
    "start_time": "2022-03-28T17:38:05.307Z"
   },
   {
    "duration": 17,
    "start_time": "2022-03-28T17:38:05.322Z"
   },
   {
    "duration": 58,
    "start_time": "2022-03-28T17:38:05.342Z"
   },
   {
    "duration": 12,
    "start_time": "2022-03-28T17:38:05.402Z"
   },
   {
    "duration": 13,
    "start_time": "2022-03-28T17:38:05.417Z"
   },
   {
    "duration": 58,
    "start_time": "2022-03-28T17:38:05.433Z"
   },
   {
    "duration": 11,
    "start_time": "2022-03-28T17:38:05.493Z"
   },
   {
    "duration": 16,
    "start_time": "2022-03-28T17:38:05.507Z"
   },
   {
    "duration": 28,
    "start_time": "2022-03-28T17:38:05.526Z"
   },
   {
    "duration": 12,
    "start_time": "2022-03-28T17:38:05.583Z"
   },
   {
    "duration": 22,
    "start_time": "2022-03-28T17:38:05.597Z"
   },
   {
    "duration": 588,
    "start_time": "2022-03-28T17:53:13.096Z"
   },
   {
    "duration": 22,
    "start_time": "2022-03-28T17:53:13.687Z"
   },
   {
    "duration": 13,
    "start_time": "2022-03-28T17:53:13.711Z"
   },
   {
    "duration": 8,
    "start_time": "2022-03-28T17:53:13.728Z"
   },
   {
    "duration": 45,
    "start_time": "2022-03-28T17:53:13.739Z"
   },
   {
    "duration": 7,
    "start_time": "2022-03-28T17:53:13.786Z"
   },
   {
    "duration": 6,
    "start_time": "2022-03-28T17:53:13.796Z"
   },
   {
    "duration": 15,
    "start_time": "2022-03-28T17:53:13.804Z"
   },
   {
    "duration": 61,
    "start_time": "2022-03-28T17:53:13.821Z"
   },
   {
    "duration": 16,
    "start_time": "2022-03-28T17:53:13.886Z"
   },
   {
    "duration": 13,
    "start_time": "2022-03-28T17:53:13.904Z"
   },
   {
    "duration": 21,
    "start_time": "2022-03-28T17:53:13.919Z"
   },
   {
    "duration": 6,
    "start_time": "2022-03-28T17:53:13.943Z"
   },
   {
    "duration": 5,
    "start_time": "2022-03-28T17:53:13.982Z"
   },
   {
    "duration": 9,
    "start_time": "2022-03-28T17:53:13.989Z"
   },
   {
    "duration": 22,
    "start_time": "2022-03-28T17:53:14.000Z"
   },
   {
    "duration": 10,
    "start_time": "2022-03-28T17:53:14.025Z"
   },
   {
    "duration": 53,
    "start_time": "2022-03-28T17:53:14.038Z"
   },
   {
    "duration": 14,
    "start_time": "2022-03-28T17:53:14.093Z"
   },
   {
    "duration": 11,
    "start_time": "2022-03-28T17:53:14.109Z"
   },
   {
    "duration": 14,
    "start_time": "2022-03-28T17:53:14.122Z"
   },
   {
    "duration": 3,
    "start_time": "2022-03-28T17:53:14.139Z"
   },
   {
    "duration": 38,
    "start_time": "2022-03-28T17:53:14.144Z"
   },
   {
    "duration": 9,
    "start_time": "2022-03-28T17:53:14.184Z"
   },
   {
    "duration": 8,
    "start_time": "2022-03-28T17:53:14.195Z"
   },
   {
    "duration": 13,
    "start_time": "2022-03-28T17:53:14.205Z"
   },
   {
    "duration": 14,
    "start_time": "2022-03-28T17:53:14.220Z"
   },
   {
    "duration": 7,
    "start_time": "2022-03-28T17:53:14.240Z"
   },
   {
    "duration": 38,
    "start_time": "2022-03-28T17:53:14.249Z"
   },
   {
    "duration": 12,
    "start_time": "2022-03-28T17:53:14.290Z"
   },
   {
    "duration": 16,
    "start_time": "2022-03-28T17:53:14.304Z"
   },
   {
    "duration": 8,
    "start_time": "2022-03-28T17:53:14.322Z"
   },
   {
    "duration": 55,
    "start_time": "2022-03-28T17:53:14.332Z"
   },
   {
    "duration": 5,
    "start_time": "2022-03-28T17:53:14.389Z"
   },
   {
    "duration": 28,
    "start_time": "2022-03-28T17:53:14.396Z"
   },
   {
    "duration": 56,
    "start_time": "2022-03-28T17:53:14.426Z"
   },
   {
    "duration": 14,
    "start_time": "2022-03-28T17:53:14.484Z"
   },
   {
    "duration": 20,
    "start_time": "2022-03-28T17:53:14.499Z"
   },
   {
    "duration": 21,
    "start_time": "2022-03-28T17:53:14.521Z"
   },
   {
    "duration": 38,
    "start_time": "2022-03-28T17:53:14.544Z"
   },
   {
    "duration": 13,
    "start_time": "2022-03-28T17:53:14.584Z"
   },
   {
    "duration": 29,
    "start_time": "2022-03-28T17:53:14.599Z"
   },
   {
    "duration": 10,
    "start_time": "2022-03-28T17:53:14.630Z"
   },
   {
    "duration": 46,
    "start_time": "2022-03-28T17:53:14.642Z"
   },
   {
    "duration": 26,
    "start_time": "2022-03-28T17:53:14.690Z"
   },
   {
    "duration": 9,
    "start_time": "2022-03-28T17:53:14.719Z"
   },
   {
    "duration": 14,
    "start_time": "2022-03-28T17:53:14.730Z"
   },
   {
    "duration": 401,
    "start_time": "2022-03-28T19:46:40.650Z"
   },
   {
    "duration": 76,
    "start_time": "2022-03-28T19:46:41.053Z"
   },
   {
    "duration": 13,
    "start_time": "2022-03-28T19:46:41.131Z"
   },
   {
    "duration": 10,
    "start_time": "2022-03-28T19:46:41.162Z"
   },
   {
    "duration": 5,
    "start_time": "2022-03-28T19:46:41.174Z"
   },
   {
    "duration": 6,
    "start_time": "2022-03-28T19:46:41.180Z"
   },
   {
    "duration": 4,
    "start_time": "2022-03-28T19:46:41.187Z"
   },
   {
    "duration": 6,
    "start_time": "2022-03-28T19:46:41.192Z"
   },
   {
    "duration": 10,
    "start_time": "2022-03-28T19:46:41.199Z"
   },
   {
    "duration": 13,
    "start_time": "2022-03-28T19:46:41.212Z"
   },
   {
    "duration": 45,
    "start_time": "2022-03-28T19:46:41.226Z"
   },
   {
    "duration": 11,
    "start_time": "2022-03-28T19:46:41.273Z"
   },
   {
    "duration": 11,
    "start_time": "2022-03-28T19:46:41.286Z"
   },
   {
    "duration": 7,
    "start_time": "2022-03-28T19:46:41.299Z"
   },
   {
    "duration": 5,
    "start_time": "2022-03-28T19:46:41.307Z"
   },
   {
    "duration": 10,
    "start_time": "2022-03-28T19:46:41.313Z"
   },
   {
    "duration": 40,
    "start_time": "2022-03-28T19:46:41.324Z"
   },
   {
    "duration": 7,
    "start_time": "2022-03-28T19:46:41.366Z"
   },
   {
    "duration": 9,
    "start_time": "2022-03-28T19:46:41.375Z"
   },
   {
    "duration": 9,
    "start_time": "2022-03-28T19:46:41.386Z"
   },
   {
    "duration": 10,
    "start_time": "2022-03-28T19:46:41.396Z"
   },
   {
    "duration": 7,
    "start_time": "2022-03-28T19:46:41.407Z"
   },
   {
    "duration": 3,
    "start_time": "2022-03-28T19:46:41.415Z"
   },
   {
    "duration": 5,
    "start_time": "2022-03-28T19:46:41.419Z"
   },
   {
    "duration": 8,
    "start_time": "2022-03-28T19:46:41.425Z"
   },
   {
    "duration": 39,
    "start_time": "2022-03-28T19:46:41.434Z"
   },
   {
    "duration": 7,
    "start_time": "2022-03-28T19:46:41.474Z"
   },
   {
    "duration": 8,
    "start_time": "2022-03-28T19:46:41.636Z"
   },
   {
    "duration": 5,
    "start_time": "2022-03-28T19:46:41.646Z"
   },
   {
    "duration": 11,
    "start_time": "2022-03-28T19:46:41.652Z"
   },
   {
    "duration": 7,
    "start_time": "2022-03-28T19:46:41.665Z"
   },
   {
    "duration": 10,
    "start_time": "2022-03-28T19:46:41.673Z"
   },
   {
    "duration": 4,
    "start_time": "2022-03-28T19:46:41.685Z"
   },
   {
    "duration": 17,
    "start_time": "2022-03-28T19:46:41.713Z"
   },
   {
    "duration": 4,
    "start_time": "2022-03-28T19:46:41.731Z"
   },
   {
    "duration": 22,
    "start_time": "2022-03-28T19:46:41.737Z"
   },
   {
    "duration": 20,
    "start_time": "2022-03-28T19:46:41.760Z"
   },
   {
    "duration": 8,
    "start_time": "2022-03-28T19:46:41.782Z"
   },
   {
    "duration": 13,
    "start_time": "2022-03-28T19:46:41.792Z"
   },
   {
    "duration": 13,
    "start_time": "2022-03-28T19:46:41.828Z"
   },
   {
    "duration": 6,
    "start_time": "2022-03-28T19:46:41.842Z"
   },
   {
    "duration": 16,
    "start_time": "2022-03-28T19:46:41.850Z"
   },
   {
    "duration": 24,
    "start_time": "2022-03-28T19:46:41.868Z"
   },
   {
    "duration": 9,
    "start_time": "2022-03-28T19:46:41.894Z"
   },
   {
    "duration": 7,
    "start_time": "2022-03-28T19:46:42.138Z"
   },
   {
    "duration": 16,
    "start_time": "2022-03-28T19:46:42.156Z"
   },
   {
    "duration": 7,
    "start_time": "2022-03-28T19:46:43.104Z"
   },
   {
    "duration": 9,
    "start_time": "2022-03-28T19:46:43.113Z"
   },
   {
    "duration": 70,
    "start_time": "2022-03-29T05:46:55.715Z"
   },
   {
    "duration": 504,
    "start_time": "2022-03-29T05:47:02.712Z"
   },
   {
    "duration": 115,
    "start_time": "2022-03-29T05:47:03.220Z"
   },
   {
    "duration": 22,
    "start_time": "2022-03-29T05:47:03.338Z"
   },
   {
    "duration": 16,
    "start_time": "2022-03-29T05:47:03.376Z"
   },
   {
    "duration": 18,
    "start_time": "2022-03-29T05:47:03.395Z"
   },
   {
    "duration": 13,
    "start_time": "2022-03-29T05:47:03.415Z"
   },
   {
    "duration": 17,
    "start_time": "2022-03-29T05:47:03.430Z"
   },
   {
    "duration": 25,
    "start_time": "2022-03-29T05:47:03.449Z"
   },
   {
    "duration": 25,
    "start_time": "2022-03-29T05:47:03.476Z"
   },
   {
    "duration": 21,
    "start_time": "2022-03-29T05:47:03.505Z"
   },
   {
    "duration": 24,
    "start_time": "2022-03-29T05:47:03.529Z"
   },
   {
    "duration": 29,
    "start_time": "2022-03-29T05:47:03.555Z"
   },
   {
    "duration": 16,
    "start_time": "2022-03-29T05:47:03.586Z"
   },
   {
    "duration": 33,
    "start_time": "2022-03-29T05:47:03.604Z"
   },
   {
    "duration": 13,
    "start_time": "2022-03-29T05:47:03.639Z"
   },
   {
    "duration": 12,
    "start_time": "2022-03-29T05:47:03.655Z"
   },
   {
    "duration": 21,
    "start_time": "2022-03-29T05:47:03.673Z"
   },
   {
    "duration": 24,
    "start_time": "2022-03-29T05:47:03.696Z"
   },
   {
    "duration": 14,
    "start_time": "2022-03-29T05:47:03.723Z"
   },
   {
    "duration": 25,
    "start_time": "2022-03-29T05:47:03.739Z"
   },
   {
    "duration": 19,
    "start_time": "2022-03-29T05:47:03.766Z"
   },
   {
    "duration": 30,
    "start_time": "2022-03-29T05:47:03.787Z"
   },
   {
    "duration": 17,
    "start_time": "2022-03-29T05:47:03.819Z"
   },
   {
    "duration": 16,
    "start_time": "2022-03-29T05:47:03.838Z"
   },
   {
    "duration": 26,
    "start_time": "2022-03-29T05:47:03.856Z"
   },
   {
    "duration": 27,
    "start_time": "2022-03-29T05:47:03.883Z"
   },
   {
    "duration": 29,
    "start_time": "2022-03-29T05:47:03.912Z"
   },
   {
    "duration": 29,
    "start_time": "2022-03-29T05:47:03.946Z"
   },
   {
    "duration": 32,
    "start_time": "2022-03-29T05:47:03.977Z"
   },
   {
    "duration": 14,
    "start_time": "2022-03-29T05:47:04.011Z"
   },
   {
    "duration": 32,
    "start_time": "2022-03-29T05:47:04.027Z"
   },
   {
    "duration": 11,
    "start_time": "2022-03-29T05:47:04.061Z"
   },
   {
    "duration": 15,
    "start_time": "2022-03-29T05:47:04.075Z"
   },
   {
    "duration": 5,
    "start_time": "2022-03-29T05:47:04.093Z"
   },
   {
    "duration": 32,
    "start_time": "2022-03-29T05:47:04.099Z"
   },
   {
    "duration": 5,
    "start_time": "2022-03-29T05:47:04.134Z"
   },
   {
    "duration": 56,
    "start_time": "2022-03-29T05:47:04.141Z"
   },
   {
    "duration": 35,
    "start_time": "2022-03-29T05:47:04.199Z"
   },
   {
    "duration": 13,
    "start_time": "2022-03-29T05:47:04.236Z"
   },
   {
    "duration": 14,
    "start_time": "2022-03-29T05:47:04.276Z"
   },
   {
    "duration": 27,
    "start_time": "2022-03-29T05:47:04.292Z"
   },
   {
    "duration": 11,
    "start_time": "2022-03-29T05:47:04.321Z"
   },
   {
    "duration": 48,
    "start_time": "2022-03-29T05:47:04.334Z"
   },
   {
    "duration": 27,
    "start_time": "2022-03-29T05:47:04.384Z"
   },
   {
    "duration": 11,
    "start_time": "2022-03-29T05:47:04.413Z"
   },
   {
    "duration": 15,
    "start_time": "2022-03-29T05:47:04.426Z"
   },
   {
    "duration": 27,
    "start_time": "2022-03-29T05:47:04.474Z"
   },
   {
    "duration": 12,
    "start_time": "2022-03-29T05:47:04.503Z"
   },
   {
    "duration": 12,
    "start_time": "2022-03-29T05:47:04.518Z"
   },
   {
    "duration": 1520,
    "start_time": "2022-03-29T06:08:43.715Z"
   },
   {
    "duration": 1319,
    "start_time": "2022-03-29T06:08:46.266Z"
   },
   {
    "duration": 3,
    "start_time": "2022-03-29T06:08:53.322Z"
   },
   {
    "duration": 97,
    "start_time": "2022-03-29T06:08:53.327Z"
   },
   {
    "duration": 52,
    "start_time": "2022-03-29T06:08:53.427Z"
   },
   {
    "duration": 13,
    "start_time": "2022-03-29T06:08:53.481Z"
   },
   {
    "duration": 6,
    "start_time": "2022-03-29T06:08:53.497Z"
   },
   {
    "duration": 8,
    "start_time": "2022-03-29T06:08:53.505Z"
   },
   {
    "duration": 6,
    "start_time": "2022-03-29T06:08:53.515Z"
   },
   {
    "duration": 52,
    "start_time": "2022-03-29T06:08:53.523Z"
   },
   {
    "duration": 4,
    "start_time": "2022-03-29T06:08:53.577Z"
   },
   {
    "duration": 18,
    "start_time": "2022-03-29T06:08:53.583Z"
   },
   {
    "duration": 21,
    "start_time": "2022-03-29T06:08:53.604Z"
   },
   {
    "duration": 15,
    "start_time": "2022-03-29T06:08:53.627Z"
   },
   {
    "duration": 41,
    "start_time": "2022-03-29T06:08:53.644Z"
   },
   {
    "duration": 23,
    "start_time": "2022-03-29T06:08:53.687Z"
   },
   {
    "duration": 11,
    "start_time": "2022-03-29T06:08:53.712Z"
   },
   {
    "duration": 4,
    "start_time": "2022-03-29T06:08:53.726Z"
   },
   {
    "duration": 8,
    "start_time": "2022-03-29T06:08:53.732Z"
   },
   {
    "duration": 21,
    "start_time": "2022-03-29T06:08:53.774Z"
   },
   {
    "duration": 9,
    "start_time": "2022-03-29T06:08:53.797Z"
   },
   {
    "duration": 11,
    "start_time": "2022-03-29T06:08:53.808Z"
   },
   {
    "duration": 10,
    "start_time": "2022-03-29T06:08:53.821Z"
   },
   {
    "duration": 42,
    "start_time": "2022-03-29T06:08:53.833Z"
   },
   {
    "duration": 13,
    "start_time": "2022-03-29T06:08:53.878Z"
   },
   {
    "duration": 17,
    "start_time": "2022-03-29T06:08:53.893Z"
   },
   {
    "duration": 13,
    "start_time": "2022-03-29T06:08:53.912Z"
   },
   {
    "duration": 46,
    "start_time": "2022-03-29T06:08:53.928Z"
   },
   {
    "duration": 13,
    "start_time": "2022-03-29T06:08:53.976Z"
   },
   {
    "duration": 17,
    "start_time": "2022-03-29T06:08:53.991Z"
   },
   {
    "duration": 5,
    "start_time": "2022-03-29T06:08:54.013Z"
   },
   {
    "duration": 64,
    "start_time": "2022-03-29T06:08:54.020Z"
   },
   {
    "duration": 6,
    "start_time": "2022-03-29T06:08:54.087Z"
   },
   {
    "duration": 28,
    "start_time": "2022-03-29T06:08:54.095Z"
   },
   {
    "duration": 61,
    "start_time": "2022-03-29T06:08:54.125Z"
   },
   {
    "duration": 14,
    "start_time": "2022-03-29T06:08:54.188Z"
   },
   {
    "duration": 18,
    "start_time": "2022-03-29T06:08:54.204Z"
   },
   {
    "duration": 51,
    "start_time": "2022-03-29T06:08:54.224Z"
   },
   {
    "duration": 12,
    "start_time": "2022-03-29T06:08:54.278Z"
   },
   {
    "duration": 13,
    "start_time": "2022-03-29T06:08:54.292Z"
   },
   {
    "duration": 26,
    "start_time": "2022-03-29T06:08:54.307Z"
   },
   {
    "duration": 46,
    "start_time": "2022-03-29T06:08:54.336Z"
   },
   {
    "duration": 14,
    "start_time": "2022-03-29T06:08:54.384Z"
   },
   {
    "duration": 26,
    "start_time": "2022-03-29T06:08:54.400Z"
   },
   {
    "duration": 45,
    "start_time": "2022-03-29T06:08:54.429Z"
   },
   {
    "duration": 12,
    "start_time": "2022-03-29T06:08:54.476Z"
   },
   {
    "duration": 529,
    "start_time": "2022-03-29T06:09:07.728Z"
   },
   {
    "duration": 104,
    "start_time": "2022-03-29T06:09:08.259Z"
   },
   {
    "duration": 25,
    "start_time": "2022-03-29T06:09:08.365Z"
   },
   {
    "duration": 13,
    "start_time": "2022-03-29T06:09:08.393Z"
   },
   {
    "duration": 6,
    "start_time": "2022-03-29T06:09:08.409Z"
   },
   {
    "duration": 9,
    "start_time": "2022-03-29T06:09:08.417Z"
   },
   {
    "duration": 47,
    "start_time": "2022-03-29T06:09:08.428Z"
   },
   {
    "duration": 4,
    "start_time": "2022-03-29T06:09:08.477Z"
   },
   {
    "duration": 8,
    "start_time": "2022-03-29T06:09:08.483Z"
   },
   {
    "duration": 19,
    "start_time": "2022-03-29T06:09:08.495Z"
   },
   {
    "duration": 22,
    "start_time": "2022-03-29T06:09:08.517Z"
   },
   {
    "duration": 16,
    "start_time": "2022-03-29T06:09:08.573Z"
   },
   {
    "duration": 14,
    "start_time": "2022-03-29T06:09:08.591Z"
   },
   {
    "duration": 21,
    "start_time": "2022-03-29T06:09:08.607Z"
   },
   {
    "duration": 9,
    "start_time": "2022-03-29T06:09:08.630Z"
   },
   {
    "duration": 33,
    "start_time": "2022-03-29T06:09:08.641Z"
   },
   {
    "duration": 7,
    "start_time": "2022-03-29T06:09:08.676Z"
   },
   {
    "duration": 30,
    "start_time": "2022-03-29T06:09:08.685Z"
   },
   {
    "duration": 9,
    "start_time": "2022-03-29T06:09:08.718Z"
   },
   {
    "duration": 12,
    "start_time": "2022-03-29T06:09:08.729Z"
   },
   {
    "duration": 35,
    "start_time": "2022-03-29T06:09:08.743Z"
   },
   {
    "duration": 11,
    "start_time": "2022-03-29T06:09:08.780Z"
   },
   {
    "duration": 12,
    "start_time": "2022-03-29T06:09:08.793Z"
   },
   {
    "duration": 17,
    "start_time": "2022-03-29T06:09:08.807Z"
   },
   {
    "duration": 8,
    "start_time": "2022-03-29T06:09:08.826Z"
   },
   {
    "duration": 43,
    "start_time": "2022-03-29T06:09:08.836Z"
   },
   {
    "duration": 12,
    "start_time": "2022-03-29T06:09:08.881Z"
   },
   {
    "duration": 17,
    "start_time": "2022-03-29T06:09:08.898Z"
   },
   {
    "duration": 5,
    "start_time": "2022-03-29T06:09:08.917Z"
   },
   {
    "duration": 73,
    "start_time": "2022-03-29T06:09:08.924Z"
   },
   {
    "duration": 4,
    "start_time": "2022-03-29T06:09:08.999Z"
   },
   {
    "duration": 27,
    "start_time": "2022-03-29T06:09:09.005Z"
   },
   {
    "duration": 52,
    "start_time": "2022-03-29T06:09:09.034Z"
   },
   {
    "duration": 13,
    "start_time": "2022-03-29T06:09:09.088Z"
   },
   {
    "duration": 15,
    "start_time": "2022-03-29T06:09:09.103Z"
   },
   {
    "duration": 24,
    "start_time": "2022-03-29T06:09:09.120Z"
   },
   {
    "duration": 10,
    "start_time": "2022-03-29T06:09:09.175Z"
   },
   {
    "duration": 13,
    "start_time": "2022-03-29T06:09:09.188Z"
   },
   {
    "duration": 27,
    "start_time": "2022-03-29T06:09:09.203Z"
   },
   {
    "duration": 10,
    "start_time": "2022-03-29T06:09:09.233Z"
   },
   {
    "duration": 38,
    "start_time": "2022-03-29T06:09:09.245Z"
   },
   {
    "duration": 27,
    "start_time": "2022-03-29T06:09:09.285Z"
   },
   {
    "duration": 10,
    "start_time": "2022-03-29T06:09:09.314Z"
   },
   {
    "duration": 51,
    "start_time": "2022-03-29T06:09:09.327Z"
   }
  ],
  "kernelspec": {
   "display_name": "Python 3 (ipykernel)",
   "language": "python",
   "name": "python3"
  },
  "language_info": {
   "codemirror_mode": {
    "name": "ipython",
    "version": 3
   },
   "file_extension": ".py",
   "mimetype": "text/x-python",
   "name": "python",
   "nbconvert_exporter": "python",
   "pygments_lexer": "ipython3",
   "version": "3.9.7"
  },
  "toc": {
   "base_numbering": 1,
   "nav_menu": {},
   "number_sections": true,
   "sideBar": true,
   "skip_h1_title": true,
   "title_cell": "Table of Contents",
   "title_sidebar": "Contents",
   "toc_cell": false,
   "toc_position": {},
   "toc_section_display": true,
   "toc_window_display": false
  }
 },
 "nbformat": 4,
 "nbformat_minor": 5
}
