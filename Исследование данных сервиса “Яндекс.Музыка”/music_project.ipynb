{
 "cells": [
  {
   "cell_type": "markdown",
   "metadata": {
    "id": "E0vqbgi9ay0H"
   },
   "source": [
    "# Яндекс.Музыка"
   ]
  },
  {
   "cell_type": "markdown",
   "metadata": {
    "id": "VUC88oWjTJw2"
   },
   "source": [
    "Сравнение Москвы и Петербурга окружено мифами. Например:\n",
    " * Москва — мегаполис, подчинённый жёсткому ритму рабочей недели;\n",
    " * Петербург — культурная столица, со своими вкусами.\n",
    "\n",
    "На данных Яндекс.Музыки мы сравним поведение пользователей двух столиц.\n",
    "\n",
    "**Цель исследования** — проверить три гипотезы:\n",
    "1. Активность пользователей зависит от дня недели. Причём в Москве и Петербурге это проявляется по-разному.\n",
    "2. В понедельник утром в Москве преобладают одни жанры, а в Петербурге — другие. Так же и вечером пятницы преобладают разные жанры — в зависимости от города. \n",
    "3. Москва и Петербург предпочитают разные жанры музыки. В Москве чаще слушают поп-музыку, в Петербурге — русский рэп.\n",
    "\n",
    "**Ход исследования**\n",
    "\n",
    "Данные о поведении пользователей мы получим из файла `yandex_music_project.csv`. О качестве данных ничего не известно. Поэтому перед проверкой гипотез понадобится обзор данных. \n",
    "\n",
    "мы проверим данные на ошибки и оцените их влияние на исследование. Затем, на этапе предобработки поищем возможность исправить самые критичные ошибки данных.\n",
    " \n",
    "Таким образом, исследование пройдёт в три этапа:\n",
    " 1. Обзор данных.\n",
    " 2. Предобработка данных.\n",
    " 3. Проверка гипотез.\n",
    "\n"
   ]
  },
  {
   "cell_type": "markdown",
   "metadata": {
    "id": "Ml1hmfXC_Zcs"
   },
   "source": [
    "## Обзор данных\n",
    "\n",
    "Составим первое представление о данных Яндекс.Музыки.\n",
    "\n",
    "\n"
   ]
  },
  {
   "cell_type": "code",
   "execution_count": 1,
   "metadata": {
    "id": "AXN7PHPN_Zcs"
   },
   "outputs": [],
   "source": [
    " import pandas as pd# импорт библиотеки pandas"
   ]
  },
  {
   "cell_type": "code",
   "execution_count": 2,
   "metadata": {},
   "outputs": [],
   "source": [
    "try:\n",
    "    df= pd.read_csv( r'D:\\Проекты яндекс-практикума\\yandex_music_project.csv')\n",
    "except:\n",
    "    df = pd.read_csv('/datasets/yandex_music_project.csv')  # Серверный путь"
   ]
  },
  {
   "cell_type": "code",
   "execution_count": 3,
   "metadata": {
    "id": "fFVu7vqh_Zct"
   },
   "outputs": [],
   "source": [
    "#df = pd.read_csv('/datasets/yandex_music_project.csv')# чтение файла с данными и сохранение в df"
   ]
  },
  {
   "cell_type": "code",
   "execution_count": 4,
   "metadata": {
    "id": "oWTVX3gW_Zct"
   },
   "outputs": [
    {
     "data": {
      "text/html": [
       "<div>\n",
       "<style scoped>\n",
       "    .dataframe tbody tr th:only-of-type {\n",
       "        vertical-align: middle;\n",
       "    }\n",
       "\n",
       "    .dataframe tbody tr th {\n",
       "        vertical-align: top;\n",
       "    }\n",
       "\n",
       "    .dataframe thead th {\n",
       "        text-align: right;\n",
       "    }\n",
       "</style>\n",
       "<table border=\"1\" class=\"dataframe\">\n",
       "  <thead>\n",
       "    <tr style=\"text-align: right;\">\n",
       "      <th></th>\n",
       "      <th>userID</th>\n",
       "      <th>Track</th>\n",
       "      <th>artist</th>\n",
       "      <th>genre</th>\n",
       "      <th>City</th>\n",
       "      <th>time</th>\n",
       "      <th>Day</th>\n",
       "    </tr>\n",
       "  </thead>\n",
       "  <tbody>\n",
       "    <tr>\n",
       "      <th>0</th>\n",
       "      <td>FFB692EC</td>\n",
       "      <td>Kamigata To Boots</td>\n",
       "      <td>The Mass Missile</td>\n",
       "      <td>rock</td>\n",
       "      <td>Saint-Petersburg</td>\n",
       "      <td>20:28:33</td>\n",
       "      <td>Wednesday</td>\n",
       "    </tr>\n",
       "    <tr>\n",
       "      <th>1</th>\n",
       "      <td>55204538</td>\n",
       "      <td>Delayed Because of Accident</td>\n",
       "      <td>Andreas Rönnberg</td>\n",
       "      <td>rock</td>\n",
       "      <td>Moscow</td>\n",
       "      <td>14:07:09</td>\n",
       "      <td>Friday</td>\n",
       "    </tr>\n",
       "    <tr>\n",
       "      <th>2</th>\n",
       "      <td>20EC38</td>\n",
       "      <td>Funiculì funiculà</td>\n",
       "      <td>Mario Lanza</td>\n",
       "      <td>pop</td>\n",
       "      <td>Saint-Petersburg</td>\n",
       "      <td>20:58:07</td>\n",
       "      <td>Wednesday</td>\n",
       "    </tr>\n",
       "    <tr>\n",
       "      <th>3</th>\n",
       "      <td>A3DD03C9</td>\n",
       "      <td>Dragons in the Sunset</td>\n",
       "      <td>Fire + Ice</td>\n",
       "      <td>folk</td>\n",
       "      <td>Saint-Petersburg</td>\n",
       "      <td>08:37:09</td>\n",
       "      <td>Monday</td>\n",
       "    </tr>\n",
       "    <tr>\n",
       "      <th>4</th>\n",
       "      <td>E2DC1FAE</td>\n",
       "      <td>Soul People</td>\n",
       "      <td>Space Echo</td>\n",
       "      <td>dance</td>\n",
       "      <td>Moscow</td>\n",
       "      <td>08:34:34</td>\n",
       "      <td>Monday</td>\n",
       "    </tr>\n",
       "    <tr>\n",
       "      <th>5</th>\n",
       "      <td>842029A1</td>\n",
       "      <td>Преданная</td>\n",
       "      <td>IMPERVTOR</td>\n",
       "      <td>rusrap</td>\n",
       "      <td>Saint-Petersburg</td>\n",
       "      <td>13:09:41</td>\n",
       "      <td>Friday</td>\n",
       "    </tr>\n",
       "    <tr>\n",
       "      <th>6</th>\n",
       "      <td>4CB90AA5</td>\n",
       "      <td>True</td>\n",
       "      <td>Roman Messer</td>\n",
       "      <td>dance</td>\n",
       "      <td>Moscow</td>\n",
       "      <td>13:00:07</td>\n",
       "      <td>Wednesday</td>\n",
       "    </tr>\n",
       "    <tr>\n",
       "      <th>7</th>\n",
       "      <td>F03E1C1F</td>\n",
       "      <td>Feeling This Way</td>\n",
       "      <td>Polina Griffith</td>\n",
       "      <td>dance</td>\n",
       "      <td>Moscow</td>\n",
       "      <td>20:47:49</td>\n",
       "      <td>Wednesday</td>\n",
       "    </tr>\n",
       "    <tr>\n",
       "      <th>8</th>\n",
       "      <td>8FA1D3BE</td>\n",
       "      <td>И вновь продолжается бой</td>\n",
       "      <td>NaN</td>\n",
       "      <td>ruspop</td>\n",
       "      <td>Moscow</td>\n",
       "      <td>09:17:40</td>\n",
       "      <td>Friday</td>\n",
       "    </tr>\n",
       "    <tr>\n",
       "      <th>9</th>\n",
       "      <td>E772D5C0</td>\n",
       "      <td>Pessimist</td>\n",
       "      <td>NaN</td>\n",
       "      <td>dance</td>\n",
       "      <td>Saint-Petersburg</td>\n",
       "      <td>21:20:49</td>\n",
       "      <td>Wednesday</td>\n",
       "    </tr>\n",
       "  </tbody>\n",
       "</table>\n",
       "</div>"
      ],
      "text/plain": [
       "     userID                        Track            artist   genre  \\\n",
       "0  FFB692EC            Kamigata To Boots  The Mass Missile    rock   \n",
       "1  55204538  Delayed Because of Accident  Andreas Rönnberg    rock   \n",
       "2    20EC38            Funiculì funiculà       Mario Lanza     pop   \n",
       "3  A3DD03C9        Dragons in the Sunset        Fire + Ice    folk   \n",
       "4  E2DC1FAE                  Soul People        Space Echo   dance   \n",
       "5  842029A1                    Преданная         IMPERVTOR  rusrap   \n",
       "6  4CB90AA5                         True      Roman Messer   dance   \n",
       "7  F03E1C1F             Feeling This Way   Polina Griffith   dance   \n",
       "8  8FA1D3BE     И вновь продолжается бой               NaN  ruspop   \n",
       "9  E772D5C0                    Pessimist               NaN   dance   \n",
       "\n",
       "             City        time        Day  \n",
       "0  Saint-Petersburg  20:28:33  Wednesday  \n",
       "1            Moscow  14:07:09     Friday  \n",
       "2  Saint-Petersburg  20:58:07  Wednesday  \n",
       "3  Saint-Petersburg  08:37:09     Monday  \n",
       "4            Moscow  08:34:34     Monday  \n",
       "5  Saint-Petersburg  13:09:41     Friday  \n",
       "6            Moscow  13:00:07  Wednesday  \n",
       "7            Moscow  20:47:49  Wednesday  \n",
       "8            Moscow  09:17:40     Friday  \n",
       "9  Saint-Petersburg  21:20:49  Wednesday  "
      ]
     },
     "execution_count": 4,
     "metadata": {},
     "output_type": "execute_result"
    }
   ],
   "source": [
    "df.head(10) #получение первых 10 строк таблицы df"
   ]
  },
  {
   "cell_type": "code",
   "execution_count": 5,
   "metadata": {
    "id": "DSf2kIb-_Zct"
   },
   "outputs": [
    {
     "name": "stdout",
     "output_type": "stream",
     "text": [
      "<class 'pandas.core.frame.DataFrame'>\n",
      "RangeIndex: 65079 entries, 0 to 65078\n",
      "Data columns (total 7 columns):\n",
      " #   Column    Non-Null Count  Dtype \n",
      "---  ------    --------------  ----- \n",
      " 0     userID  65079 non-null  object\n",
      " 1   Track     63848 non-null  object\n",
      " 2   artist    57876 non-null  object\n",
      " 3   genre     63881 non-null  object\n",
      " 4     City    65079 non-null  object\n",
      " 5   time      65079 non-null  object\n",
      " 6   Day       65079 non-null  object\n",
      "dtypes: object(7)\n",
      "memory usage: 3.5+ MB\n"
     ]
    }
   ],
   "source": [
    "df.info()# получение общей информации о данных в таблице df"
   ]
  },
  {
   "cell_type": "markdown",
   "metadata": {
    "id": "TaQ2Iwbr_Zct"
   },
   "source": [
    "Итак, в таблице семь столбцов. Тип данных во всех столбцах — `object`.\n",
    "\n",
    "Согласно документации к данным:\n",
    "* `userID` — идентификатор пользователя;\n",
    "* `Track` — название трека;  \n",
    "* `artist` — имя исполнителя;\n",
    "* `genre` — название жанра;\n",
    "* `City` — город пользователя;\n",
    "* `time` — время начала прослушивания;\n",
    "* `Day` — день недели.\n",
    "\n",
    "В названиях колонок видны три нарушения стиля:\n",
    "1. Строчные буквы сочетаются с прописными.\n",
    "2. Встречаются пробелы.\n",
    "3. Найдите ещё одну проблему в названии колонок и опишите её в этом пункте.\n",
    "\n",
    "\n",
    "\n",
    "Количество значений в столбцах различается. Значит, в данных есть пропущенные значения.\n"
   ]
  },
  {
   "cell_type": "markdown",
   "metadata": {
    "id": "MCB6-dXG_Zct"
   },
   "source": [
    "**Выводы**\n",
    "\n",
    "В каждой строке таблицы — данные о прослушанном треке. Часть колонок описывает саму композицию: название, исполнителя и жанр. Остальные данные рассказывают о пользователе: из какого он города, когда он слушал музыку. \n",
    "\n",
    "Предварительно можно утверждать, что, данных достаточно для проверки гипотез. Но встречаются пропуски в данных, а в названиях колонок — расхождения с хорошим стилем.\n",
    "\n",
    "Чтобы двигаться дальше, нужно устранить проблемы в данных."
   ]
  },
  {
   "cell_type": "markdown",
   "metadata": {
    "id": "SjYF6Ub9_Zct"
   },
   "source": [
    "## Предобработка данных\n"
   ]
  },
  {
   "cell_type": "markdown",
   "metadata": {
    "id": "dIaKXr29_Zct"
   },
   "source": [
    "### Стиль заголовков\n"
   ]
  },
  {
   "cell_type": "code",
   "execution_count": 6,
   "metadata": {
    "id": "oKOTdF_Q_Zct"
   },
   "outputs": [
    {
     "data": {
      "text/plain": [
       "Index(['  userID', 'Track', 'artist', 'genre', '  City  ', 'time', 'Day'], dtype='object')"
      ]
     },
     "execution_count": 6,
     "metadata": {},
     "output_type": "execute_result"
    }
   ],
   "source": [
    "df.columns# перечень названий столбцов таблицы df"
   ]
  },
  {
   "cell_type": "code",
   "execution_count": 7,
   "metadata": {
    "id": "ISlFqs5y_Zct"
   },
   "outputs": [],
   "source": [
    "df = df.rename(columns = {'  userID':'user_id', 'Track':'track', '  City  ':'city', 'Day':'day'})# переименование столбцов"
   ]
  },
  {
   "cell_type": "code",
   "execution_count": 8,
   "metadata": {
    "id": "d4NOAmTW_Zct"
   },
   "outputs": [
    {
     "data": {
      "text/plain": [
       "Index(['user_id', 'track', 'artist', 'genre', 'city', 'time', 'day'], dtype='object')"
      ]
     },
     "execution_count": 8,
     "metadata": {},
     "output_type": "execute_result"
    }
   ],
   "source": [
    "df.columns# проверка результатов - перечень названий столбцов"
   ]
  },
  {
   "cell_type": "markdown",
   "metadata": {
    "id": "5ISfbcfY_Zct"
   },
   "source": [
    "### Пропуски значений\n"
   ]
  },
  {
   "cell_type": "code",
   "execution_count": 9,
   "metadata": {
    "id": "RskX29qr_Zct"
   },
   "outputs": [
    {
     "data": {
      "text/plain": [
       "user_id       0\n",
       "track      1231\n",
       "artist     7203\n",
       "genre      1198\n",
       "city          0\n",
       "time          0\n",
       "day           0\n",
       "dtype: int64"
      ]
     },
     "execution_count": 9,
     "metadata": {},
     "output_type": "execute_result"
    }
   ],
   "source": [
    "df.isna().sum()# подсчёт пропусков"
   ]
  },
  {
   "cell_type": "markdown",
   "metadata": {
    "id": "qubhgnlO_Zct"
   },
   "source": [
    "Не все пропущенные значения влияют на исследование. Так в `track` и `artist` пропуски не важны для работы. Достаточно заменить их явными обозначениями.\n",
    "\n",
    "Но пропуски в `genre` могут помешать сравнению музыкальных вкусов в Москве и Санкт-Петербурге. На практике было бы правильно установить причину пропусков и восстановить данные. Такой возможности нет в учебном проекте. Придётся:\n",
    "* заполнить и эти пропуски явными обозначениями,\n",
    "* оценить, насколько они повредят расчётам. "
   ]
  },
  {
   "cell_type": "markdown",
   "metadata": {
    "id": "fSv2laPA_Zct"
   },
   "source": [
    "Заменим пропущенные значения в столбцах `track`, `artist` и `genre` на строку `'unknown'`. Для этого создадим список `columns_to_replace`, переберем его элементы циклом `for` и для каждого столбца выполните замену пропущенных значений:"
   ]
  },
  {
   "cell_type": "code",
   "execution_count": 10,
   "metadata": {
    "id": "KplB5qWs_Zct"
   },
   "outputs": [],
   "source": [
    "columns_to_replace = ['track', 'artist', 'genre']\n",
    "\n",
    "for column in columns_to_replace:\n",
    "    df[column]=df[column].fillna('unknown')\n",
    "\n",
    "\n",
    "\n",
    "# перебор названий столбцов в цикле и замена пропущенных значений на 'unknown'"
   ]
  },
  {
   "cell_type": "code",
   "execution_count": 11,
   "metadata": {
    "id": "Tq4nYRX4_Zct",
    "scrolled": true
   },
   "outputs": [
    {
     "data": {
      "text/plain": [
       "user_id    0\n",
       "track      0\n",
       "artist     0\n",
       "genre      0\n",
       "city       0\n",
       "time       0\n",
       "day        0\n",
       "dtype: int64"
      ]
     },
     "execution_count": 11,
     "metadata": {},
     "output_type": "execute_result"
    }
   ],
   "source": [
    "df.isna().sum()# подсчёт пропусков"
   ]
  },
  {
   "cell_type": "markdown",
   "metadata": {
    "id": "BWKRtBJ3_Zct"
   },
   "source": [
    "### Дубликаты\n"
   ]
  },
  {
   "cell_type": "code",
   "execution_count": 12,
   "metadata": {
    "id": "36eES_S0_Zct",
    "scrolled": true
   },
   "outputs": [
    {
     "data": {
      "text/plain": [
       "3826"
      ]
     },
     "execution_count": 12,
     "metadata": {},
     "output_type": "execute_result"
    }
   ],
   "source": [
    "df.duplicated().sum()# подсчёт явных дубликатов"
   ]
  },
  {
   "cell_type": "code",
   "execution_count": 13,
   "metadata": {
    "id": "exFHq6tt_Zct"
   },
   "outputs": [],
   "source": [
    "df = df.drop_duplicates().reset_index(drop=True)# удаление явных дубликатов (с удалением старых индексов и формированием новых)"
   ]
  },
  {
   "cell_type": "code",
   "execution_count": 14,
   "metadata": {
    "id": "-8PuNWQ0_Zct"
   },
   "outputs": [
    {
     "data": {
      "text/plain": [
       "0"
      ]
     },
     "execution_count": 14,
     "metadata": {},
     "output_type": "execute_result"
    }
   ],
   "source": [
    "df.duplicated().sum()# проверка на отсутствие дубликатов"
   ]
  },
  {
   "cell_type": "code",
   "execution_count": 15,
   "metadata": {
    "id": "JIUcqzZN_Zct"
   },
   "outputs": [
    {
     "name": "stdout",
     "output_type": "stream",
     "text": [
      "['acid', 'acoustic', 'action', 'adult', 'africa', 'afrikaans', 'alternative', 'alternativepunk', 'ambient', 'americana', 'animated', 'anime', 'arabesk', 'arabic', 'arena', 'argentinetango', 'art', 'audiobook', 'author', 'avantgarde', 'axé', 'baile', 'balkan', 'beats', 'bigroom', 'black', 'bluegrass', 'blues', 'bollywood', 'bossa', 'brazilian', 'breakbeat', 'breaks', 'broadway', 'cantautori', 'cantopop', 'canzone', 'caribbean', 'caucasian', 'celtic', 'chamber', 'chanson', 'children', 'chill', 'chinese', 'choral', 'christian', 'christmas', 'classical', 'classicmetal', 'club', 'colombian', 'comedy', 'conjazz', 'contemporary', 'country', 'cuban', 'dance', 'dancehall', 'dancepop', 'dark', 'death', 'deep', 'deutschrock', 'deutschspr', 'dirty', 'disco', 'dnb', 'documentary', 'downbeat', 'downtempo', 'drum', 'dub', 'dubstep', 'eastern', 'easy', 'electronic', 'electropop', 'emo', 'entehno', 'epicmetal', 'estrada', 'ethnic', 'eurofolk', 'european', 'experimental', 'extrememetal', 'fado', 'fairytail', 'film', 'fitness', 'flamenco', 'folk', 'folklore', 'folkmetal', 'folkrock', 'folktronica', 'forró', 'frankreich', 'französisch', 'french', 'funk', 'future', 'gangsta', 'garage', 'german', 'ghazal', 'gitarre', 'glitch', 'gospel', 'gothic', 'grime', 'grunge', 'gypsy', 'handsup', \"hard'n'heavy\", 'hardcore', 'hardstyle', 'hardtechno', 'hip', 'hip-hop', 'hiphop', 'historisch', 'holiday', 'hop', 'horror', 'house', 'hymn', 'idm', 'independent', 'indian', 'indie', 'indipop', 'industrial', 'inspirational', 'instrumental', 'international', 'irish', 'jam', 'japanese', 'jazz', 'jewish', 'jpop', 'jungle', 'k-pop', 'karadeniz', 'karaoke', 'kayokyoku', 'korean', 'laiko', 'latin', 'latino', 'leftfield', 'local', 'lounge', 'loungeelectronic', 'lovers', 'malaysian', 'mandopop', 'marschmusik', 'meditative', 'mediterranean', 'melodic', 'metal', 'metalcore', 'mexican', 'middle', 'minimal', 'miscellaneous', 'modern', 'mood', 'mpb', 'muslim', 'native', 'neoklassik', 'neue', 'new', 'newage', 'newwave', 'nu', 'nujazz', 'numetal', 'oceania', 'old', 'opera', 'orchestral', 'other', 'piano', 'podcasts', 'pop', 'popdance', 'popelectronic', 'popeurodance', 'poprussian', 'post', 'posthardcore', 'postrock', 'power', 'progmetal', 'progressive', 'psychedelic', 'punjabi', 'punk', 'quebecois', 'ragga', 'ram', 'rancheras', 'rap', 'rave', 'reggae', 'reggaeton', 'regional', 'relax', 'religious', 'retro', 'rhythm', 'rnb', 'rnr', 'rock', 'rockabilly', 'rockalternative', 'rockindie', 'rockother', 'romance', 'roots', 'ruspop', 'rusrap', 'rusrock', 'russian', 'salsa', 'samba', 'scenic', 'schlager', 'self', 'sertanejo', 'shanson', 'shoegazing', 'showtunes', 'singer', 'ska', 'skarock', 'slow', 'smooth', 'soft', 'soul', 'soulful', 'sound', 'soundtrack', 'southern', 'specialty', 'speech', 'spiritual', 'sport', 'stonerrock', 'surf', 'swing', 'synthpop', 'synthrock', 'sängerportrait', 'tango', 'tanzorchester', 'taraftar', 'tatar', 'tech', 'techno', 'teen', 'thrash', 'top', 'traditional', 'tradjazz', 'trance', 'tribal', 'trip', 'triphop', 'tropical', 'türk', 'türkçe', 'ukrrock', 'unknown', 'urban', 'uzbek', 'variété', 'vi', 'videogame', 'vocal', 'western', 'world', 'worldbeat', 'ïîï', 'электроника']\n"
     ]
    }
   ],
   "source": [
    "print(sorted(df['genre'].unique()))# Просмотр уникальных названий жанров"
   ]
  },
  {
   "cell_type": "code",
   "execution_count": 16,
   "metadata": {
    "id": "ErNDkmns_Zct"
   },
   "outputs": [],
   "source": [
    "def replace_wrong_genres(wrong_genres,correct_genre):\n",
    "    for wrong_genre in wrong_genres:\n",
    "        df['genre'] =df['genre'].replace(wrong_genre,correct_genre) # Функция для замены неявных дубликатов"
   ]
  },
  {
   "cell_type": "code",
   "execution_count": 17,
   "metadata": {
    "id": "YN5i2hpmSo09"
   },
   "outputs": [
    {
     "name": "stdout",
     "output_type": "stream",
     "text": [
      "        user_id                              track            artist  \\\n",
      "0      FFB692EC                  Kamigata To Boots  The Mass Missile   \n",
      "1      55204538        Delayed Because of Accident  Andreas Rönnberg   \n",
      "2        20EC38                  Funiculì funiculà       Mario Lanza   \n",
      "3      A3DD03C9              Dragons in the Sunset        Fire + Ice   \n",
      "4      E2DC1FAE                        Soul People        Space Echo   \n",
      "...         ...                                ...               ...   \n",
      "61248  729CBB09                            My Name            McLean   \n",
      "61249  D08D4A55  Maybe One Day (feat. Black Spade)       Blu & Exile   \n",
      "61250  C5E3A0D5                          Jalopiina           unknown   \n",
      "61251  321D0506                      Freight Train     Chas McDevitt   \n",
      "61252  3A64EF84          Tell Me Sweet Little Lies      Monica Lopez   \n",
      "\n",
      "            genre              city      time        day  \n",
      "0            rock  Saint-Petersburg  20:28:33  Wednesday  \n",
      "1            rock            Moscow  14:07:09     Friday  \n",
      "2             pop  Saint-Petersburg  20:58:07  Wednesday  \n",
      "3            folk  Saint-Petersburg  08:37:09     Monday  \n",
      "4           dance            Moscow  08:34:34     Monday  \n",
      "...           ...               ...       ...        ...  \n",
      "61248         rnb            Moscow  13:32:28  Wednesday  \n",
      "61249      hiphop  Saint-Petersburg  10:00:00     Monday  \n",
      "61250  industrial            Moscow  20:09:26     Friday  \n",
      "61251        rock            Moscow  21:43:59     Friday  \n",
      "61252     country            Moscow  21:59:46     Friday  \n",
      "\n",
      "[61253 rows x 7 columns]\n"
     ]
    }
   ],
   "source": [
    "duplicates = ['hip', 'hop','hip-hop']\n",
    "name = 'hiphop'\n",
    "replace_wrong_genres(duplicates,name)\n",
    "print(df)# Устранение неявных дубликатов"
   ]
  },
  {
   "cell_type": "code",
   "execution_count": 18,
   "metadata": {
    "id": "wvixALnFG15m"
   },
   "outputs": [
    {
     "name": "stdout",
     "output_type": "stream",
     "text": [
      "['acid', 'acoustic', 'action', 'adult', 'africa', 'afrikaans', 'alternative', 'alternativepunk', 'ambient', 'americana', 'animated', 'anime', 'arabesk', 'arabic', 'arena', 'argentinetango', 'art', 'audiobook', 'author', 'avantgarde', 'axé', 'baile', 'balkan', 'beats', 'bigroom', 'black', 'bluegrass', 'blues', 'bollywood', 'bossa', 'brazilian', 'breakbeat', 'breaks', 'broadway', 'cantautori', 'cantopop', 'canzone', 'caribbean', 'caucasian', 'celtic', 'chamber', 'chanson', 'children', 'chill', 'chinese', 'choral', 'christian', 'christmas', 'classical', 'classicmetal', 'club', 'colombian', 'comedy', 'conjazz', 'contemporary', 'country', 'cuban', 'dance', 'dancehall', 'dancepop', 'dark', 'death', 'deep', 'deutschrock', 'deutschspr', 'dirty', 'disco', 'dnb', 'documentary', 'downbeat', 'downtempo', 'drum', 'dub', 'dubstep', 'eastern', 'easy', 'electronic', 'electropop', 'emo', 'entehno', 'epicmetal', 'estrada', 'ethnic', 'eurofolk', 'european', 'experimental', 'extrememetal', 'fado', 'fairytail', 'film', 'fitness', 'flamenco', 'folk', 'folklore', 'folkmetal', 'folkrock', 'folktronica', 'forró', 'frankreich', 'französisch', 'french', 'funk', 'future', 'gangsta', 'garage', 'german', 'ghazal', 'gitarre', 'glitch', 'gospel', 'gothic', 'grime', 'grunge', 'gypsy', 'handsup', \"hard'n'heavy\", 'hardcore', 'hardstyle', 'hardtechno', 'hiphop', 'historisch', 'holiday', 'horror', 'house', 'hymn', 'idm', 'independent', 'indian', 'indie', 'indipop', 'industrial', 'inspirational', 'instrumental', 'international', 'irish', 'jam', 'japanese', 'jazz', 'jewish', 'jpop', 'jungle', 'k-pop', 'karadeniz', 'karaoke', 'kayokyoku', 'korean', 'laiko', 'latin', 'latino', 'leftfield', 'local', 'lounge', 'loungeelectronic', 'lovers', 'malaysian', 'mandopop', 'marschmusik', 'meditative', 'mediterranean', 'melodic', 'metal', 'metalcore', 'mexican', 'middle', 'minimal', 'miscellaneous', 'modern', 'mood', 'mpb', 'muslim', 'native', 'neoklassik', 'neue', 'new', 'newage', 'newwave', 'nu', 'nujazz', 'numetal', 'oceania', 'old', 'opera', 'orchestral', 'other', 'piano', 'podcasts', 'pop', 'popdance', 'popelectronic', 'popeurodance', 'poprussian', 'post', 'posthardcore', 'postrock', 'power', 'progmetal', 'progressive', 'psychedelic', 'punjabi', 'punk', 'quebecois', 'ragga', 'ram', 'rancheras', 'rap', 'rave', 'reggae', 'reggaeton', 'regional', 'relax', 'religious', 'retro', 'rhythm', 'rnb', 'rnr', 'rock', 'rockabilly', 'rockalternative', 'rockindie', 'rockother', 'romance', 'roots', 'ruspop', 'rusrap', 'rusrock', 'russian', 'salsa', 'samba', 'scenic', 'schlager', 'self', 'sertanejo', 'shanson', 'shoegazing', 'showtunes', 'singer', 'ska', 'skarock', 'slow', 'smooth', 'soft', 'soul', 'soulful', 'sound', 'soundtrack', 'southern', 'specialty', 'speech', 'spiritual', 'sport', 'stonerrock', 'surf', 'swing', 'synthpop', 'synthrock', 'sängerportrait', 'tango', 'tanzorchester', 'taraftar', 'tatar', 'tech', 'techno', 'teen', 'thrash', 'top', 'traditional', 'tradjazz', 'trance', 'tribal', 'trip', 'triphop', 'tropical', 'türk', 'türkçe', 'ukrrock', 'unknown', 'urban', 'uzbek', 'variété', 'vi', 'videogame', 'vocal', 'western', 'world', 'worldbeat', 'ïîï', 'электроника']\n"
     ]
    }
   ],
   "source": [
    "print(sorted(df['genre'].unique()))# Проверка на неявные дубликаты"
   ]
  },
  {
   "cell_type": "markdown",
   "metadata": {
    "id": "jz6a9-7HQUDd"
   },
   "source": [
    "**Выводы**\n",
    "\n",
    "Предобработка обнаружила три проблемы в данных:\n",
    "\n",
    "- нарушения в стиле заголовков,\n",
    "- пропущенные значения,\n",
    "- дубликаты — явные и неявные.\n",
    "\n",
    "исправили заголовки, чтобы упростить работу с таблицей. Без дубликатов исследование станет более точным.\n",
    "\n",
    "Пропущенные значения заменили на `'unknown'`. Ещё предстоит увидеть, не повредят ли исследованию пропуски в колонке `genre`.\n",
    "\n",
    "Теперь можно перейти к проверке гипотез. "
   ]
  },
  {
   "cell_type": "markdown",
   "metadata": {
    "id": "WttZHXH0SqKk"
   },
   "source": [
    "## Проверка гипотез"
   ]
  },
  {
   "cell_type": "markdown",
   "metadata": {
    "id": "Im936VVi_Zcu"
   },
   "source": [
    "### Сравнение поведения пользователей двух столиц"
   ]
  },
  {
   "cell_type": "markdown",
   "metadata": {
    "id": "nwt_MuaL_Zcu"
   },
   "source": [
    "Первая гипотеза утверждает, что пользователи по-разному слушают музыку в Москве и Санкт-Петербурге. Проверим это предположение по данным о трёх днях недели — понедельнике, среде и пятнице. Для этого:\n",
    "\n",
    "* Разделите пользователей Москвы и Санкт-Петербурга\n",
    "* Сравните, сколько треков послушала каждая группа пользователей в понедельник, среду и пятницу.\n"
   ]
  },
  {
   "cell_type": "code",
   "execution_count": 19,
   "metadata": {
    "id": "0_Qs96oh_Zcu"
   },
   "outputs": [
    {
     "data": {
      "text/plain": [
       "city\n",
       "Moscow              42741\n",
       "Saint-Petersburg    18512\n",
       "Name: time, dtype: int64"
      ]
     },
     "execution_count": 19,
     "metadata": {},
     "output_type": "execute_result"
    }
   ],
   "source": [
    "time_grouping = df.groupby('city')['time'].count()\n",
    "time_grouping# Подсчёт прослушиваний в каждом городе"
   ]
  },
  {
   "cell_type": "markdown",
   "metadata": {
    "id": "dzli3w8o_Zcu"
   },
   "source": [
    "В Москве прослушиваний больше, чем в Петербурге. Из этого не следует, что московские пользователи чаще слушают музыку. Просто самих пользователей в Москве больше.\n",
    "\n"
   ]
  },
  {
   "cell_type": "code",
   "execution_count": 20,
   "metadata": {
    "id": "uZMKjiJz_Zcu"
   },
   "outputs": [
    {
     "data": {
      "text/plain": [
       "day\n",
       "Friday       21840\n",
       "Monday       21354\n",
       "Wednesday    18059\n",
       "Name: time, dtype: int64"
      ]
     },
     "execution_count": 20,
     "metadata": {},
     "output_type": "execute_result"
    }
   ],
   "source": [
    "day_grouping = df.groupby('day')['time'].count()\n",
    "day_grouping# Подсчёт прослушиваний в каждый из трёх дней"
   ]
  },
  {
   "cell_type": "markdown",
   "metadata": {
    "id": "cC2tNrlL_Zcu"
   },
   "source": [
    "В среднем пользователи из двух городов менее активны по средам. Но картина может измениться, если рассмотреть каждый город в отдельности."
   ]
  },
  {
   "cell_type": "code",
   "execution_count": 21,
   "metadata": {
    "id": "Nz3GdQB1_Zcu"
   },
   "outputs": [],
   "source": [
    "# <создание функции number_tracks()>\n",
    "def number_tracks(day,city):# Объявляется функция с двумя параметрами: day, city.\n",
    "    track_list = df[(df['day']==day) & (df['city']==city)]\n",
    "    \n",
    "    track_list_count = track_list['user_id'].count()\n",
    "    return(track_list_count)# В переменной track_list сохраняются те строки таблицы df, для которых \n",
    "# значение в столбце 'day' равно параметру day и одновременно значение\n",
    "# в столбце 'city' равно параметру city (используйте последовательную фильтрацию\n",
    "# с помощью логической индексации).\n",
    "# В переменной track_list_count сохраняется число значений столбца 'user_id',\n",
    "# рассчитанное методом count() для таблицы track_list.\n",
    "# Функция возвращает число - значение track_list_count.\n",
    "\n",
    "# Функция для подсчёта прослушиваний для конкретного города и дня.\n",
    "# С помощью последовательной фильтрации с логической индексацией она \n",
    "# сначала получит из исходной таблицы строки с нужным днём,\n",
    "# затем из результата отфильтрует строки с нужным городом,\n",
    "# методом count() посчитает количество значений в колонке user_id. \n",
    "# Это количество функция вернёт в качестве результата"
   ]
  },
  {
   "cell_type": "code",
   "execution_count": 22,
   "metadata": {
    "id": "rJcRATNQ_Zcu",
    "scrolled": true
   },
   "outputs": [
    {
     "data": {
      "text/plain": [
       "15740"
      ]
     },
     "execution_count": 22,
     "metadata": {},
     "output_type": "execute_result"
    }
   ],
   "source": [
    "number_tracks('Monday','Moscow')# количество прослушиваний в Москве по понедельникам"
   ]
  },
  {
   "cell_type": "code",
   "execution_count": 23,
   "metadata": {
    "id": "hq_ncZ5T_Zcu"
   },
   "outputs": [
    {
     "data": {
      "text/plain": [
       "5614"
      ]
     },
     "execution_count": 23,
     "metadata": {},
     "output_type": "execute_result"
    }
   ],
   "source": [
    "number_tracks('Monday','Saint-Petersburg')# количество прослушиваний в Санкт-Петербурге по понедельникам"
   ]
  },
  {
   "cell_type": "code",
   "execution_count": 24,
   "metadata": {
    "id": "_NTy2VPU_Zcu"
   },
   "outputs": [
    {
     "data": {
      "text/plain": [
       "11056"
      ]
     },
     "execution_count": 24,
     "metadata": {},
     "output_type": "execute_result"
    }
   ],
   "source": [
    "number_tracks('Wednesday','Moscow')# количество прослушиваний в Москве по средам"
   ]
  },
  {
   "cell_type": "code",
   "execution_count": 25,
   "metadata": {
    "id": "j2y3TAwo_Zcu"
   },
   "outputs": [
    {
     "data": {
      "text/plain": [
       "7003"
      ]
     },
     "execution_count": 25,
     "metadata": {},
     "output_type": "execute_result"
    }
   ],
   "source": [
    "number_tracks('Wednesday','Saint-Petersburg')# количество прослушиваний в Санкт-Петербурге по средам"
   ]
  },
  {
   "cell_type": "code",
   "execution_count": 26,
   "metadata": {
    "id": "vYDw5u_K_Zcu"
   },
   "outputs": [
    {
     "data": {
      "text/plain": [
       "15945"
      ]
     },
     "execution_count": 26,
     "metadata": {},
     "output_type": "execute_result"
    }
   ],
   "source": [
    "number_tracks('Friday','Moscow')# количество прослушиваний в Москве по пятницам"
   ]
  },
  {
   "cell_type": "code",
   "execution_count": 27,
   "metadata": {
    "id": "8_yzFtW3_Zcu"
   },
   "outputs": [
    {
     "data": {
      "text/plain": [
       "5895"
      ]
     },
     "execution_count": 27,
     "metadata": {},
     "output_type": "execute_result"
    }
   ],
   "source": [
    "number_tracks('Friday','Saint-Petersburg')# количество прослушиваний в Санкт-Петербурге по пятницам"
   ]
  },
  {
   "cell_type": "code",
   "execution_count": 28,
   "metadata": {
    "id": "APAcLpOr_Zcu"
   },
   "outputs": [
    {
     "name": "stdout",
     "output_type": "stream",
     "text": [
      "               city  monday  wednesday  friday\n",
      "0            Moscow   15740      11056   15945\n",
      "1  Saint-Petersburg    5614       7003    5895\n"
     ]
    }
   ],
   "source": [
    "data = [\n",
    "    ['Moscow', 15740, 11056, 15945],\n",
    "    ['Saint-Petersburg',5614, 7003, 5895]]\n",
    "columns = ['city', 'monday', 'wednesday', 'friday']\n",
    "result = pd.DataFrame(data=data, columns=columns)\n",
    "print(result)# Таблица с результатами"
   ]
  },
  {
   "cell_type": "markdown",
   "metadata": {
    "id": "-EgPIHYu_Zcu"
   },
   "source": [
    "**Выводы**\n",
    "\n",
    "Данные показывают разницу поведения пользователей:\n",
    "\n",
    "- В Москве пик прослушиваний приходится на понедельник и пятницу, а в среду заметен спад.\n",
    "- В Петербурге, наоборот, больше слушают музыку по средам. Активность в понедельник и пятницу здесь почти в равной мере уступает среде.\n",
    "\n",
    "Значит, данные говорят в пользу первой гипотезы."
   ]
  },
  {
   "cell_type": "markdown",
   "metadata": {
    "id": "atZAxtq4_Zcu"
   },
   "source": [
    "### Музыка в начале и в конце недели"
   ]
  },
  {
   "cell_type": "markdown",
   "metadata": {
    "id": "eXrQqXFH_Zcu"
   },
   "source": [
    "Согласно второй гипотезе, утром в понедельник в Москве преобладают одни жанры, а в Петербурге — другие. Так же и вечером пятницы преобладают разные жанры — в зависимости от города."
   ]
  },
  {
   "cell_type": "code",
   "execution_count": 29,
   "metadata": {
    "id": "qeaFfM_P_Zcu"
   },
   "outputs": [
    {
     "name": "stdout",
     "output_type": "stream",
     "text": [
      "        user_id                          track                   artist  \\\n",
      "1      55204538    Delayed Because of Accident         Andreas Rönnberg   \n",
      "4      E2DC1FAE                    Soul People               Space Echo   \n",
      "6      4CB90AA5                           True             Roman Messer   \n",
      "7      F03E1C1F               Feeling This Way          Polina Griffith   \n",
      "8      8FA1D3BE       И вновь продолжается бой                  unknown   \n",
      "...         ...                            ...                      ...   \n",
      "61247  83A474E7  I Worship Only What You Bleed  The Black Dahlia Murder   \n",
      "61248  729CBB09                        My Name                   McLean   \n",
      "61250  C5E3A0D5                      Jalopiina                  unknown   \n",
      "61251  321D0506                  Freight Train            Chas McDevitt   \n",
      "61252  3A64EF84      Tell Me Sweet Little Lies             Monica Lopez   \n",
      "\n",
      "              genre    city      time        day  \n",
      "1              rock  Moscow  14:07:09     Friday  \n",
      "4             dance  Moscow  08:34:34     Monday  \n",
      "6             dance  Moscow  13:00:07  Wednesday  \n",
      "7             dance  Moscow  20:47:49  Wednesday  \n",
      "8            ruspop  Moscow  09:17:40     Friday  \n",
      "...             ...     ...       ...        ...  \n",
      "61247  extrememetal  Moscow  21:07:12     Monday  \n",
      "61248           rnb  Moscow  13:32:28  Wednesday  \n",
      "61250    industrial  Moscow  20:09:26     Friday  \n",
      "61251          rock  Moscow  21:43:59     Friday  \n",
      "61252       country  Moscow  21:59:46     Friday  \n",
      "\n",
      "[42741 rows x 7 columns]\n"
     ]
    }
   ],
   "source": [
    "moscow_general = df[df['city']=='Moscow']\n",
    "print(moscow_general)# получение таблицы moscow_general из тех строк таблицы df, \n",
    "# для которых значение в столбце 'city' равно 'Moscow'\n"
   ]
  },
  {
   "cell_type": "code",
   "execution_count": 30,
   "metadata": {
    "id": "ORaVRKto_Zcu"
   },
   "outputs": [
    {
     "name": "stdout",
     "output_type": "stream",
     "text": [
      "        user_id                              track              artist  \\\n",
      "0      FFB692EC                  Kamigata To Boots    The Mass Missile   \n",
      "2        20EC38                  Funiculì funiculà         Mario Lanza   \n",
      "3      A3DD03C9              Dragons in the Sunset          Fire + Ice   \n",
      "5      842029A1                          Преданная           IMPERVTOR   \n",
      "9      E772D5C0                          Pessimist             unknown   \n",
      "...         ...                                ...                 ...   \n",
      "61239  D94F810B        Theme from the Walking Dead  Proyecto Halloween   \n",
      "61240  BC8EC5CF       Red Lips: Gta (Rover Rework)               Rover   \n",
      "61241  29E04611                       Bre Petrunko       Perunika Trio   \n",
      "61242  1B91C621             (Hello) Cloud Mountain     sleepmakeswaves   \n",
      "61249  D08D4A55  Maybe One Day (feat. Black Spade)         Blu & Exile   \n",
      "\n",
      "            genre              city      time        day  \n",
      "0            rock  Saint-Petersburg  20:28:33  Wednesday  \n",
      "2             pop  Saint-Petersburg  20:58:07  Wednesday  \n",
      "3            folk  Saint-Petersburg  08:37:09     Monday  \n",
      "5          rusrap  Saint-Petersburg  13:09:41     Friday  \n",
      "9           dance  Saint-Petersburg  21:20:49  Wednesday  \n",
      "...           ...               ...       ...        ...  \n",
      "61239        film  Saint-Petersburg  21:14:40     Monday  \n",
      "61240  electronic  Saint-Petersburg  21:06:50     Monday  \n",
      "61241       world  Saint-Petersburg  13:56:00     Monday  \n",
      "61242    postrock  Saint-Petersburg  09:22:13     Monday  \n",
      "61249      hiphop  Saint-Petersburg  10:00:00     Monday  \n",
      "\n",
      "[18512 rows x 7 columns]\n"
     ]
    }
   ],
   "source": [
    "spb_general = df[df['city']=='Saint-Petersburg']\n",
    "print(spb_general)# получение таблицы spb_general из тех строк таблицы df,\n",
    "# для которых значение в столбце 'city' равно 'Saint-Petersburg'\n"
   ]
  },
  {
   "cell_type": "code",
   "execution_count": 31,
   "metadata": {
    "id": "laJT9BYl_Zcu"
   },
   "outputs": [],
   "source": [
    "def genre_weekday(table, day, time1, time2):# Объявление функции genre_weekday() с параметрами table, day, time1, time2,\n",
    "# которая возвращает информацию о самых популярных жанрах в указанный день в\n",
    "# заданное время:\n",
    "    genre_df = table[(table['day']==day) & (table['time']>time1) & (table['time']<time2)]\n",
    "   # 1) в переменную genre_df сохраняются те строки переданного датафрейма table, для\n",
    "#    которых одновременно:\n",
    "#    - значение в столбце day равно значению аргумента day\n",
    "#    - значение в столбце time больше значения аргумента time1\n",
    "#    - значение в столбце time меньше значения аргумента time2\n",
    "#    Используйте последовательную фильтрацию с помощью логической индексации.\n",
    "    genre_df_count = genre_df.groupby('genre')['genre'].count()# 2) сгруппировать датафрейм genre_df по столбцу genre, взять один из его\n",
    "#    столбцов и посчитать методом count() количество записей для каждого из\n",
    "#    присутствующих жанров, получившийся Series записать в переменную\n",
    "#    genre_df_count\n",
    "    genre_df_sorted = genre_df_count.sort_values(ascending=False)# 3) отсортировать genre_df_count по убыванию встречаемости и сохранить\n",
    "#    в переменную genre_df_sorted\n",
    "    return genre_df_sorted.head(10)\n",
    "# 4) вернуть Series из 10 первых значений genre_df_sorted, это будут топ-10\n",
    "#    популярных жанров (в указанный день, в заданное время)"
   ]
  },
  {
   "cell_type": "code",
   "execution_count": 32,
   "metadata": {
    "id": "yz7itPUQ_Zcu"
   },
   "outputs": [
    {
     "data": {
      "text/plain": [
       "genre\n",
       "pop            781\n",
       "dance          549\n",
       "electronic     480\n",
       "rock           474\n",
       "hiphop         286\n",
       "ruspop         186\n",
       "world          181\n",
       "rusrap         175\n",
       "alternative    164\n",
       "unknown        161\n",
       "Name: genre, dtype: int64"
      ]
     },
     "execution_count": 32,
     "metadata": {},
     "output_type": "execute_result"
    }
   ],
   "source": [
    "genre_weekday(moscow_general, 'Monday', '07:00', '11:00')# вызов функции для утра понедельника в Москве (вместо df — таблица moscow_general)\n",
    "# объекты, хранящие время, являются строками и сравниваются как строки\n",
    "# пример вызова: genre_weekday(moscow_general, 'Monday', '07:00', '11:00')"
   ]
  },
  {
   "cell_type": "code",
   "execution_count": 33,
   "metadata": {
    "id": "kwUcHPdy_Zcu"
   },
   "outputs": [
    {
     "data": {
      "text/plain": [
       "genre\n",
       "pop            218\n",
       "dance          182\n",
       "rock           162\n",
       "electronic     147\n",
       "hiphop          80\n",
       "ruspop          64\n",
       "alternative     58\n",
       "rusrap          55\n",
       "jazz            44\n",
       "classical       40\n",
       "Name: genre, dtype: int64"
      ]
     },
     "execution_count": 33,
     "metadata": {},
     "output_type": "execute_result"
    }
   ],
   "source": [
    "genre_weekday(spb_general, 'Monday', '07:00', '11:00')# вызов функции для утра понедельника в Петербурге (вместо df — таблица spb_general)"
   ]
  },
  {
   "cell_type": "code",
   "execution_count": 34,
   "metadata": {
    "id": "JZaEKu5v_Zcu"
   },
   "outputs": [
    {
     "data": {
      "text/plain": [
       "genre\n",
       "pop            256\n",
       "electronic     216\n",
       "rock           216\n",
       "dance          210\n",
       "hiphop          97\n",
       "alternative     63\n",
       "jazz            61\n",
       "classical       60\n",
       "rusrap          59\n",
       "world           54\n",
       "Name: genre, dtype: int64"
      ]
     },
     "execution_count": 34,
     "metadata": {},
     "output_type": "execute_result"
    }
   ],
   "source": [
    "genre_weekday(spb_general, 'Friday', '17:00', '23:00')# вызов функции для вечера пятницы в Петербурге"
   ]
  },
  {
   "cell_type": "markdown",
   "metadata": {
    "id": "wrCe4MNX_Zcu"
   },
   "source": [
    "**Выводы**\n",
    "\n",
    "Если сравнить топ-10 жанров в понедельник утром, можно сделать такие выводы:\n",
    "\n",
    "1. В Москве и Петербурге слушают похожую музыку. Единственное отличие — в московский рейтинг вошёл жанр “world”, а в петербургский — джаз и классика.\n",
    "\n",
    "2. В Москве пропущенных значений оказалось так много, что значение `'unknown'` заняло десятое место среди самых популярных жанров. Значит, пропущенные значения занимают существенную долю в данных и угрожают достоверности исследования.\n",
    "\n",
    "Вечер пятницы не меняет эту картину. Некоторые жанры поднимаются немного выше, другие спускаются, но в целом топ-10 остаётся тем же самым.\n",
    "\n",
    "Таким образом, вторая гипотеза подтвердилась лишь частично:\n",
    "* Пользователи слушают похожую музыку в начале недели и в конце.\n",
    "* Разница между Москвой и Петербургом не слишком выражена. В Москве чаще слушают русскую популярную музыку, в Петербурге — джаз.\n",
    "\n",
    "Однако пропуски в данных ставят под сомнение этот результат. В Москве их так много, что рейтинг топ-10 мог бы выглядеть иначе, если бы не утерянные  данные о жанрах."
   ]
  },
  {
   "cell_type": "markdown",
   "metadata": {
    "id": "JolODAqr_Zcu"
   },
   "source": [
    "### Жанровые предпочтения в Москве и Петербурге\n",
    "\n",
    "Гипотеза: Петербург — столица рэпа, музыку этого жанра там слушают чаще, чем в Москве.  А Москва — город контрастов, в котором, тем не менее, преобладает поп-музыка."
   ]
  },
  {
   "cell_type": "code",
   "execution_count": 35,
   "metadata": {
    "id": "r19lIPke_Zcu"
   },
   "outputs": [],
   "source": [
    "\n",
    "moscow_general_count = moscow_general.groupby('genre')['genre'].count()# одной строкой: группировка таблицы moscow_general по столбцу 'genre', \n",
    "# подсчёт числа значений 'genre' в этой группировке методом count(), \n",
    "moscow_genres = moscow_general_count.sort_values(ascending=False)# сортировка получившегося Series в порядке убывания и сохранение в moscow_genres"
   ]
  },
  {
   "cell_type": "code",
   "execution_count": 36,
   "metadata": {
    "id": "WhCSooF8_Zcv"
   },
   "outputs": [
    {
     "name": "stdout",
     "output_type": "stream",
     "text": [
      "genre\n",
      "pop            5892\n",
      "dance          4435\n",
      "rock           3965\n",
      "electronic     3786\n",
      "hiphop         2096\n",
      "classical      1616\n",
      "world          1432\n",
      "alternative    1379\n",
      "ruspop         1372\n",
      "rusrap         1161\n",
      "Name: genre, dtype: int64\n"
     ]
    }
   ],
   "source": [
    "print(moscow_genres.head(10))# просмотр первых 10 строк moscow_genres"
   ]
  },
  {
   "cell_type": "code",
   "execution_count": 37,
   "metadata": {
    "id": "gluLIpE7_Zcv"
   },
   "outputs": [],
   "source": [
    "spb_general_count = spb_general.groupby('genre')['genre'].count()# одной строкой: группировка таблицы spb_general по столбцу 'genre', \n",
    "# подсчёт числа значений 'genre' в этой группировке методом count(), \n",
    "spb_genres = spb_general_count.sort_values(ascending=False)# сортировка получившегося Series в порядке убывания и сохранение в spb_genres"
   ]
  },
  {
   "cell_type": "code",
   "execution_count": 38,
   "metadata": {
    "id": "uaGJHjVU_Zcv"
   },
   "outputs": [
    {
     "name": "stdout",
     "output_type": "stream",
     "text": [
      "genre\n",
      "pop            2431\n",
      "dance          1932\n",
      "rock           1879\n",
      "electronic     1736\n",
      "hiphop          960\n",
      "alternative     649\n",
      "classical       646\n",
      "rusrap          564\n",
      "ruspop          538\n",
      "world           515\n",
      "Name: genre, dtype: int64\n"
     ]
    }
   ],
   "source": [
    "print(spb_genres.head(10))# просмотр первых 10 строк spb_genres"
   ]
  },
  {
   "cell_type": "markdown",
   "metadata": {
    "id": "RY51YJYu_Zcv"
   },
   "source": [
    "**Выводы**"
   ]
  },
  {
   "cell_type": "markdown",
   "metadata": {
    "id": "nVhnJEm__Zcv"
   },
   "source": [
    "Гипотеза частично подтвердилась:\n",
    "* Поп-музыка — самый популярный жанр в Москве, как и предполагала гипотеза. Более того, в топ-10 жанров встречается близкий жанр — русская популярная музыка.\n",
    "* Вопреки ожиданиям, рэп одинаково популярен в Москве и Петербурге. \n"
   ]
  },
  {
   "cell_type": "markdown",
   "metadata": {
    "id": "ykKQ0N65_Zcv"
   },
   "source": [
    "## Итоги исследования"
   ]
  },
  {
   "cell_type": "markdown",
   "metadata": {
    "id": "tjUwbHb3_Zcv"
   },
   "source": [
    "мы проверили три гипотезы и установили:\n",
    "\n",
    "1. День недели по-разному влияет на активность пользователей в Москве и Петербурге. \n",
    "\n",
    "Первая гипотеза полностью подтвердилась.\n",
    "\n",
    "2. Музыкальные предпочтения не сильно меняются в течение недели — будь то Москва или Петербург. Небольшие различия заметны в начале недели, по понедельникам:\n",
    "* в Москве слушают музыку жанра “world”,\n",
    "* в Петербурге — джаз и классику.\n",
    "\n",
    "Таким образом, вторая гипотеза подтвердилась лишь отчасти. Этот результат мог оказаться иным, если бы не пропуски в данных.\n",
    "\n",
    "3. Во вкусах пользователей Москвы и Петербурга больше общего чем различий. Вопреки ожиданиям, предпочтения жанров в Петербурге напоминают московские.\n",
    "\n",
    "Третья гипотеза не подтвердилась. Если различия в предпочтениях и существуют, на основной массе пользователей они незаметны.\n",
    "\n",
    "**На практике исследования содержат проверки статистических гипотез.**\n",
    "Из данных одного сервиса не всегда можно сделать вывод о всех жителях города.\n",
    "Проверки статистических гипотез покажут, насколько они достоверны, исходя из имеющихся данных. \n",
    "С методами проверок гипотез вы ещё познакомитесь в следующих темах."
   ]
  }
 ],
 "metadata": {
  "ExecuteTimeLog": [
   {
    "duration": -928,
    "start_time": "2022-02-23T14:27:58.214Z"
   },
   {
    "duration": 266,
    "start_time": "2022-02-23T14:31:18.700Z"
   },
   {
    "duration": 254,
    "start_time": "2022-02-23T14:31:21.512Z"
   },
   {
    "duration": 2354,
    "start_time": "2022-02-23T14:31:26.758Z"
   },
   {
    "duration": 2226,
    "start_time": "2022-02-23T14:31:29.310Z"
   },
   {
    "duration": 189,
    "start_time": "2022-02-23T14:33:09.734Z"
   },
   {
    "duration": 177,
    "start_time": "2022-02-23T14:33:13.527Z"
   },
   {
    "duration": 178,
    "start_time": "2022-02-23T14:33:16.435Z"
   },
   {
    "duration": 186,
    "start_time": "2022-02-23T14:33:19.961Z"
   },
   {
    "duration": 183,
    "start_time": "2022-02-23T14:33:22.378Z"
   },
   {
    "duration": 4,
    "start_time": "2022-02-23T14:33:33.416Z"
   },
   {
    "duration": 1941,
    "start_time": "2022-02-23T14:36:08.595Z"
   },
   {
    "duration": 2017,
    "start_time": "2022-02-23T14:37:37.944Z"
   },
   {
    "duration": 2296,
    "start_time": "2022-02-23T14:37:42.925Z"
   },
   {
    "duration": 5,
    "start_time": "2022-02-23T14:37:50.455Z"
   },
   {
    "duration": 4,
    "start_time": "2022-02-23T14:37:52.617Z"
   },
   {
    "duration": 4,
    "start_time": "2022-02-23T14:38:02.847Z"
   },
   {
    "duration": 3,
    "start_time": "2022-02-23T14:38:18.682Z"
   },
   {
    "duration": 4,
    "start_time": "2022-02-23T14:38:26.668Z"
   },
   {
    "duration": 4,
    "start_time": "2022-02-23T14:38:29.300Z"
   },
   {
    "duration": 2457,
    "start_time": "2022-02-23T14:38:41.848Z"
   },
   {
    "duration": 2165,
    "start_time": "2022-02-23T14:38:53.890Z"
   },
   {
    "duration": 182,
    "start_time": "2022-02-23T14:39:24.841Z"
   },
   {
    "duration": 200,
    "start_time": "2022-02-23T14:39:28.300Z"
   },
   {
    "duration": 199,
    "start_time": "2022-02-23T14:39:33.966Z"
   },
   {
    "duration": 193,
    "start_time": "2022-02-23T14:39:38.482Z"
   },
   {
    "duration": 4,
    "start_time": "2022-02-23T14:39:41.222Z"
   },
   {
    "duration": 3,
    "start_time": "2022-02-23T14:39:49.598Z"
   },
   {
    "duration": 13,
    "start_time": "2022-02-23T14:40:01.328Z"
   },
   {
    "duration": 6,
    "start_time": "2022-02-23T14:40:12.934Z"
   },
   {
    "duration": 6,
    "start_time": "2022-02-23T14:40:26.558Z"
   },
   {
    "duration": 4,
    "start_time": "2022-02-23T14:40:37.020Z"
   },
   {
    "duration": 4,
    "start_time": "2022-02-23T14:40:46.458Z"
   },
   {
    "duration": 11,
    "start_time": "2022-02-23T14:40:52.011Z"
   },
   {
    "duration": 4,
    "start_time": "2022-02-23T14:41:05.181Z"
   },
   {
    "duration": 5,
    "start_time": "2022-02-23T14:44:07.001Z"
   },
   {
    "duration": 5,
    "start_time": "2022-02-23T14:44:14.907Z"
   },
   {
    "duration": 5,
    "start_time": "2022-02-23T14:44:22.323Z"
   },
   {
    "duration": 5,
    "start_time": "2022-02-23T14:45:33.435Z"
   },
   {
    "duration": 4,
    "start_time": "2022-02-23T14:45:53.678Z"
   },
   {
    "duration": 5,
    "start_time": "2022-02-23T14:46:10.379Z"
   },
   {
    "duration": 5,
    "start_time": "2022-02-23T14:47:19.608Z"
   },
   {
    "duration": 6,
    "start_time": "2022-02-23T14:47:24.901Z"
   },
   {
    "duration": 5,
    "start_time": "2022-02-23T14:47:40.741Z"
   },
   {
    "duration": 6,
    "start_time": "2022-02-23T14:47:47.207Z"
   },
   {
    "duration": 5,
    "start_time": "2022-02-23T14:48:57.781Z"
   },
   {
    "duration": 6,
    "start_time": "2022-02-23T14:49:03.999Z"
   },
   {
    "duration": 4,
    "start_time": "2022-02-23T14:49:08.490Z"
   },
   {
    "duration": 7,
    "start_time": "2022-02-23T14:49:48.433Z"
   },
   {
    "duration": 6,
    "start_time": "2022-02-23T14:50:39.611Z"
   },
   {
    "duration": 6,
    "start_time": "2022-02-23T14:50:51.772Z"
   },
   {
    "duration": 6,
    "start_time": "2022-02-23T15:08:35.878Z"
   },
   {
    "duration": 7,
    "start_time": "2022-02-23T15:08:47.120Z"
   },
   {
    "duration": 5,
    "start_time": "2022-02-23T15:09:28.319Z"
   },
   {
    "duration": 25,
    "start_time": "2022-02-23T15:09:42.629Z"
   },
   {
    "duration": 22,
    "start_time": "2022-02-23T15:09:47.948Z"
   },
   {
    "duration": 7,
    "start_time": "2022-02-23T15:09:58.322Z"
   },
   {
    "duration": 16,
    "start_time": "2022-02-23T15:10:13.360Z"
   },
   {
    "duration": 6,
    "start_time": "2022-02-23T15:10:22.279Z"
   },
   {
    "duration": 123,
    "start_time": "2022-02-23T15:10:35.676Z"
   },
   {
    "duration": 3,
    "start_time": "2022-02-23T15:10:45.846Z"
   },
   {
    "duration": 5,
    "start_time": "2022-02-23T15:10:50.678Z"
   },
   {
    "duration": 18,
    "start_time": "2022-02-23T15:12:23.283Z"
   },
   {
    "duration": 15,
    "start_time": "2022-02-23T15:14:18.668Z"
   },
   {
    "duration": 15,
    "start_time": "2022-02-23T15:14:26.412Z"
   },
   {
    "duration": 16,
    "start_time": "2022-02-23T15:14:43.453Z"
   },
   {
    "duration": 3,
    "start_time": "2022-02-23T15:16:24.352Z"
   },
   {
    "duration": 195,
    "start_time": "2022-02-23T15:16:24.358Z"
   },
   {
    "duration": 17,
    "start_time": "2022-02-23T15:16:28.986Z"
   },
   {
    "duration": 33,
    "start_time": "2022-02-23T15:16:29.006Z"
   },
   {
    "duration": 20,
    "start_time": "2022-02-23T15:16:29.043Z"
   },
   {
    "duration": 27,
    "start_time": "2022-02-23T15:16:29.066Z"
   },
   {
    "duration": 4,
    "start_time": "2022-02-23T15:16:29.096Z"
   },
   {
    "duration": 62,
    "start_time": "2022-02-23T15:16:29.103Z"
   },
   {
    "duration": 90,
    "start_time": "2022-02-23T15:16:29.168Z"
   },
   {
    "duration": -823,
    "start_time": "2022-02-23T15:16:30.085Z"
   },
   {
    "duration": -823,
    "start_time": "2022-02-23T15:16:30.087Z"
   },
   {
    "duration": -825,
    "start_time": "2022-02-23T15:16:30.090Z"
   },
   {
    "duration": -826,
    "start_time": "2022-02-23T15:16:30.092Z"
   },
   {
    "duration": -828,
    "start_time": "2022-02-23T15:16:30.095Z"
   },
   {
    "duration": -829,
    "start_time": "2022-02-23T15:16:30.097Z"
   },
   {
    "duration": -831,
    "start_time": "2022-02-23T15:16:30.100Z"
   },
   {
    "duration": -832,
    "start_time": "2022-02-23T15:16:30.102Z"
   },
   {
    "duration": -833,
    "start_time": "2022-02-23T15:16:30.104Z"
   },
   {
    "duration": -839,
    "start_time": "2022-02-23T15:16:30.111Z"
   },
   {
    "duration": -840,
    "start_time": "2022-02-23T15:16:30.113Z"
   },
   {
    "duration": -841,
    "start_time": "2022-02-23T15:16:30.115Z"
   },
   {
    "duration": -843,
    "start_time": "2022-02-23T15:16:30.118Z"
   },
   {
    "duration": -844,
    "start_time": "2022-02-23T15:16:30.120Z"
   },
   {
    "duration": -845,
    "start_time": "2022-02-23T15:16:30.123Z"
   },
   {
    "duration": -846,
    "start_time": "2022-02-23T15:16:30.125Z"
   },
   {
    "duration": -848,
    "start_time": "2022-02-23T15:16:30.128Z"
   },
   {
    "duration": -849,
    "start_time": "2022-02-23T15:16:30.131Z"
   },
   {
    "duration": -850,
    "start_time": "2022-02-23T15:16:30.133Z"
   },
   {
    "duration": -852,
    "start_time": "2022-02-23T15:16:30.136Z"
   },
   {
    "duration": -853,
    "start_time": "2022-02-23T15:16:30.138Z"
   },
   {
    "duration": -858,
    "start_time": "2022-02-23T15:16:30.145Z"
   },
   {
    "duration": -859,
    "start_time": "2022-02-23T15:16:30.147Z"
   },
   {
    "duration": -861,
    "start_time": "2022-02-23T15:16:30.150Z"
   },
   {
    "duration": -862,
    "start_time": "2022-02-23T15:16:30.153Z"
   },
   {
    "duration": -867,
    "start_time": "2022-02-23T15:16:30.159Z"
   },
   {
    "duration": -899,
    "start_time": "2022-02-23T15:16:30.192Z"
   },
   {
    "duration": -902,
    "start_time": "2022-02-23T15:16:30.197Z"
   },
   {
    "duration": -903,
    "start_time": "2022-02-23T15:16:30.199Z"
   },
   {
    "duration": 24,
    "start_time": "2022-02-23T15:21:57.698Z"
   },
   {
    "duration": 25,
    "start_time": "2022-02-23T15:22:02.505Z"
   },
   {
    "duration": 33,
    "start_time": "2022-02-23T15:22:06.763Z"
   },
   {
    "duration": 89,
    "start_time": "2022-02-23T15:23:32.239Z"
   },
   {
    "duration": 4,
    "start_time": "2022-02-23T15:23:39.887Z"
   },
   {
    "duration": 19,
    "start_time": "2022-02-23T15:24:06.959Z"
   },
   {
    "duration": 82,
    "start_time": "2022-02-23T15:24:14.221Z"
   },
   {
    "duration": 4,
    "start_time": "2022-02-23T15:36:20.927Z"
   },
   {
    "duration": 191,
    "start_time": "2022-02-23T15:36:20.933Z"
   },
   {
    "duration": 17,
    "start_time": "2022-02-23T15:36:21.127Z"
   },
   {
    "duration": 33,
    "start_time": "2022-02-23T15:36:21.162Z"
   },
   {
    "duration": 5,
    "start_time": "2022-02-23T15:36:21.198Z"
   },
   {
    "duration": 15,
    "start_time": "2022-02-23T15:36:21.206Z"
   },
   {
    "duration": 5,
    "start_time": "2022-02-23T15:36:21.224Z"
   },
   {
    "duration": 29,
    "start_time": "2022-02-23T15:36:21.262Z"
   },
   {
    "duration": 23,
    "start_time": "2022-02-23T15:36:21.294Z"
   },
   {
    "duration": 62,
    "start_time": "2022-02-23T15:36:21.319Z"
   },
   {
    "duration": 97,
    "start_time": "2022-02-23T15:36:21.384Z"
   },
   {
    "duration": 4,
    "start_time": "2022-02-23T15:36:30.118Z"
   },
   {
    "duration": 224,
    "start_time": "2022-02-23T15:36:30.125Z"
   },
   {
    "duration": 20,
    "start_time": "2022-02-23T15:36:30.352Z"
   },
   {
    "duration": 41,
    "start_time": "2022-02-23T15:36:30.376Z"
   },
   {
    "duration": 5,
    "start_time": "2022-02-23T15:36:30.420Z"
   },
   {
    "duration": 46,
    "start_time": "2022-02-23T15:36:30.427Z"
   },
   {
    "duration": 22,
    "start_time": "2022-02-23T15:36:30.478Z"
   },
   {
    "duration": 34,
    "start_time": "2022-02-23T15:36:30.505Z"
   },
   {
    "duration": 48,
    "start_time": "2022-02-23T15:36:30.541Z"
   },
   {
    "duration": 32,
    "start_time": "2022-02-23T15:36:30.592Z"
   },
   {
    "duration": 109,
    "start_time": "2022-02-23T15:36:30.626Z"
   },
   {
    "duration": 3,
    "start_time": "2022-02-23T15:36:30.738Z"
   },
   {
    "duration": 22,
    "start_time": "2022-02-23T15:36:30.744Z"
   },
   {
    "duration": 8,
    "start_time": "2022-02-23T15:36:30.768Z"
   },
   {
    "duration": 27,
    "start_time": "2022-02-23T15:36:30.779Z"
   },
   {
    "duration": 18,
    "start_time": "2022-02-23T15:36:30.809Z"
   },
   {
    "duration": 22,
    "start_time": "2022-02-23T15:36:30.829Z"
   },
   {
    "duration": 12,
    "start_time": "2022-02-23T15:36:30.854Z"
   },
   {
    "duration": 20,
    "start_time": "2022-02-23T15:36:30.872Z"
   },
   {
    "duration": 14,
    "start_time": "2022-02-23T15:36:30.895Z"
   },
   {
    "duration": 15,
    "start_time": "2022-02-23T15:36:30.911Z"
   },
   {
    "duration": 16,
    "start_time": "2022-02-23T15:36:30.928Z"
   },
   {
    "duration": 12,
    "start_time": "2022-02-23T15:36:30.946Z"
   },
   {
    "duration": 16,
    "start_time": "2022-02-23T15:36:30.960Z"
   },
   {
    "duration": 19,
    "start_time": "2022-02-23T15:36:30.978Z"
   },
   {
    "duration": 20,
    "start_time": "2022-02-23T15:36:31.000Z"
   },
   {
    "duration": 10,
    "start_time": "2022-02-23T15:36:31.022Z"
   },
   {
    "duration": 10,
    "start_time": "2022-02-23T15:36:31.035Z"
   },
   {
    "duration": 7,
    "start_time": "2022-02-23T15:36:31.047Z"
   },
   {
    "duration": 11,
    "start_time": "2022-02-23T15:36:31.056Z"
   },
   {
    "duration": 14,
    "start_time": "2022-02-23T15:36:31.069Z"
   },
   {
    "duration": 16,
    "start_time": "2022-02-23T15:36:31.086Z"
   },
   {
    "duration": 20,
    "start_time": "2022-02-23T15:36:31.104Z"
   },
   {
    "duration": 28,
    "start_time": "2022-02-23T15:36:31.127Z"
   },
   {
    "duration": 25,
    "start_time": "2022-02-23T15:36:31.158Z"
   },
   {
    "duration": 21,
    "start_time": "2022-02-23T15:36:31.185Z"
   },
   {
    "duration": 18,
    "start_time": "2022-02-23T15:36:31.208Z"
   },
   {
    "duration": 14,
    "start_time": "2022-02-23T15:36:31.228Z"
   },
   {
    "duration": 89,
    "start_time": "2022-02-23T15:37:18.100Z"
   },
   {
    "duration": 78,
    "start_time": "2022-02-23T15:38:20.544Z"
   },
   {
    "duration": 87,
    "start_time": "2022-02-23T15:38:26.458Z"
   },
   {
    "duration": 94,
    "start_time": "2022-02-23T15:39:14.988Z"
   },
   {
    "duration": 9,
    "start_time": "2022-02-23T16:11:12.887Z"
   },
   {
    "duration": 91,
    "start_time": "2022-02-23T16:19:57.362Z"
   },
   {
    "duration": 162,
    "start_time": "2022-02-23T16:20:00.172Z"
   },
   {
    "duration": 9,
    "start_time": "2022-02-23T16:20:32.225Z"
   },
   {
    "duration": 307,
    "start_time": "2022-02-23T16:31:44.890Z"
   },
   {
    "duration": 118,
    "start_time": "2022-02-23T16:32:20.735Z"
   },
   {
    "duration": 95,
    "start_time": "2022-02-23T16:35:05.042Z"
   },
   {
    "duration": 100,
    "start_time": "2022-02-23T16:35:24.427Z"
   },
   {
    "duration": 5,
    "start_time": "2022-02-23T16:35:49.196Z"
   },
   {
    "duration": 5,
    "start_time": "2022-02-23T16:35:53.477Z"
   },
   {
    "duration": 22,
    "start_time": "2022-02-23T16:39:54.880Z"
   },
   {
    "duration": 9,
    "start_time": "2022-02-23T16:40:46.286Z"
   },
   {
    "duration": 99,
    "start_time": "2022-02-23T16:49:21.421Z"
   },
   {
    "duration": 12,
    "start_time": "2022-02-23T16:49:27.493Z"
   },
   {
    "duration": 14,
    "start_time": "2022-02-23T16:49:30.999Z"
   },
   {
    "duration": 16,
    "start_time": "2022-02-23T16:49:52.397Z"
   },
   {
    "duration": 11,
    "start_time": "2022-02-23T16:54:46.952Z"
   },
   {
    "duration": 13,
    "start_time": "2022-02-23T16:55:04.830Z"
   },
   {
    "duration": 306,
    "start_time": "2022-02-23T16:55:26.067Z"
   },
   {
    "duration": 14,
    "start_time": "2022-02-23T16:55:33.486Z"
   },
   {
    "duration": 15,
    "start_time": "2022-02-23T16:56:02.340Z"
   },
   {
    "duration": 95,
    "start_time": "2022-02-24T10:21:55.810Z"
   },
   {
    "duration": 573,
    "start_time": "2022-02-24T10:22:25.524Z"
   },
   {
    "duration": 4,
    "start_time": "2022-02-24T10:22:33.827Z"
   },
   {
    "duration": 4,
    "start_time": "2022-02-24T10:22:37.148Z"
   },
   {
    "duration": 610,
    "start_time": "2022-02-24T10:29:08.212Z"
   },
   {
    "duration": 605,
    "start_time": "2022-02-24T10:35:16.376Z"
   },
   {
    "duration": 604,
    "start_time": "2022-02-24T10:38:20.217Z"
   },
   {
    "duration": 161,
    "start_time": "2022-02-24T10:38:20.823Z"
   },
   {
    "duration": 20,
    "start_time": "2022-02-24T10:38:20.986Z"
   },
   {
    "duration": 32,
    "start_time": "2022-02-24T10:38:21.008Z"
   },
   {
    "duration": 6,
    "start_time": "2022-02-24T10:38:21.042Z"
   },
   {
    "duration": 41,
    "start_time": "2022-02-24T10:38:21.050Z"
   },
   {
    "duration": 14,
    "start_time": "2022-02-24T10:38:21.093Z"
   },
   {
    "duration": 31,
    "start_time": "2022-02-24T10:38:21.111Z"
   },
   {
    "duration": 32,
    "start_time": "2022-02-24T10:38:21.145Z"
   },
   {
    "duration": 35,
    "start_time": "2022-02-24T10:38:21.179Z"
   },
   {
    "duration": 92,
    "start_time": "2022-02-24T10:38:21.216Z"
   },
   {
    "duration": 84,
    "start_time": "2022-02-24T10:38:21.310Z"
   },
   {
    "duration": 54,
    "start_time": "2022-02-24T10:38:21.396Z"
   },
   {
    "duration": 20,
    "start_time": "2022-02-24T10:38:21.452Z"
   },
   {
    "duration": 3,
    "start_time": "2022-02-24T10:38:21.474Z"
   },
   {
    "duration": 24,
    "start_time": "2022-02-24T10:38:21.479Z"
   },
   {
    "duration": 8,
    "start_time": "2022-02-24T10:38:21.505Z"
   },
   {
    "duration": 369,
    "start_time": "2022-02-24T10:38:21.515Z"
   },
   {
    "duration": -54,
    "start_time": "2022-02-24T10:38:21.940Z"
   },
   {
    "duration": 105,
    "start_time": "2022-02-24T10:38:23.598Z"
   },
   {
    "duration": 401,
    "start_time": "2022-02-24T10:51:50.793Z"
   },
   {
    "duration": 4,
    "start_time": "2022-02-24T10:52:12.373Z"
   },
   {
    "duration": 4,
    "start_time": "2022-02-24T10:52:15.003Z"
   },
   {
    "duration": -57,
    "start_time": "2022-02-24T10:52:23.557Z"
   },
   {
    "duration": 4,
    "start_time": "2022-02-24T10:52:32.767Z"
   },
   {
    "duration": 3,
    "start_time": "2022-02-24T10:52:38.502Z"
   },
   {
    "duration": 165,
    "start_time": "2022-02-24T10:52:38.510Z"
   },
   {
    "duration": 12,
    "start_time": "2022-02-24T10:52:38.678Z"
   },
   {
    "duration": 28,
    "start_time": "2022-02-24T10:52:38.693Z"
   },
   {
    "duration": 5,
    "start_time": "2022-02-24T10:52:38.723Z"
   },
   {
    "duration": 41,
    "start_time": "2022-02-24T10:52:38.730Z"
   },
   {
    "duration": 3,
    "start_time": "2022-02-24T10:52:38.773Z"
   },
   {
    "duration": 29,
    "start_time": "2022-02-24T10:52:38.778Z"
   },
   {
    "duration": 20,
    "start_time": "2022-02-24T10:52:38.809Z"
   },
   {
    "duration": 46,
    "start_time": "2022-02-24T10:52:38.832Z"
   },
   {
    "duration": 64,
    "start_time": "2022-02-24T10:52:38.880Z"
   },
   {
    "duration": 83,
    "start_time": "2022-02-24T10:52:38.946Z"
   },
   {
    "duration": 71,
    "start_time": "2022-02-24T10:52:39.031Z"
   },
   {
    "duration": 7,
    "start_time": "2022-02-24T10:52:39.104Z"
   },
   {
    "duration": 7,
    "start_time": "2022-02-24T10:52:39.113Z"
   },
   {
    "duration": 32,
    "start_time": "2022-02-24T10:52:39.122Z"
   },
   {
    "duration": 16,
    "start_time": "2022-02-24T10:52:39.156Z"
   },
   {
    "duration": 303,
    "start_time": "2022-02-24T10:52:39.174Z"
   },
   {
    "duration": -18,
    "start_time": "2022-02-24T10:52:39.498Z"
   },
   {
    "duration": 2482,
    "start_time": "2022-02-24T10:52:42.703Z"
   },
   {
    "duration": 3,
    "start_time": "2022-02-24T10:52:59.755Z"
   },
   {
    "duration": 4,
    "start_time": "2022-02-24T10:53:03.796Z"
   },
   {
    "duration": 3,
    "start_time": "2022-02-24T10:53:07.612Z"
   },
   {
    "duration": 163,
    "start_time": "2022-02-24T10:53:07.618Z"
   },
   {
    "duration": 12,
    "start_time": "2022-02-24T10:53:07.783Z"
   },
   {
    "duration": 29,
    "start_time": "2022-02-24T10:53:07.798Z"
   },
   {
    "duration": 6,
    "start_time": "2022-02-24T10:53:07.829Z"
   },
   {
    "duration": 43,
    "start_time": "2022-02-24T10:53:07.837Z"
   },
   {
    "duration": 4,
    "start_time": "2022-02-24T10:53:07.883Z"
   },
   {
    "duration": 28,
    "start_time": "2022-02-24T10:53:07.889Z"
   },
   {
    "duration": 28,
    "start_time": "2022-02-24T10:53:07.920Z"
   },
   {
    "duration": 41,
    "start_time": "2022-02-24T10:53:07.950Z"
   },
   {
    "duration": 84,
    "start_time": "2022-02-24T10:53:07.994Z"
   },
   {
    "duration": 76,
    "start_time": "2022-02-24T10:53:08.080Z"
   },
   {
    "duration": 55,
    "start_time": "2022-02-24T10:53:08.170Z"
   },
   {
    "duration": 7,
    "start_time": "2022-02-24T10:53:08.226Z"
   },
   {
    "duration": 4,
    "start_time": "2022-02-24T10:53:08.234Z"
   },
   {
    "duration": 40,
    "start_time": "2022-02-24T10:53:08.239Z"
   },
   {
    "duration": 7,
    "start_time": "2022-02-24T10:53:08.281Z"
   },
   {
    "duration": 485,
    "start_time": "2022-02-24T10:53:08.290Z"
   },
   {
    "duration": -23,
    "start_time": "2022-02-24T10:53:08.801Z"
   },
   {
    "duration": 4,
    "start_time": "2022-02-24T10:53:13.276Z"
   },
   {
    "duration": 194,
    "start_time": "2022-02-24T10:53:13.282Z"
   },
   {
    "duration": 11,
    "start_time": "2022-02-24T10:53:13.479Z"
   },
   {
    "duration": 36,
    "start_time": "2022-02-24T10:53:13.492Z"
   },
   {
    "duration": 4,
    "start_time": "2022-02-24T10:53:13.530Z"
   },
   {
    "duration": 16,
    "start_time": "2022-02-24T10:53:13.536Z"
   },
   {
    "duration": 16,
    "start_time": "2022-02-24T10:53:13.554Z"
   },
   {
    "duration": 42,
    "start_time": "2022-02-24T10:53:13.574Z"
   },
   {
    "duration": 32,
    "start_time": "2022-02-24T10:53:13.618Z"
   },
   {
    "duration": 28,
    "start_time": "2022-02-24T10:53:13.653Z"
   },
   {
    "duration": 74,
    "start_time": "2022-02-24T10:53:13.683Z"
   },
   {
    "duration": 75,
    "start_time": "2022-02-24T10:53:13.759Z"
   },
   {
    "duration": 68,
    "start_time": "2022-02-24T10:53:13.836Z"
   },
   {
    "duration": 6,
    "start_time": "2022-02-24T10:53:13.906Z"
   },
   {
    "duration": 20,
    "start_time": "2022-02-24T10:53:13.914Z"
   },
   {
    "duration": 19,
    "start_time": "2022-02-24T10:53:13.936Z"
   },
   {
    "duration": 15,
    "start_time": "2022-02-24T10:53:13.957Z"
   },
   {
    "duration": 364,
    "start_time": "2022-02-24T10:53:13.974Z"
   },
   {
    "duration": -21,
    "start_time": "2022-02-24T10:53:14.362Z"
   },
   {
    "duration": -25,
    "start_time": "2022-02-24T10:53:14.367Z"
   },
   {
    "duration": -26,
    "start_time": "2022-02-24T10:53:14.370Z"
   },
   {
    "duration": -27,
    "start_time": "2022-02-24T10:53:14.373Z"
   },
   {
    "duration": -28,
    "start_time": "2022-02-24T10:53:14.376Z"
   },
   {
    "duration": -30,
    "start_time": "2022-02-24T10:53:14.379Z"
   },
   {
    "duration": -30,
    "start_time": "2022-02-24T10:53:14.381Z"
   },
   {
    "duration": -32,
    "start_time": "2022-02-24T10:53:14.384Z"
   },
   {
    "duration": -33,
    "start_time": "2022-02-24T10:53:14.387Z"
   },
   {
    "duration": -36,
    "start_time": "2022-02-24T10:53:14.391Z"
   },
   {
    "duration": -39,
    "start_time": "2022-02-24T10:53:14.395Z"
   },
   {
    "duration": -41,
    "start_time": "2022-02-24T10:53:14.398Z"
   },
   {
    "duration": -43,
    "start_time": "2022-02-24T10:53:14.401Z"
   },
   {
    "duration": -45,
    "start_time": "2022-02-24T10:53:14.404Z"
   },
   {
    "duration": -47,
    "start_time": "2022-02-24T10:53:14.407Z"
   },
   {
    "duration": -48,
    "start_time": "2022-02-24T10:53:14.409Z"
   },
   {
    "duration": -49,
    "start_time": "2022-02-24T10:53:14.412Z"
   },
   {
    "duration": -51,
    "start_time": "2022-02-24T10:53:14.415Z"
   },
   {
    "duration": -52,
    "start_time": "2022-02-24T10:53:14.417Z"
   },
   {
    "duration": -54,
    "start_time": "2022-02-24T10:53:14.420Z"
   },
   {
    "duration": 4,
    "start_time": "2022-02-24T10:53:21.479Z"
   },
   {
    "duration": 2447,
    "start_time": "2022-02-24T10:53:24.646Z"
   },
   {
    "duration": 3,
    "start_time": "2022-02-24T10:53:29.713Z"
   },
   {
    "duration": 169,
    "start_time": "2022-02-24T10:53:29.719Z"
   },
   {
    "duration": 13,
    "start_time": "2022-02-24T10:53:29.890Z"
   },
   {
    "duration": 33,
    "start_time": "2022-02-24T10:53:29.906Z"
   },
   {
    "duration": 5,
    "start_time": "2022-02-24T10:53:29.941Z"
   },
   {
    "duration": 13,
    "start_time": "2022-02-24T10:53:29.970Z"
   },
   {
    "duration": 4,
    "start_time": "2022-02-24T10:53:29.985Z"
   },
   {
    "duration": 27,
    "start_time": "2022-02-24T10:53:29.991Z"
   },
   {
    "duration": 44,
    "start_time": "2022-02-24T10:53:30.020Z"
   },
   {
    "duration": 25,
    "start_time": "2022-02-24T10:53:30.069Z"
   },
   {
    "duration": 88,
    "start_time": "2022-02-24T10:53:30.096Z"
   },
   {
    "duration": 88,
    "start_time": "2022-02-24T10:53:30.186Z"
   },
   {
    "duration": 64,
    "start_time": "2022-02-24T10:53:30.276Z"
   },
   {
    "duration": 27,
    "start_time": "2022-02-24T10:53:30.342Z"
   },
   {
    "duration": 3,
    "start_time": "2022-02-24T10:53:30.372Z"
   },
   {
    "duration": 37,
    "start_time": "2022-02-24T10:53:30.377Z"
   },
   {
    "duration": 23,
    "start_time": "2022-02-24T10:53:30.416Z"
   },
   {
    "duration": 407,
    "start_time": "2022-02-24T10:53:30.441Z"
   },
   {
    "duration": -12,
    "start_time": "2022-02-24T10:53:30.863Z"
   },
   {
    "duration": 92,
    "start_time": "2022-02-24T10:55:35.042Z"
   },
   {
    "duration": 101,
    "start_time": "2022-02-24T10:55:45.296Z"
   },
   {
    "duration": 91,
    "start_time": "2022-02-24T10:59:39.120Z"
   },
   {
    "duration": 4,
    "start_time": "2022-02-24T10:59:55.870Z"
   },
   {
    "duration": 4,
    "start_time": "2022-02-24T10:59:58.544Z"
   },
   {
    "duration": 3,
    "start_time": "2022-02-24T11:00:06.532Z"
   },
   {
    "duration": 3,
    "start_time": "2022-02-24T11:00:09.540Z"
   },
   {
    "duration": 166,
    "start_time": "2022-02-24T11:00:09.545Z"
   },
   {
    "duration": 11,
    "start_time": "2022-02-24T11:00:09.714Z"
   },
   {
    "duration": 42,
    "start_time": "2022-02-24T11:00:09.727Z"
   },
   {
    "duration": 12,
    "start_time": "2022-02-24T11:00:09.772Z"
   },
   {
    "duration": 22,
    "start_time": "2022-02-24T11:00:09.786Z"
   },
   {
    "duration": 4,
    "start_time": "2022-02-24T11:00:09.811Z"
   },
   {
    "duration": 40,
    "start_time": "2022-02-24T11:00:09.817Z"
   },
   {
    "duration": 52,
    "start_time": "2022-02-24T11:00:09.858Z"
   },
   {
    "duration": 30,
    "start_time": "2022-02-24T11:00:09.912Z"
   },
   {
    "duration": 69,
    "start_time": "2022-02-24T11:00:09.944Z"
   },
   {
    "duration": 85,
    "start_time": "2022-02-24T11:00:10.016Z"
   },
   {
    "duration": 78,
    "start_time": "2022-02-24T11:00:10.103Z"
   },
   {
    "duration": 8,
    "start_time": "2022-02-24T11:00:10.184Z"
   },
   {
    "duration": 13,
    "start_time": "2022-02-24T11:00:10.194Z"
   },
   {
    "duration": 37,
    "start_time": "2022-02-24T11:00:10.209Z"
   },
   {
    "duration": 22,
    "start_time": "2022-02-24T11:00:10.247Z"
   },
   {
    "duration": 320,
    "start_time": "2022-02-24T11:00:10.271Z"
   },
   {
    "duration": -8,
    "start_time": "2022-02-24T11:00:10.601Z"
   },
   {
    "duration": 3,
    "start_time": "2022-02-24T11:00:12.139Z"
   },
   {
    "duration": 18,
    "start_time": "2022-02-24T11:00:14.783Z"
   },
   {
    "duration": 11,
    "start_time": "2022-02-24T11:00:34.832Z"
   },
   {
    "duration": 300,
    "start_time": "2022-02-24T11:00:37.906Z"
   },
   {
    "duration": 11,
    "start_time": "2022-02-24T11:01:02.428Z"
   },
   {
    "duration": 4,
    "start_time": "2022-02-24T11:01:13.188Z"
   },
   {
    "duration": 4,
    "start_time": "2022-02-24T11:01:16.785Z"
   },
   {
    "duration": 16,
    "start_time": "2022-02-24T11:01:28.962Z"
   },
   {
    "duration": 16,
    "start_time": "2022-02-24T11:01:31.770Z"
   },
   {
    "duration": 16,
    "start_time": "2022-02-24T11:12:54.722Z"
   },
   {
    "duration": 19,
    "start_time": "2022-02-24T11:12:57.217Z"
   },
   {
    "duration": 17,
    "start_time": "2022-02-24T11:12:59.386Z"
   },
   {
    "duration": 351,
    "start_time": "2022-02-24T11:17:11.297Z"
   },
   {
    "duration": 93,
    "start_time": "2022-02-24T11:31:55.520Z"
   },
   {
    "duration": 309,
    "start_time": "2022-02-24T11:32:29.348Z"
   },
   {
    "duration": 119,
    "start_time": "2022-02-24T11:44:15.126Z"
   },
   {
    "duration": 100,
    "start_time": "2022-02-24T11:44:23.892Z"
   },
   {
    "duration": 293,
    "start_time": "2022-02-24T11:44:33.191Z"
   },
   {
    "duration": 412,
    "start_time": "2022-02-24T11:46:30.755Z"
   },
   {
    "duration": 360,
    "start_time": "2022-02-24T11:46:33.659Z"
   },
   {
    "duration": 301,
    "start_time": "2022-02-24T11:48:36.565Z"
   },
   {
    "duration": 297,
    "start_time": "2022-02-24T11:48:54.150Z"
   },
   {
    "duration": 7,
    "start_time": "2022-02-24T11:49:23.032Z"
   },
   {
    "duration": 15,
    "start_time": "2022-02-24T12:33:06.364Z"
   },
   {
    "duration": 2,
    "start_time": "2022-02-24T12:33:10.904Z"
   },
   {
    "duration": 181,
    "start_time": "2022-02-24T12:33:10.917Z"
   },
   {
    "duration": 12,
    "start_time": "2022-02-24T12:33:11.100Z"
   },
   {
    "duration": 33,
    "start_time": "2022-02-24T12:33:11.114Z"
   },
   {
    "duration": 4,
    "start_time": "2022-02-24T12:33:11.149Z"
   },
   {
    "duration": 20,
    "start_time": "2022-02-24T12:33:11.170Z"
   },
   {
    "duration": 4,
    "start_time": "2022-02-24T12:33:11.193Z"
   },
   {
    "duration": 30,
    "start_time": "2022-02-24T12:33:11.198Z"
   },
   {
    "duration": 49,
    "start_time": "2022-02-24T12:33:11.230Z"
   },
   {
    "duration": 31,
    "start_time": "2022-02-24T12:33:11.284Z"
   },
   {
    "duration": 84,
    "start_time": "2022-02-24T12:33:11.317Z"
   },
   {
    "duration": 82,
    "start_time": "2022-02-24T12:33:11.403Z"
   },
   {
    "duration": 53,
    "start_time": "2022-02-24T12:33:11.487Z"
   },
   {
    "duration": 6,
    "start_time": "2022-02-24T12:33:11.542Z"
   },
   {
    "duration": 20,
    "start_time": "2022-02-24T12:33:11.549Z"
   },
   {
    "duration": 23,
    "start_time": "2022-02-24T12:33:11.572Z"
   },
   {
    "duration": 6,
    "start_time": "2022-02-24T12:33:11.597Z"
   },
   {
    "duration": 12,
    "start_time": "2022-02-24T12:33:11.604Z"
   },
   {
    "duration": 11,
    "start_time": "2022-02-24T12:33:11.618Z"
   },
   {
    "duration": 3,
    "start_time": "2022-02-24T12:33:11.631Z"
   },
   {
    "duration": 23,
    "start_time": "2022-02-24T12:33:11.669Z"
   },
   {
    "duration": 16,
    "start_time": "2022-02-24T12:33:11.694Z"
   },
   {
    "duration": 20,
    "start_time": "2022-02-24T12:33:11.712Z"
   },
   {
    "duration": 40,
    "start_time": "2022-02-24T12:33:11.734Z"
   },
   {
    "duration": 21,
    "start_time": "2022-02-24T12:33:11.777Z"
   },
   {
    "duration": 16,
    "start_time": "2022-02-24T12:33:11.800Z"
   },
   {
    "duration": 7,
    "start_time": "2022-02-24T12:33:11.818Z"
   },
   {
    "duration": 13,
    "start_time": "2022-02-24T12:33:13.792Z"
   },
   {
    "duration": 23,
    "start_time": "2022-02-24T12:33:35.461Z"
   },
   {
    "duration": 14,
    "start_time": "2022-02-24T12:34:35.294Z"
   },
   {
    "duration": 95,
    "start_time": "2022-02-24T12:57:04.256Z"
   },
   {
    "duration": 555,
    "start_time": "2022-02-24T12:57:18.193Z"
   },
   {
    "duration": 575,
    "start_time": "2022-02-24T12:58:16.501Z"
   },
   {
    "duration": 533,
    "start_time": "2022-02-24T12:59:16.053Z"
   },
   {
    "duration": 513,
    "start_time": "2022-02-24T13:01:22.586Z"
   },
   {
    "duration": 563,
    "start_time": "2022-02-24T13:01:35.841Z"
   },
   {
    "duration": 4,
    "start_time": "2022-02-24T13:02:08.221Z"
   },
   {
    "duration": 6,
    "start_time": "2022-02-24T13:02:12.312Z"
   },
   {
    "duration": 742,
    "start_time": "2022-02-24T13:02:35.672Z"
   },
   {
    "duration": 5,
    "start_time": "2022-02-24T13:02:50.371Z"
   },
   {
    "duration": 4,
    "start_time": "2022-02-24T13:02:53.132Z"
   },
   {
    "duration": 3,
    "start_time": "2022-02-24T13:02:57.974Z"
   },
   {
    "duration": 163,
    "start_time": "2022-02-24T13:02:57.981Z"
   },
   {
    "duration": 23,
    "start_time": "2022-02-24T13:02:58.146Z"
   },
   {
    "duration": 26,
    "start_time": "2022-02-24T13:02:58.172Z"
   },
   {
    "duration": 4,
    "start_time": "2022-02-24T13:02:58.200Z"
   },
   {
    "duration": 15,
    "start_time": "2022-02-24T13:02:58.206Z"
   },
   {
    "duration": 3,
    "start_time": "2022-02-24T13:02:58.223Z"
   },
   {
    "duration": 62,
    "start_time": "2022-02-24T13:02:58.228Z"
   },
   {
    "duration": 20,
    "start_time": "2022-02-24T13:02:58.292Z"
   },
   {
    "duration": 25,
    "start_time": "2022-02-24T13:02:58.315Z"
   },
   {
    "duration": 85,
    "start_time": "2022-02-24T13:02:58.343Z"
   },
   {
    "duration": 79,
    "start_time": "2022-02-24T13:02:58.430Z"
   },
   {
    "duration": 65,
    "start_time": "2022-02-24T13:02:58.511Z"
   },
   {
    "duration": 7,
    "start_time": "2022-02-24T13:02:58.578Z"
   },
   {
    "duration": 4,
    "start_time": "2022-02-24T13:02:58.586Z"
   },
   {
    "duration": 46,
    "start_time": "2022-02-24T13:02:58.592Z"
   },
   {
    "duration": 8,
    "start_time": "2022-02-24T13:02:58.640Z"
   },
   {
    "duration": 15,
    "start_time": "2022-02-24T13:02:58.651Z"
   },
   {
    "duration": 11,
    "start_time": "2022-02-24T13:02:58.670Z"
   },
   {
    "duration": 4,
    "start_time": "2022-02-24T13:02:58.683Z"
   },
   {
    "duration": 26,
    "start_time": "2022-02-24T13:02:58.690Z"
   },
   {
    "duration": 19,
    "start_time": "2022-02-24T13:02:58.718Z"
   },
   {
    "duration": 52,
    "start_time": "2022-02-24T13:02:58.739Z"
   },
   {
    "duration": 26,
    "start_time": "2022-02-24T13:02:58.794Z"
   },
   {
    "duration": 19,
    "start_time": "2022-02-24T13:02:58.822Z"
   },
   {
    "duration": 39,
    "start_time": "2022-02-24T13:02:58.843Z"
   },
   {
    "duration": 9,
    "start_time": "2022-02-24T13:02:58.885Z"
   },
   {
    "duration": 25,
    "start_time": "2022-02-24T13:02:58.897Z"
   },
   {
    "duration": 49,
    "start_time": "2022-02-24T13:02:58.924Z"
   },
   {
    "duration": 5,
    "start_time": "2022-02-24T13:03:01.135Z"
   },
   {
    "duration": 5,
    "start_time": "2022-02-24T13:03:09.539Z"
   },
   {
    "duration": 20,
    "start_time": "2022-02-24T13:06:51.168Z"
   },
   {
    "duration": 12,
    "start_time": "2022-02-24T13:09:00.451Z"
   },
   {
    "duration": 20,
    "start_time": "2022-02-24T13:09:07.941Z"
   },
   {
    "duration": 13,
    "start_time": "2022-02-24T13:09:10.947Z"
   },
   {
    "duration": 14,
    "start_time": "2022-02-24T13:09:50.861Z"
   },
   {
    "duration": 14,
    "start_time": "2022-02-24T13:10:19.845Z"
   },
   {
    "duration": 285,
    "start_time": "2022-02-24T13:17:30.891Z"
   },
   {
    "duration": 9,
    "start_time": "2022-02-24T13:21:31.497Z"
   },
   {
    "duration": 8,
    "start_time": "2022-02-24T13:21:33.646Z"
   },
   {
    "duration": 4,
    "start_time": "2022-02-24T13:21:41.582Z"
   },
   {
    "duration": 8,
    "start_time": "2022-02-24T13:23:22.421Z"
   },
   {
    "duration": 276,
    "start_time": "2022-02-24T13:25:43.742Z"
   },
   {
    "duration": 6,
    "start_time": "2022-02-24T13:26:24.417Z"
   },
   {
    "duration": 4,
    "start_time": "2022-02-24T13:26:26.184Z"
   },
   {
    "duration": 3,
    "start_time": "2022-02-24T13:27:20.472Z"
   },
   {
    "duration": 185,
    "start_time": "2022-02-24T13:27:20.478Z"
   },
   {
    "duration": 14,
    "start_time": "2022-02-24T13:27:20.665Z"
   },
   {
    "duration": 28,
    "start_time": "2022-02-24T13:27:20.681Z"
   },
   {
    "duration": 4,
    "start_time": "2022-02-24T13:27:20.712Z"
   },
   {
    "duration": 17,
    "start_time": "2022-02-24T13:27:20.718Z"
   },
   {
    "duration": 34,
    "start_time": "2022-02-24T13:27:20.737Z"
   },
   {
    "duration": 31,
    "start_time": "2022-02-24T13:27:20.773Z"
   },
   {
    "duration": 20,
    "start_time": "2022-02-24T13:27:20.809Z"
   },
   {
    "duration": 44,
    "start_time": "2022-02-24T13:27:20.833Z"
   },
   {
    "duration": 63,
    "start_time": "2022-02-24T13:27:20.880Z"
   },
   {
    "duration": 95,
    "start_time": "2022-02-24T13:27:20.946Z"
   },
   {
    "duration": 76,
    "start_time": "2022-02-24T13:27:21.043Z"
   },
   {
    "duration": 13,
    "start_time": "2022-02-24T13:27:21.121Z"
   },
   {
    "duration": 7,
    "start_time": "2022-02-24T13:27:21.136Z"
   },
   {
    "duration": 34,
    "start_time": "2022-02-24T13:27:21.145Z"
   },
   {
    "duration": 7,
    "start_time": "2022-02-24T13:27:21.181Z"
   },
   {
    "duration": 13,
    "start_time": "2022-02-24T13:27:21.190Z"
   },
   {
    "duration": 13,
    "start_time": "2022-02-24T13:27:21.205Z"
   },
   {
    "duration": 5,
    "start_time": "2022-02-24T13:27:21.220Z"
   },
   {
    "duration": 20,
    "start_time": "2022-02-24T13:27:21.269Z"
   },
   {
    "duration": 16,
    "start_time": "2022-02-24T13:27:21.291Z"
   },
   {
    "duration": 20,
    "start_time": "2022-02-24T13:27:21.310Z"
   },
   {
    "duration": 52,
    "start_time": "2022-02-24T13:27:21.333Z"
   },
   {
    "duration": 28,
    "start_time": "2022-02-24T13:27:21.388Z"
   },
   {
    "duration": 17,
    "start_time": "2022-02-24T13:27:21.418Z"
   },
   {
    "duration": 36,
    "start_time": "2022-02-24T13:27:21.439Z"
   },
   {
    "duration": 27,
    "start_time": "2022-02-24T13:27:21.477Z"
   },
   {
    "duration": 18,
    "start_time": "2022-02-24T13:27:21.506Z"
   },
   {
    "duration": 4,
    "start_time": "2022-02-24T13:27:21.526Z"
   },
   {
    "duration": 61,
    "start_time": "2022-02-24T13:27:21.532Z"
   },
   {
    "duration": 18,
    "start_time": "2022-02-24T13:27:21.595Z"
   },
   {
    "duration": 22,
    "start_time": "2022-02-24T13:27:21.615Z"
   },
   {
    "duration": 37,
    "start_time": "2022-02-24T13:27:21.638Z"
   },
   {
    "duration": 13,
    "start_time": "2022-02-24T13:27:21.677Z"
   },
   {
    "duration": 5,
    "start_time": "2022-02-24T13:27:21.692Z"
   },
   {
    "duration": 19,
    "start_time": "2022-02-24T13:27:21.699Z"
   },
   {
    "duration": 6,
    "start_time": "2022-02-24T13:27:21.721Z"
   },
   {
    "duration": 401,
    "start_time": "2023-01-05T10:31:42.877Z"
   },
   {
    "duration": 229,
    "start_time": "2023-01-05T10:31:43.280Z"
   },
   {
    "duration": 17,
    "start_time": "2023-01-05T10:31:43.511Z"
   },
   {
    "duration": 40,
    "start_time": "2023-01-05T10:31:43.530Z"
   },
   {
    "duration": 18,
    "start_time": "2023-01-05T10:31:43.571Z"
   },
   {
    "duration": 28,
    "start_time": "2023-01-05T10:31:43.591Z"
   },
   {
    "duration": 33,
    "start_time": "2023-01-05T10:31:43.620Z"
   },
   {
    "duration": 37,
    "start_time": "2023-01-05T10:31:43.655Z"
   },
   {
    "duration": 43,
    "start_time": "2023-01-05T10:31:43.694Z"
   },
   {
    "duration": 33,
    "start_time": "2023-01-05T10:31:43.739Z"
   },
   {
    "duration": 71,
    "start_time": "2023-01-05T10:31:43.774Z"
   },
   {
    "duration": 83,
    "start_time": "2023-01-05T10:31:43.847Z"
   },
   {
    "duration": 65,
    "start_time": "2023-01-05T10:31:43.933Z"
   },
   {
    "duration": 7,
    "start_time": "2023-01-05T10:31:44.000Z"
   },
   {
    "duration": 16,
    "start_time": "2023-01-05T10:31:44.008Z"
   },
   {
    "duration": 35,
    "start_time": "2023-01-05T10:31:44.026Z"
   },
   {
    "duration": 7,
    "start_time": "2023-01-05T10:31:44.062Z"
   },
   {
    "duration": 46,
    "start_time": "2023-01-05T10:31:44.070Z"
   },
   {
    "duration": 22,
    "start_time": "2023-01-05T10:31:44.118Z"
   },
   {
    "duration": 17,
    "start_time": "2023-01-05T10:31:44.141Z"
   },
   {
    "duration": 41,
    "start_time": "2023-01-05T10:31:44.160Z"
   },
   {
    "duration": 23,
    "start_time": "2023-01-05T10:31:44.203Z"
   },
   {
    "duration": 30,
    "start_time": "2023-01-05T10:31:44.228Z"
   },
   {
    "duration": 32,
    "start_time": "2023-01-05T10:31:44.260Z"
   },
   {
    "duration": 28,
    "start_time": "2023-01-05T10:31:44.294Z"
   },
   {
    "duration": 24,
    "start_time": "2023-01-05T10:31:44.324Z"
   },
   {
    "duration": 30,
    "start_time": "2023-01-05T10:31:44.350Z"
   },
   {
    "duration": 26,
    "start_time": "2023-01-05T10:31:44.383Z"
   },
   {
    "duration": 29,
    "start_time": "2023-01-05T10:31:44.410Z"
   },
   {
    "duration": 16,
    "start_time": "2023-01-05T10:31:44.441Z"
   },
   {
    "duration": 38,
    "start_time": "2023-01-05T10:31:44.458Z"
   },
   {
    "duration": 34,
    "start_time": "2023-01-05T10:31:44.500Z"
   },
   {
    "duration": 23,
    "start_time": "2023-01-05T10:31:44.535Z"
   },
   {
    "duration": 29,
    "start_time": "2023-01-05T10:31:44.559Z"
   },
   {
    "duration": 12,
    "start_time": "2023-01-05T10:31:44.590Z"
   },
   {
    "duration": 43,
    "start_time": "2023-01-05T10:31:44.603Z"
   },
   {
    "duration": 18,
    "start_time": "2023-01-05T10:31:44.648Z"
   },
   {
    "duration": 381,
    "start_time": "2023-01-05T10:53:26.093Z"
   },
   {
    "duration": 239,
    "start_time": "2023-01-05T10:53:26.476Z"
   },
   {
    "duration": 4,
    "start_time": "2023-01-05T10:53:26.717Z"
   },
   {
    "duration": 100,
    "start_time": "2023-01-05T10:53:26.723Z"
   },
   {
    "duration": 0,
    "start_time": "2023-01-05T10:53:26.826Z"
   },
   {
    "duration": 0,
    "start_time": "2023-01-05T10:53:26.827Z"
   },
   {
    "duration": 0,
    "start_time": "2023-01-05T10:53:26.828Z"
   },
   {
    "duration": 0,
    "start_time": "2023-01-05T10:53:26.829Z"
   },
   {
    "duration": 0,
    "start_time": "2023-01-05T10:53:26.829Z"
   },
   {
    "duration": 0,
    "start_time": "2023-01-05T10:53:26.831Z"
   },
   {
    "duration": 0,
    "start_time": "2023-01-05T10:53:26.831Z"
   },
   {
    "duration": 0,
    "start_time": "2023-01-05T10:53:26.833Z"
   },
   {
    "duration": 0,
    "start_time": "2023-01-05T10:53:26.834Z"
   },
   {
    "duration": 0,
    "start_time": "2023-01-05T10:53:26.835Z"
   },
   {
    "duration": 0,
    "start_time": "2023-01-05T10:53:26.836Z"
   },
   {
    "duration": 0,
    "start_time": "2023-01-05T10:53:26.837Z"
   },
   {
    "duration": 0,
    "start_time": "2023-01-05T10:53:26.838Z"
   },
   {
    "duration": 0,
    "start_time": "2023-01-05T10:53:26.839Z"
   },
   {
    "duration": 0,
    "start_time": "2023-01-05T10:53:26.840Z"
   },
   {
    "duration": 0,
    "start_time": "2023-01-05T10:53:26.841Z"
   },
   {
    "duration": 0,
    "start_time": "2023-01-05T10:53:26.842Z"
   },
   {
    "duration": 0,
    "start_time": "2023-01-05T10:53:26.843Z"
   },
   {
    "duration": 0,
    "start_time": "2023-01-05T10:53:26.844Z"
   },
   {
    "duration": 0,
    "start_time": "2023-01-05T10:53:26.845Z"
   },
   {
    "duration": 0,
    "start_time": "2023-01-05T10:53:26.846Z"
   },
   {
    "duration": 0,
    "start_time": "2023-01-05T10:53:26.847Z"
   },
   {
    "duration": 0,
    "start_time": "2023-01-05T10:53:26.877Z"
   },
   {
    "duration": 0,
    "start_time": "2023-01-05T10:53:26.879Z"
   },
   {
    "duration": 0,
    "start_time": "2023-01-05T10:53:26.880Z"
   },
   {
    "duration": 0,
    "start_time": "2023-01-05T10:53:26.881Z"
   },
   {
    "duration": 0,
    "start_time": "2023-01-05T10:53:26.882Z"
   },
   {
    "duration": 0,
    "start_time": "2023-01-05T10:53:26.883Z"
   },
   {
    "duration": 0,
    "start_time": "2023-01-05T10:53:26.884Z"
   },
   {
    "duration": 0,
    "start_time": "2023-01-05T10:53:26.885Z"
   },
   {
    "duration": 0,
    "start_time": "2023-01-05T10:53:26.886Z"
   },
   {
    "duration": 0,
    "start_time": "2023-01-05T10:53:26.887Z"
   },
   {
    "duration": 0,
    "start_time": "2023-01-05T10:53:26.888Z"
   },
   {
    "duration": 0,
    "start_time": "2023-01-05T10:53:26.889Z"
   },
   {
    "duration": 419,
    "start_time": "2023-01-05T10:54:00.942Z"
   },
   {
    "duration": 192,
    "start_time": "2023-01-05T10:54:01.363Z"
   },
   {
    "duration": 3,
    "start_time": "2023-01-05T10:54:01.556Z"
   },
   {
    "duration": 32,
    "start_time": "2023-01-05T10:54:01.561Z"
   },
   {
    "duration": 31,
    "start_time": "2023-01-05T10:54:01.595Z"
   },
   {
    "duration": 5,
    "start_time": "2023-01-05T10:54:01.627Z"
   },
   {
    "duration": 15,
    "start_time": "2023-01-05T10:54:01.634Z"
   },
   {
    "duration": 12,
    "start_time": "2023-01-05T10:54:01.651Z"
   },
   {
    "duration": 27,
    "start_time": "2023-01-05T10:54:01.665Z"
   },
   {
    "duration": 831,
    "start_time": "2023-01-05T10:54:01.695Z"
   },
   {
    "duration": 0,
    "start_time": "2023-01-05T10:54:02.529Z"
   },
   {
    "duration": 0,
    "start_time": "2023-01-05T10:54:02.531Z"
   },
   {
    "duration": 0,
    "start_time": "2023-01-05T10:54:02.532Z"
   },
   {
    "duration": 0,
    "start_time": "2023-01-05T10:54:02.534Z"
   },
   {
    "duration": 0,
    "start_time": "2023-01-05T10:54:02.535Z"
   },
   {
    "duration": 0,
    "start_time": "2023-01-05T10:54:02.536Z"
   },
   {
    "duration": 0,
    "start_time": "2023-01-05T10:54:02.537Z"
   },
   {
    "duration": 0,
    "start_time": "2023-01-05T10:54:02.538Z"
   },
   {
    "duration": 0,
    "start_time": "2023-01-05T10:54:02.539Z"
   },
   {
    "duration": 0,
    "start_time": "2023-01-05T10:54:02.540Z"
   },
   {
    "duration": 0,
    "start_time": "2023-01-05T10:54:02.541Z"
   },
   {
    "duration": 0,
    "start_time": "2023-01-05T10:54:02.542Z"
   },
   {
    "duration": 0,
    "start_time": "2023-01-05T10:54:02.543Z"
   },
   {
    "duration": 0,
    "start_time": "2023-01-05T10:54:02.544Z"
   },
   {
    "duration": 0,
    "start_time": "2023-01-05T10:54:02.545Z"
   },
   {
    "duration": 0,
    "start_time": "2023-01-05T10:54:02.546Z"
   },
   {
    "duration": 0,
    "start_time": "2023-01-05T10:54:02.547Z"
   },
   {
    "duration": 0,
    "start_time": "2023-01-05T10:54:02.548Z"
   },
   {
    "duration": 0,
    "start_time": "2023-01-05T10:54:02.549Z"
   },
   {
    "duration": 0,
    "start_time": "2023-01-05T10:54:02.550Z"
   },
   {
    "duration": 0,
    "start_time": "2023-01-05T10:54:02.552Z"
   },
   {
    "duration": 0,
    "start_time": "2023-01-05T10:54:02.553Z"
   },
   {
    "duration": 0,
    "start_time": "2023-01-05T10:54:02.553Z"
   },
   {
    "duration": 0,
    "start_time": "2023-01-05T10:54:02.554Z"
   },
   {
    "duration": 0,
    "start_time": "2023-01-05T10:54:02.556Z"
   },
   {
    "duration": 0,
    "start_time": "2023-01-05T10:54:02.557Z"
   },
   {
    "duration": 0,
    "start_time": "2023-01-05T10:54:02.558Z"
   },
   {
    "duration": 0,
    "start_time": "2023-01-05T10:54:02.559Z"
   },
   {
    "duration": 427,
    "start_time": "2023-01-05T10:54:54.561Z"
   },
   {
    "duration": 2,
    "start_time": "2023-01-05T10:54:54.990Z"
   },
   {
    "duration": 177,
    "start_time": "2023-01-05T10:54:54.994Z"
   },
   {
    "duration": 18,
    "start_time": "2023-01-05T10:54:55.174Z"
   },
   {
    "duration": 28,
    "start_time": "2023-01-05T10:54:55.193Z"
   },
   {
    "duration": 4,
    "start_time": "2023-01-05T10:54:55.223Z"
   },
   {
    "duration": 13,
    "start_time": "2023-01-05T10:54:55.228Z"
   },
   {
    "duration": 36,
    "start_time": "2023-01-05T10:54:55.243Z"
   },
   {
    "duration": 25,
    "start_time": "2023-01-05T10:54:55.281Z"
   },
   {
    "duration": 22,
    "start_time": "2023-01-05T10:54:55.308Z"
   },
   {
    "duration": 46,
    "start_time": "2023-01-05T10:54:55.332Z"
   },
   {
    "duration": 63,
    "start_time": "2023-01-05T10:54:55.380Z"
   },
   {
    "duration": 94,
    "start_time": "2023-01-05T10:54:55.445Z"
   },
   {
    "duration": 70,
    "start_time": "2023-01-05T10:54:55.541Z"
   },
   {
    "duration": 7,
    "start_time": "2023-01-05T10:54:55.613Z"
   },
   {
    "duration": 5,
    "start_time": "2023-01-05T10:54:55.621Z"
   },
   {
    "duration": 18,
    "start_time": "2023-01-05T10:54:55.627Z"
   },
   {
    "duration": 31,
    "start_time": "2023-01-05T10:54:55.647Z"
   },
   {
    "duration": 12,
    "start_time": "2023-01-05T10:54:55.679Z"
   },
   {
    "duration": 11,
    "start_time": "2023-01-05T10:54:55.692Z"
   },
   {
    "duration": 4,
    "start_time": "2023-01-05T10:54:55.705Z"
   },
   {
    "duration": 19,
    "start_time": "2023-01-05T10:54:55.710Z"
   },
   {
    "duration": 13,
    "start_time": "2023-01-05T10:54:55.731Z"
   },
   {
    "duration": 38,
    "start_time": "2023-01-05T10:54:55.746Z"
   },
   {
    "duration": 14,
    "start_time": "2023-01-05T10:54:55.786Z"
   },
   {
    "duration": 17,
    "start_time": "2023-01-05T10:54:55.802Z"
   },
   {
    "duration": 18,
    "start_time": "2023-01-05T10:54:55.821Z"
   },
   {
    "duration": 41,
    "start_time": "2023-01-05T10:54:55.845Z"
   },
   {
    "duration": 24,
    "start_time": "2023-01-05T10:54:55.888Z"
   },
   {
    "duration": 18,
    "start_time": "2023-01-05T10:54:55.914Z"
   },
   {
    "duration": 5,
    "start_time": "2023-01-05T10:54:55.933Z"
   },
   {
    "duration": 45,
    "start_time": "2023-01-05T10:54:55.940Z"
   },
   {
    "duration": 11,
    "start_time": "2023-01-05T10:54:55.987Z"
   },
   {
    "duration": 11,
    "start_time": "2023-01-05T10:54:56.000Z"
   },
   {
    "duration": 8,
    "start_time": "2023-01-05T10:54:56.013Z"
   },
   {
    "duration": 4,
    "start_time": "2023-01-05T10:54:56.023Z"
   },
   {
    "duration": 7,
    "start_time": "2023-01-05T10:54:56.029Z"
   },
   {
    "duration": 41,
    "start_time": "2023-01-05T10:54:56.037Z"
   },
   {
    "duration": 425,
    "start_time": "2023-01-05T10:55:55.093Z"
   },
   {
    "duration": 126,
    "start_time": "2023-01-05T10:55:55.521Z"
   },
   {
    "duration": 0,
    "start_time": "2023-01-05T10:55:55.664Z"
   },
   {
    "duration": 0,
    "start_time": "2023-01-05T10:55:55.666Z"
   },
   {
    "duration": 0,
    "start_time": "2023-01-05T10:55:55.667Z"
   },
   {
    "duration": 0,
    "start_time": "2023-01-05T10:55:55.669Z"
   },
   {
    "duration": 0,
    "start_time": "2023-01-05T10:55:55.671Z"
   },
   {
    "duration": 0,
    "start_time": "2023-01-05T10:55:55.672Z"
   },
   {
    "duration": 0,
    "start_time": "2023-01-05T10:55:55.674Z"
   },
   {
    "duration": 0,
    "start_time": "2023-01-05T10:55:55.675Z"
   },
   {
    "duration": 0,
    "start_time": "2023-01-05T10:55:55.677Z"
   },
   {
    "duration": 0,
    "start_time": "2023-01-05T10:55:55.678Z"
   },
   {
    "duration": 0,
    "start_time": "2023-01-05T10:55:55.680Z"
   },
   {
    "duration": 0,
    "start_time": "2023-01-05T10:55:55.681Z"
   },
   {
    "duration": 0,
    "start_time": "2023-01-05T10:55:55.684Z"
   },
   {
    "duration": 0,
    "start_time": "2023-01-05T10:55:55.685Z"
   },
   {
    "duration": 0,
    "start_time": "2023-01-05T10:55:55.686Z"
   },
   {
    "duration": 0,
    "start_time": "2023-01-05T10:55:55.688Z"
   },
   {
    "duration": 1,
    "start_time": "2023-01-05T10:55:55.689Z"
   },
   {
    "duration": 0,
    "start_time": "2023-01-05T10:55:55.691Z"
   },
   {
    "duration": 0,
    "start_time": "2023-01-05T10:55:55.692Z"
   },
   {
    "duration": 0,
    "start_time": "2023-01-05T10:55:55.693Z"
   },
   {
    "duration": 0,
    "start_time": "2023-01-05T10:55:55.694Z"
   },
   {
    "duration": 1,
    "start_time": "2023-01-05T10:55:55.695Z"
   },
   {
    "duration": 0,
    "start_time": "2023-01-05T10:55:55.697Z"
   },
   {
    "duration": 0,
    "start_time": "2023-01-05T10:55:55.698Z"
   },
   {
    "duration": 0,
    "start_time": "2023-01-05T10:55:55.699Z"
   },
   {
    "duration": 0,
    "start_time": "2023-01-05T10:55:55.700Z"
   },
   {
    "duration": 0,
    "start_time": "2023-01-05T10:55:55.701Z"
   },
   {
    "duration": 0,
    "start_time": "2023-01-05T10:55:55.702Z"
   },
   {
    "duration": 0,
    "start_time": "2023-01-05T10:55:55.704Z"
   },
   {
    "duration": 0,
    "start_time": "2023-01-05T10:55:55.704Z"
   },
   {
    "duration": 0,
    "start_time": "2023-01-05T10:55:55.706Z"
   },
   {
    "duration": 0,
    "start_time": "2023-01-05T10:55:55.707Z"
   },
   {
    "duration": 0,
    "start_time": "2023-01-05T10:55:55.708Z"
   },
   {
    "duration": 0,
    "start_time": "2023-01-05T10:55:55.709Z"
   },
   {
    "duration": 0,
    "start_time": "2023-01-05T10:55:55.710Z"
   },
   {
    "duration": 0,
    "start_time": "2023-01-05T10:55:55.711Z"
   },
   {
    "duration": 387,
    "start_time": "2023-01-05T10:56:35.397Z"
   },
   {
    "duration": 215,
    "start_time": "2023-01-05T10:56:35.786Z"
   },
   {
    "duration": 2,
    "start_time": "2023-01-05T10:56:36.003Z"
   },
   {
    "duration": 23,
    "start_time": "2023-01-05T10:56:36.008Z"
   },
   {
    "duration": 45,
    "start_time": "2023-01-05T10:56:36.033Z"
   },
   {
    "duration": 5,
    "start_time": "2023-01-05T10:56:36.079Z"
   },
   {
    "duration": 24,
    "start_time": "2023-01-05T10:56:36.085Z"
   },
   {
    "duration": 12,
    "start_time": "2023-01-05T10:56:36.112Z"
   },
   {
    "duration": 32,
    "start_time": "2023-01-05T10:56:36.126Z"
   },
   {
    "duration": 24,
    "start_time": "2023-01-05T10:56:36.160Z"
   },
   {
    "duration": 23,
    "start_time": "2023-01-05T10:56:36.186Z"
   },
   {
    "duration": 85,
    "start_time": "2023-01-05T10:56:36.211Z"
   },
   {
    "duration": 85,
    "start_time": "2023-01-05T10:56:36.298Z"
   },
   {
    "duration": 62,
    "start_time": "2023-01-05T10:56:36.385Z"
   },
   {
    "duration": 7,
    "start_time": "2023-01-05T10:56:36.448Z"
   },
   {
    "duration": 22,
    "start_time": "2023-01-05T10:56:36.457Z"
   },
   {
    "duration": 19,
    "start_time": "2023-01-05T10:56:36.480Z"
   },
   {
    "duration": 7,
    "start_time": "2023-01-05T10:56:36.500Z"
   },
   {
    "duration": 15,
    "start_time": "2023-01-05T10:56:36.509Z"
   },
   {
    "duration": 17,
    "start_time": "2023-01-05T10:56:36.526Z"
   },
   {
    "duration": 35,
    "start_time": "2023-01-05T10:56:36.545Z"
   },
   {
    "duration": 20,
    "start_time": "2023-01-05T10:56:36.582Z"
   },
   {
    "duration": 13,
    "start_time": "2023-01-05T10:56:36.604Z"
   },
   {
    "duration": 15,
    "start_time": "2023-01-05T10:56:36.619Z"
   },
   {
    "duration": 14,
    "start_time": "2023-01-05T10:56:36.636Z"
   },
   {
    "duration": 17,
    "start_time": "2023-01-05T10:56:36.678Z"
   },
   {
    "duration": 14,
    "start_time": "2023-01-05T10:56:36.697Z"
   },
   {
    "duration": 7,
    "start_time": "2023-01-05T10:56:36.715Z"
   },
   {
    "duration": 18,
    "start_time": "2023-01-05T10:56:36.724Z"
   },
   {
    "duration": 46,
    "start_time": "2023-01-05T10:56:36.745Z"
   },
   {
    "duration": 5,
    "start_time": "2023-01-05T10:56:36.793Z"
   },
   {
    "duration": 49,
    "start_time": "2023-01-05T10:56:36.800Z"
   },
   {
    "duration": 44,
    "start_time": "2023-01-05T10:56:36.851Z"
   },
   {
    "duration": 19,
    "start_time": "2023-01-05T10:56:36.898Z"
   },
   {
    "duration": 29,
    "start_time": "2023-01-05T10:56:36.918Z"
   },
   {
    "duration": 6,
    "start_time": "2023-01-05T10:56:36.949Z"
   },
   {
    "duration": 26,
    "start_time": "2023-01-05T10:56:36.957Z"
   },
   {
    "duration": 31,
    "start_time": "2023-01-05T10:56:36.985Z"
   },
   {
    "duration": 3,
    "start_time": "2023-01-05T10:57:16.257Z"
   },
   {
    "duration": 200,
    "start_time": "2023-01-05T10:57:16.262Z"
   },
   {
    "duration": 2,
    "start_time": "2023-01-05T10:57:16.465Z"
   },
   {
    "duration": 20,
    "start_time": "2023-01-05T10:57:16.469Z"
   },
   {
    "duration": 36,
    "start_time": "2023-01-05T10:57:16.492Z"
   },
   {
    "duration": 6,
    "start_time": "2023-01-05T10:57:16.530Z"
   },
   {
    "duration": 8,
    "start_time": "2023-01-05T10:57:16.538Z"
   },
   {
    "duration": 5,
    "start_time": "2023-01-05T10:57:16.547Z"
   },
   {
    "duration": 24,
    "start_time": "2023-01-05T10:57:16.578Z"
   },
   {
    "duration": 17,
    "start_time": "2023-01-05T10:57:16.604Z"
   },
   {
    "duration": 25,
    "start_time": "2023-01-05T10:57:16.623Z"
   },
   {
    "duration": 99,
    "start_time": "2023-01-05T10:57:16.649Z"
   },
   {
    "duration": 87,
    "start_time": "2023-01-05T10:57:16.750Z"
   },
   {
    "duration": 65,
    "start_time": "2023-01-05T10:57:16.839Z"
   },
   {
    "duration": 7,
    "start_time": "2023-01-05T10:57:16.906Z"
   },
   {
    "duration": 6,
    "start_time": "2023-01-05T10:57:16.915Z"
   },
   {
    "duration": 19,
    "start_time": "2023-01-05T10:57:16.923Z"
   },
   {
    "duration": 36,
    "start_time": "2023-01-05T10:57:16.944Z"
   },
   {
    "duration": 19,
    "start_time": "2023-01-05T10:57:16.981Z"
   },
   {
    "duration": 14,
    "start_time": "2023-01-05T10:57:17.002Z"
   },
   {
    "duration": 5,
    "start_time": "2023-01-05T10:57:17.017Z"
   },
   {
    "duration": 23,
    "start_time": "2023-01-05T10:57:17.023Z"
   },
   {
    "duration": 38,
    "start_time": "2023-01-05T10:57:17.048Z"
   },
   {
    "duration": 15,
    "start_time": "2023-01-05T10:57:17.088Z"
   },
   {
    "duration": 14,
    "start_time": "2023-01-05T10:57:17.105Z"
   },
   {
    "duration": 18,
    "start_time": "2023-01-05T10:57:17.121Z"
   },
   {
    "duration": 50,
    "start_time": "2023-01-05T10:57:17.140Z"
   },
   {
    "duration": 6,
    "start_time": "2023-01-05T10:57:17.192Z"
   },
   {
    "duration": 22,
    "start_time": "2023-01-05T10:57:17.202Z"
   },
   {
    "duration": 16,
    "start_time": "2023-01-05T10:57:17.225Z"
   },
   {
    "duration": 4,
    "start_time": "2023-01-05T10:57:17.243Z"
   },
   {
    "duration": 47,
    "start_time": "2023-01-05T10:57:17.249Z"
   },
   {
    "duration": 19,
    "start_time": "2023-01-05T10:57:17.298Z"
   },
   {
    "duration": 14,
    "start_time": "2023-01-05T10:57:17.320Z"
   },
   {
    "duration": 9,
    "start_time": "2023-01-05T10:57:17.337Z"
   },
   {
    "duration": 14,
    "start_time": "2023-01-05T10:57:17.347Z"
   },
   {
    "duration": 11,
    "start_time": "2023-01-05T10:57:17.378Z"
   },
   {
    "duration": 7,
    "start_time": "2023-01-05T10:57:17.391Z"
   },
   {
    "duration": 3,
    "start_time": "2023-01-05T10:57:37.337Z"
   },
   {
    "duration": 204,
    "start_time": "2023-01-05T10:57:37.343Z"
   },
   {
    "duration": 2,
    "start_time": "2023-01-05T10:57:37.549Z"
   },
   {
    "duration": 23,
    "start_time": "2023-01-05T10:57:37.554Z"
   },
   {
    "duration": 44,
    "start_time": "2023-01-05T10:57:37.579Z"
   },
   {
    "duration": 7,
    "start_time": "2023-01-05T10:57:37.624Z"
   },
   {
    "duration": 12,
    "start_time": "2023-01-05T10:57:37.632Z"
   },
   {
    "duration": 8,
    "start_time": "2023-01-05T10:57:37.645Z"
   },
   {
    "duration": 43,
    "start_time": "2023-01-05T10:57:37.656Z"
   },
   {
    "duration": 24,
    "start_time": "2023-01-05T10:57:37.701Z"
   },
   {
    "duration": 22,
    "start_time": "2023-01-05T10:57:37.726Z"
   },
   {
    "duration": 76,
    "start_time": "2023-01-05T10:57:37.750Z"
   },
   {
    "duration": 82,
    "start_time": "2023-01-05T10:57:37.828Z"
   },
   {
    "duration": 66,
    "start_time": "2023-01-05T10:57:37.912Z"
   },
   {
    "duration": 7,
    "start_time": "2023-01-05T10:57:37.980Z"
   },
   {
    "duration": 6,
    "start_time": "2023-01-05T10:57:37.988Z"
   },
   {
    "duration": 17,
    "start_time": "2023-01-05T10:57:37.995Z"
   },
   {
    "duration": 6,
    "start_time": "2023-01-05T10:57:38.014Z"
   },
   {
    "duration": 18,
    "start_time": "2023-01-05T10:57:38.022Z"
   },
   {
    "duration": 45,
    "start_time": "2023-01-05T10:57:38.042Z"
   },
   {
    "duration": 4,
    "start_time": "2023-01-05T10:57:38.089Z"
   },
   {
    "duration": 31,
    "start_time": "2023-01-05T10:57:38.094Z"
   },
   {
    "duration": 14,
    "start_time": "2023-01-05T10:57:38.128Z"
   },
   {
    "duration": 35,
    "start_time": "2023-01-05T10:57:38.146Z"
   },
   {
    "duration": 15,
    "start_time": "2023-01-05T10:57:38.183Z"
   },
   {
    "duration": 25,
    "start_time": "2023-01-05T10:57:38.200Z"
   },
   {
    "duration": 20,
    "start_time": "2023-01-05T10:57:38.227Z"
   },
   {
    "duration": 34,
    "start_time": "2023-01-05T10:57:38.250Z"
   },
   {
    "duration": 32,
    "start_time": "2023-01-05T10:57:38.286Z"
   },
   {
    "duration": 20,
    "start_time": "2023-01-05T10:57:38.320Z"
   },
   {
    "duration": 6,
    "start_time": "2023-01-05T10:57:38.342Z"
   },
   {
    "duration": 45,
    "start_time": "2023-01-05T10:57:38.349Z"
   },
   {
    "duration": 17,
    "start_time": "2023-01-05T10:57:38.396Z"
   },
   {
    "duration": 30,
    "start_time": "2023-01-05T10:57:38.415Z"
   },
   {
    "duration": 13,
    "start_time": "2023-01-05T10:57:38.447Z"
   },
   {
    "duration": 27,
    "start_time": "2023-01-05T10:57:38.461Z"
   },
   {
    "duration": 7,
    "start_time": "2023-01-05T10:57:38.490Z"
   },
   {
    "duration": 8,
    "start_time": "2023-01-05T10:57:38.498Z"
   }
  ],
  "colab": {
   "collapsed_sections": [
    "E0vqbgi9ay0H",
    "VUC88oWjTJw2"
   ],
   "name": "yandex_music_project_2021.2.ipynb",
   "provenance": []
  },
  "kernelspec": {
   "display_name": "Python 3 (ipykernel)",
   "language": "python",
   "name": "python3"
  },
  "language_info": {
   "codemirror_mode": {
    "name": "ipython",
    "version": 3
   },
   "file_extension": ".py",
   "mimetype": "text/x-python",
   "name": "python",
   "nbconvert_exporter": "python",
   "pygments_lexer": "ipython3",
   "version": "3.9.7"
  },
  "toc": {
   "base_numbering": 1,
   "nav_menu": {},
   "number_sections": true,
   "sideBar": true,
   "skip_h1_title": true,
   "title_cell": "Table of Contents",
   "title_sidebar": "Contents",
   "toc_cell": false,
   "toc_position": {
    "height": "calc(100% - 180px)",
    "left": "10px",
    "top": "150px",
    "width": "289.6px"
   },
   "toc_section_display": true,
   "toc_window_display": false
  }
 },
 "nbformat": 4,
 "nbformat_minor": 1
}
